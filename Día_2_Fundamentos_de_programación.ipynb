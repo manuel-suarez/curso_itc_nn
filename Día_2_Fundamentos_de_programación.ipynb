{
  "nbformat": 4,
  "nbformat_minor": 0,
  "metadata": {
    "colab": {
      "name": "Día 2.- Fundamentos de programación",
      "provenance": [],
      "authorship_tag": "ABX9TyNUB/eDixeU/rQ81IrnW4gT",
      "include_colab_link": true
    },
    "kernelspec": {
      "name": "python3",
      "display_name": "Python 3"
    },
    "language_info": {
      "name": "python"
    }
  },
  "cells": [
    {
      "cell_type": "markdown",
      "metadata": {
        "id": "view-in-github",
        "colab_type": "text"
      },
      "source": [
        "<a href=\"https://colab.research.google.com/github/manuel-suarez/curso_itc_nn/blob/main/D%C3%ADa_2_Fundamentos_de_programaci%C3%B3n.ipynb\" target=\"_parent\"><img src=\"https://colab.research.google.com/assets/colab-badge.svg\" alt=\"Open In Colab\"/></a>"
      ]
    },
    {
      "cell_type": "markdown",
      "source": [
        "# Fundamentos de Programación en Python"
      ],
      "metadata": {
        "id": "PWO0-uj2ZNjx"
      }
    },
    {
      "cell_type": "markdown",
      "source": [
        "## Variables y expresiones"
      ],
      "metadata": {
        "id": "CtrZvHmxZQn2"
      }
    },
    {
      "cell_type": "code",
      "execution_count": null,
      "metadata": {
        "id": "sQVC53ZtERbE"
      },
      "outputs": [],
      "source": [
        ""
      ]
    },
    {
      "cell_type": "markdown",
      "source": [
        "## Estructuras de Control"
      ],
      "metadata": {
        "id": "8aYHCgU-ZSRI"
      }
    },
    {
      "cell_type": "markdown",
      "source": [
        "### Estructuras de Bifurcación"
      ],
      "metadata": {
        "id": "fk-sA_DzZU0m"
      }
    },
    {
      "cell_type": "code",
      "source": [
        ""
      ],
      "metadata": {
        "id": "OKYkNq0BZWoh"
      },
      "execution_count": null,
      "outputs": []
    },
    {
      "cell_type": "markdown",
      "source": [
        "### Estructuras de Repetición"
      ],
      "metadata": {
        "id": "3JvC6jQjZW4x"
      }
    },
    {
      "cell_type": "code",
      "source": [
        ""
      ],
      "metadata": {
        "id": "0n9eX7DeZaP-"
      },
      "execution_count": null,
      "outputs": []
    },
    {
      "cell_type": "markdown",
      "source": [
        "## Clases"
      ],
      "metadata": {
        "id": "W0A2AOnlZayw"
      }
    },
    {
      "cell_type": "code",
      "source": [
        ""
      ],
      "metadata": {
        "id": "3tyn54PgZeIr"
      },
      "execution_count": null,
      "outputs": []
    },
    {
      "cell_type": "markdown",
      "source": [
        "## Bibliotecas"
      ],
      "metadata": {
        "id": "eeSkc8x2ZecW"
      }
    },
    {
      "cell_type": "code",
      "source": [
        ""
      ],
      "metadata": {
        "id": "UB9Ba7lSZgTO"
      },
      "execution_count": null,
      "outputs": []
    }
  ]
}