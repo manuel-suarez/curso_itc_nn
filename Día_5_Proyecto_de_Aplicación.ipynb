{
  "nbformat": 4,
  "nbformat_minor": 0,
  "metadata": {
    "colab": {
      "name": "Día 5.- Proyecto de Aplicación",
      "provenance": [],
      "authorship_tag": "ABX9TyN/ZyoxPo+krDPI4v9nGZce",
      "include_colab_link": true
    },
    "kernelspec": {
      "name": "python3",
      "display_name": "Python 3"
    },
    "language_info": {
      "name": "python"
    }
  },
  "cells": [
    {
      "cell_type": "markdown",
      "metadata": {
        "id": "view-in-github",
        "colab_type": "text"
      },
      "source": [
        "<a href=\"https://colab.research.google.com/github/manuel-suarez/curso_itc_nn/blob/main/D%C3%ADa_5_Proyecto_de_Aplicaci%C3%B3n.ipynb\" target=\"_parent\"><img src=\"https://colab.research.google.com/assets/colab-badge.svg\" alt=\"Open In Colab\"/></a>"
      ]
    },
    {
      "cell_type": "code",
      "execution_count": null,
      "metadata": {
        "id": "5KJwuSMfHxX0"
      },
      "outputs": [],
      "source": [
        ""
      ]
    }
  ]
}