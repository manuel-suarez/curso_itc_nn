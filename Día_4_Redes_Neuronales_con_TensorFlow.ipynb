{
  "nbformat": 4,
  "nbformat_minor": 0,
  "metadata": {
    "colab": {
      "name": "Día 4.- Redes Neuronales con TensorFlow",
      "provenance": [],
      "authorship_tag": "ABX9TyN6H5zMe36HlAVvTZS177dN",
      "include_colab_link": true
    },
    "kernelspec": {
      "name": "python3",
      "display_name": "Python 3"
    },
    "language_info": {
      "name": "python"
    }
  },
  "cells": [
    {
      "cell_type": "markdown",
      "metadata": {
        "id": "view-in-github",
        "colab_type": "text"
      },
      "source": [
        "<a href=\"https://colab.research.google.com/github/manuel-suarez/curso_itc_nn/blob/main/D%C3%ADa_4_Redes_Neuronales_con_TensorFlow.ipynb\" target=\"_parent\"><img src=\"https://colab.research.google.com/assets/colab-badge.svg\" alt=\"Open In Colab\"/></a>"
      ]
    },
    {
      "cell_type": "markdown",
      "source": [
        ""
      ],
      "metadata": {
        "id": "guSBvrxIbIW1"
      }
    },
    {
      "cell_type": "markdown",
      "source": [
        "## Modelos"
      ],
      "metadata": {
        "id": "LrnWVziHbI4w"
      }
    },
    {
      "cell_type": "markdown",
      "source": [
        "### Primer ejemplo"
      ],
      "metadata": {
        "id": "7Quxl5LMjPke"
      }
    },
    {
      "cell_type": "markdown",
      "source": [
        "#### Importación de las librerías"
      ],
      "metadata": {
        "id": "j8tpQRMo-V4N"
      }
    },
    {
      "cell_type": "code",
      "source": [
        ""
      ],
      "metadata": {
        "id": "SpzU4lmO-q-_"
      },
      "execution_count": null,
      "outputs": []
    },
    {
      "cell_type": "markdown",
      "source": [
        "#### Preparación de los datos"
      ],
      "metadata": {
        "id": "ljCDsvN8-c1a"
      }
    },
    {
      "cell_type": "code",
      "source": [
        ""
      ],
      "metadata": {
        "id": "QjsRcCEb-f1a"
      },
      "execution_count": null,
      "outputs": []
    },
    {
      "cell_type": "markdown",
      "source": [
        "#### Construcción y compilación del modelo"
      ],
      "metadata": {
        "id": "Sh2O2CDH-gEU"
      }
    },
    {
      "cell_type": "code",
      "source": [
        ""
      ],
      "metadata": {
        "id": "34EJ8_vp-jLd"
      },
      "execution_count": null,
      "outputs": []
    },
    {
      "cell_type": "markdown",
      "source": [
        "#### Entrenamiento y evaluación"
      ],
      "metadata": {
        "id": "MHEHud6j-jbJ"
      }
    },
    {
      "cell_type": "code",
      "source": [
        ""
      ],
      "metadata": {
        "id": "UwYqDXEn-k7J"
      },
      "execution_count": null,
      "outputs": []
    },
    {
      "cell_type": "markdown",
      "source": [
        "### [Clasificación de imágenes básica](https://www.tensorflow.org/tutorials/keras/classification)"
      ],
      "metadata": {
        "id": "JCytYKkRbK6k"
      }
    },
    {
      "cell_type": "code",
      "source": [
        ""
      ],
      "metadata": {
        "id": "cJVZrb-wbM9Y"
      },
      "execution_count": null,
      "outputs": []
    },
    {
      "cell_type": "markdown",
      "source": [
        "### [Clasificación de texto básica](https://www.tensorflow.org/tutorials/keras/text_classification)"
      ],
      "metadata": {
        "id": "ekKzS4oxbNbm"
      }
    },
    {
      "cell_type": "code",
      "source": [
        ""
      ],
      "metadata": {
        "id": "UtMrJwQRbPLG"
      },
      "execution_count": null,
      "outputs": []
    },
    {
      "cell_type": "markdown",
      "source": [
        "### [Clasificación de texto con TensorFlow](https://www.tensorflow.org/tutorials/keras/text_classification_with_hub)"
      ],
      "metadata": {
        "id": "QkDFtwEPbPnI"
      }
    },
    {
      "cell_type": "code",
      "source": [
        ""
      ],
      "metadata": {
        "id": "3GMMzQFe9mqo"
      },
      "execution_count": null,
      "outputs": []
    },
    {
      "cell_type": "markdown",
      "source": [
        "### [Regresión](https://www.tensorflow.org/tutorials/keras/regression)"
      ],
      "metadata": {
        "id": "vboD-mKCbSHA"
      }
    },
    {
      "cell_type": "code",
      "source": [
        ""
      ],
      "metadata": {
        "id": "xzA5oYtsbTfC"
      },
      "execution_count": null,
      "outputs": []
    },
    {
      "cell_type": "markdown",
      "source": [
        "### [Sobreajuste y subajuste](https://www.tensorflow.org/tutorials/keras/overfit_and_underfit)"
      ],
      "metadata": {
        "id": "HUxPlxOpbUBs"
      }
    },
    {
      "cell_type": "code",
      "source": [
        ""
      ],
      "metadata": {
        "id": "XYa86Tb2bVfG"
      },
      "execution_count": null,
      "outputs": []
    },
    {
      "cell_type": "markdown",
      "source": [
        "### [Guardado de modelos](https://www.tensorflow.org/tutorials/keras/save_and_load)"
      ],
      "metadata": {
        "id": "rFDnSHRS9W3L"
      }
    },
    {
      "cell_type": "code",
      "source": [
        ""
      ],
      "metadata": {
        "id": "aqZN_CBI9Ya9"
      },
      "execution_count": null,
      "outputs": []
    }
  ]
}