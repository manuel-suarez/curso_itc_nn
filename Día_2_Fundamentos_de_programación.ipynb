{
  "nbformat": 4,
  "nbformat_minor": 0,
  "metadata": {
    "colab": {
      "name": "Día 2.- Fundamentos de programación",
      "provenance": [],
      "authorship_tag": "ABX9TyNb63hjrF8FJmrt9NUFZhH7",
      "include_colab_link": true
    },
    "kernelspec": {
      "name": "python3",
      "display_name": "Python 3"
    },
    "language_info": {
      "name": "python"
    }
  },
  "cells": [
    {
      "cell_type": "markdown",
      "metadata": {
        "id": "view-in-github",
        "colab_type": "text"
      },
      "source": [
        "<a href=\"https://colab.research.google.com/github/manuel-suarez/curso_itc_nn/blob/main/D%C3%ADa_2_Fundamentos_de_programaci%C3%B3n.ipynb\" target=\"_parent\"><img src=\"https://colab.research.google.com/assets/colab-badge.svg\" alt=\"Open In Colab\"/></a>"
      ]
    },
    {
      "cell_type": "markdown",
      "source": [
        "# Fundamentos de Programación en Python"
      ],
      "metadata": {
        "id": "PWO0-uj2ZNjx"
      }
    },
    {
      "cell_type": "markdown",
      "source": [
        "## Variables y expresiones"
      ],
      "metadata": {
        "id": "CtrZvHmxZQn2"
      }
    },
    {
      "cell_type": "markdown",
      "source": [
        "### Variables"
      ],
      "metadata": {
        "id": "d-N7QMRgnCmH"
      }
    },
    {
      "cell_type": "code",
      "source": [
        ""
      ],
      "metadata": {
        "id": "ziVLl8yenAq8"
      },
      "execution_count": null,
      "outputs": []
    },
    {
      "cell_type": "markdown",
      "source": [
        "### Expresiones"
      ],
      "metadata": {
        "id": "JF1X-KqTnEhJ"
      }
    },
    {
      "cell_type": "code",
      "execution_count": null,
      "metadata": {
        "id": "sQVC53ZtERbE"
      },
      "outputs": [],
      "source": [
        ""
      ]
    },
    {
      "cell_type": "markdown",
      "source": [
        "### Cadenas de caracteres"
      ],
      "metadata": {
        "id": "LJ_n8PQ2nH7T"
      }
    },
    {
      "cell_type": "code",
      "source": [
        ""
      ],
      "metadata": {
        "id": "PjrMJuc3nJW0"
      },
      "execution_count": null,
      "outputs": []
    },
    {
      "cell_type": "markdown",
      "source": [
        "## Estructuras de Control"
      ],
      "metadata": {
        "id": "8aYHCgU-ZSRI"
      }
    },
    {
      "cell_type": "markdown",
      "source": [
        "### Estructuras de Bifurcación"
      ],
      "metadata": {
        "id": "fk-sA_DzZU0m"
      }
    },
    {
      "cell_type": "code",
      "source": [
        ""
      ],
      "metadata": {
        "id": "OKYkNq0BZWoh"
      },
      "execution_count": null,
      "outputs": []
    },
    {
      "cell_type": "markdown",
      "source": [
        "### Estructuras de Repetición"
      ],
      "metadata": {
        "id": "3JvC6jQjZW4x"
      }
    },
    {
      "cell_type": "code",
      "source": [
        ""
      ],
      "metadata": {
        "id": "0n9eX7DeZaP-"
      },
      "execution_count": null,
      "outputs": []
    },
    {
      "cell_type": "markdown",
      "source": [
        "#### Break, continue, else"
      ],
      "metadata": {
        "id": "F2tSyp1OnPtZ"
      }
    },
    {
      "cell_type": "code",
      "source": [
        ""
      ],
      "metadata": {
        "id": "KhXukjG4nSH_"
      },
      "execution_count": null,
      "outputs": []
    },
    {
      "cell_type": "markdown",
      "source": [
        "#### Pass"
      ],
      "metadata": {
        "id": "kdvQsnnHnT39"
      }
    },
    {
      "cell_type": "code",
      "source": [
        ""
      ],
      "metadata": {
        "id": "InILfkzInVPf"
      },
      "execution_count": null,
      "outputs": []
    },
    {
      "cell_type": "markdown",
      "source": [
        "#### Match"
      ],
      "metadata": {
        "id": "fQyPSSS0nWLN"
      }
    },
    {
      "cell_type": "code",
      "source": [
        ""
      ],
      "metadata": {
        "id": "fbNpPzwCnXxn"
      },
      "execution_count": null,
      "outputs": []
    },
    {
      "cell_type": "markdown",
      "source": [
        "### Funciones"
      ],
      "metadata": {
        "id": "alyAEZ6qnZok"
      }
    },
    {
      "cell_type": "code",
      "source": [
        ""
      ],
      "metadata": {
        "id": "OpOrPSRpnbON"
      },
      "execution_count": null,
      "outputs": []
    },
    {
      "cell_type": "markdown",
      "source": [
        "#### Argumentos por omisión"
      ],
      "metadata": {
        "id": "zGtHKqPiniSx"
      }
    },
    {
      "cell_type": "code",
      "source": [
        ""
      ],
      "metadata": {
        "id": "H_3gkjfxnk7f"
      },
      "execution_count": null,
      "outputs": []
    },
    {
      "cell_type": "markdown",
      "source": [
        "#### Argumentos por nombre"
      ],
      "metadata": {
        "id": "T5J3n13pnlWG"
      }
    },
    {
      "cell_type": "code",
      "source": [
        ""
      ],
      "metadata": {
        "id": "rwjN4ywCnoj9"
      },
      "execution_count": null,
      "outputs": []
    },
    {
      "cell_type": "markdown",
      "source": [
        "#### Argumentos por lista"
      ],
      "metadata": {
        "id": "ISk7wPh5noy3"
      }
    },
    {
      "cell_type": "code",
      "source": [
        ""
      ],
      "metadata": {
        "id": "pB0fl8bInrr1"
      },
      "execution_count": null,
      "outputs": []
    },
    {
      "cell_type": "markdown",
      "source": [
        "#### Unpacking"
      ],
      "metadata": {
        "id": "LWJele-1nsp5"
      }
    },
    {
      "cell_type": "code",
      "source": [
        ""
      ],
      "metadata": {
        "id": "8qghjDhenuEF"
      },
      "execution_count": null,
      "outputs": []
    },
    {
      "cell_type": "markdown",
      "source": [
        "### Expresiones Lambda"
      ],
      "metadata": {
        "id": "JsE7EmQLnvJF"
      }
    },
    {
      "cell_type": "code",
      "source": [
        ""
      ],
      "metadata": {
        "id": "MtiSnU-knw1L"
      },
      "execution_count": null,
      "outputs": []
    },
    {
      "cell_type": "markdown",
      "source": [
        "### Cadenas de documentación"
      ],
      "metadata": {
        "id": "OfsqLVJunyFF"
      }
    },
    {
      "cell_type": "code",
      "source": [
        ""
      ],
      "metadata": {
        "id": "VXKo4CpSnz8t"
      },
      "execution_count": null,
      "outputs": []
    },
    {
      "cell_type": "markdown",
      "source": [
        "## Estructuras de datos"
      ],
      "metadata": {
        "id": "KT8B7smXn05B"
      }
    },
    {
      "cell_type": "markdown",
      "source": [
        "### Listas"
      ],
      "metadata": {
        "id": "ZsEKjU28oOzl"
      }
    },
    {
      "cell_type": "code",
      "source": [
        ""
      ],
      "metadata": {
        "id": "CTq2o39Ln11n"
      },
      "execution_count": null,
      "outputs": []
    },
    {
      "cell_type": "markdown",
      "source": [
        "### Listas por comprensión"
      ],
      "metadata": {
        "id": "4e-dKSivn43U"
      }
    },
    {
      "cell_type": "code",
      "source": [
        ""
      ],
      "metadata": {
        "id": "budCAfXSn6Zb"
      },
      "execution_count": null,
      "outputs": []
    },
    {
      "cell_type": "markdown",
      "source": [
        "### Tuplas y secuencias"
      ],
      "metadata": {
        "id": "zAwoSQvFoCTb"
      }
    },
    {
      "cell_type": "code",
      "source": [
        ""
      ],
      "metadata": {
        "id": "U2kdinrGoEMS"
      },
      "execution_count": null,
      "outputs": []
    },
    {
      "cell_type": "markdown",
      "source": [
        "### Conjuntos"
      ],
      "metadata": {
        "id": "wEJcoQCioFqe"
      }
    },
    {
      "cell_type": "code",
      "source": [
        ""
      ],
      "metadata": {
        "id": "1Ggu_ZyzoGvw"
      },
      "execution_count": null,
      "outputs": []
    },
    {
      "cell_type": "markdown",
      "source": [
        "### Diccionarios"
      ],
      "metadata": {
        "id": "jMt_M3yZoKx6"
      }
    },
    {
      "cell_type": "code",
      "source": [
        ""
      ],
      "metadata": {
        "id": "72j0hb51oMAg"
      },
      "execution_count": null,
      "outputs": []
    },
    {
      "cell_type": "markdown",
      "source": [
        "## Entrada y salida"
      ],
      "metadata": {
        "id": "UW0svWJNoREl"
      }
    },
    {
      "cell_type": "markdown",
      "source": [
        "### Archivos"
      ],
      "metadata": {
        "id": "PW_P4LtvoS5z"
      }
    },
    {
      "cell_type": "code",
      "source": [
        ""
      ],
      "metadata": {
        "id": "Qn3xmhSwoUFj"
      },
      "execution_count": null,
      "outputs": []
    },
    {
      "cell_type": "markdown",
      "source": [
        "### Archivos Zip"
      ],
      "metadata": {
        "id": "fV-8cbEUoUVY"
      }
    },
    {
      "cell_type": "code",
      "source": [
        ""
      ],
      "metadata": {
        "id": "PrkyLqHeoVk5"
      },
      "execution_count": null,
      "outputs": []
    },
    {
      "cell_type": "markdown",
      "source": [
        "## Clases"
      ],
      "metadata": {
        "id": "W0A2AOnlZayw"
      }
    },
    {
      "cell_type": "code",
      "source": [
        ""
      ],
      "metadata": {
        "id": "3tyn54PgZeIr"
      },
      "execution_count": null,
      "outputs": []
    },
    {
      "cell_type": "markdown",
      "source": [
        "### Variables de clase y de instancia"
      ],
      "metadata": {
        "id": "yqVTvYbfoYXi"
      }
    },
    {
      "cell_type": "markdown",
      "source": [
        "### Métodos"
      ],
      "metadata": {
        "id": "X1DwXQsWobLo"
      }
    },
    {
      "cell_type": "code",
      "source": [
        ""
      ],
      "metadata": {
        "id": "DZXO4huCofgd"
      },
      "execution_count": null,
      "outputs": []
    },
    {
      "cell_type": "markdown",
      "source": [
        "### Herencia"
      ],
      "metadata": {
        "id": "M_jIU2BZoeMm"
      }
    },
    {
      "cell_type": "code",
      "source": [
        ""
      ],
      "metadata": {
        "id": "8wOBOvlfogfe"
      },
      "execution_count": null,
      "outputs": []
    },
    {
      "cell_type": "markdown",
      "source": [
        "## Bibliotecas"
      ],
      "metadata": {
        "id": "eeSkc8x2ZecW"
      }
    },
    {
      "cell_type": "markdown",
      "source": [
        "### Módulos"
      ],
      "metadata": {
        "id": "TTtxsHxboiP8"
      }
    },
    {
      "cell_type": "code",
      "source": [
        ""
      ],
      "metadata": {
        "id": "UB9Ba7lSZgTO"
      },
      "execution_count": null,
      "outputs": []
    },
    {
      "cell_type": "markdown",
      "source": [
        "### Paquetes"
      ],
      "metadata": {
        "id": "HeMEWi0gokaU"
      }
    },
    {
      "cell_type": "code",
      "source": [
        ""
      ],
      "metadata": {
        "id": "NvFtAI0nomL1"
      },
      "execution_count": null,
      "outputs": []
    },
    {
      "cell_type": "markdown",
      "source": [
        "### Biblioteca estándar\n",
        "[Módulos de la biblioteca estándar](https://docs.python.org/3/tutorial/stdlib.html\n",
        "Arturo)"
      ],
      "metadata": {
        "id": "aZ7yXgAMomip"
      }
    }
  ]
}