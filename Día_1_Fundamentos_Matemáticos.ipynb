{
  "nbformat": 4,
  "nbformat_minor": 0,
  "metadata": {
    "colab": {
      "name": "Día 1.- Fundamentos Matemáticos",
      "provenance": [],
      "collapsed_sections": [],
      "authorship_tag": "ABX9TyPC9tCE9mo74pkw4l4zKHWJ",
      "include_colab_link": true
    },
    "kernelspec": {
      "name": "python3",
      "display_name": "Python 3"
    },
    "language_info": {
      "name": "python"
    }
  },
  "cells": [
    {
      "cell_type": "markdown",
      "metadata": {
        "id": "view-in-github",
        "colab_type": "text"
      },
      "source": [
        "<a href=\"https://colab.research.google.com/github/manuel-suarez/curso_itc_nn/blob/soluciones/D%C3%ADa_1_Fundamentos_Matem%C3%A1ticos.ipynb\" target=\"_parent\"><img src=\"https://colab.research.google.com/assets/colab-badge.svg\" alt=\"Open In Colab\"/></a>"
      ]
    },
    {
      "cell_type": "markdown",
      "source": [
        "# Fundamentos matemáticos\n",
        "Ejercicios prácticos de los conceptos matemáticos introductorios a redes neuronales"
      ],
      "metadata": {
        "id": "702Kjtf-AeAu"
      }
    },
    {
      "cell_type": "markdown",
      "source": [
        "## Cálculo"
      ],
      "metadata": {
        "id": "GPK7xa1rAmjj"
      }
    },
    {
      "cell_type": "markdown",
      "source": [
        "### Definición de funciones"
      ],
      "metadata": {
        "id": "NgjGMYgYCrYD"
      }
    },
    {
      "cell_type": "markdown",
      "source": [
        "$f_1(x) = x^5 $"
      ],
      "metadata": {
        "id": "6xluv-lOISbK"
      }
    },
    {
      "cell_type": "markdown",
      "source": [
        "Vamos a crear una función"
      ],
      "metadata": {
        "id": "-onCWVqSA-H-"
      }
    },
    {
      "cell_type": "code",
      "execution_count": null,
      "metadata": {
        "id": "3l-7D8aaAKWK"
      },
      "outputs": [],
      "source": [
        "def f_1(x):\n",
        "  return x**5"
      ]
    },
    {
      "cell_type": "code",
      "source": [
        "print(f_1(5))\n",
        "print(f_1(4))"
      ],
      "metadata": {
        "colab": {
          "base_uri": "https://localhost:8080/"
        },
        "id": "qa32MGJZDaww",
        "outputId": "2b0cc2b8-3c8f-466b-d12e-c46629a28618"
      },
      "execution_count": null,
      "outputs": [
        {
          "output_type": "stream",
          "name": "stdout",
          "text": [
            "3125\n",
            "1024\n"
          ]
        }
      ]
    },
    {
      "cell_type": "markdown",
      "source": [
        "$f_2(x) = \\frac{\\sin(x)}{x}$"
      ],
      "metadata": {
        "id": "rsOTiVtkITn8"
      }
    },
    {
      "cell_type": "code",
      "source": [
        "# import math\n",
        "from math import sin\n",
        "\n",
        "def f_2(x):\n",
        "  return sin(x) / x"
      ],
      "metadata": {
        "id": "6Nrs4jOPIX_m"
      },
      "execution_count": null,
      "outputs": []
    },
    {
      "cell_type": "code",
      "source": [
        "print(f_2(2))"
      ],
      "metadata": {
        "colab": {
          "base_uri": "https://localhost:8080/"
        },
        "id": "Bl822KIGF_fC",
        "outputId": "5e7d8ec5-68f0-4bc4-a5cc-2a516f3c2d5a"
      },
      "execution_count": null,
      "outputs": [
        {
          "output_type": "stream",
          "name": "stdout",
          "text": [
            "0.45464871341284085\n"
          ]
        }
      ]
    },
    {
      "cell_type": "markdown",
      "source": [
        "$f_3(x) = \\frac{1}{2\\pi}e^{\\frac{x^2-\\mu}{\\sigma}}$"
      ],
      "metadata": {
        "id": "bJXVu5oEIplZ"
      }
    },
    {
      "cell_type": "code",
      "source": [
        "from math import exp, pi\n",
        "\n",
        "def f_3(x):\n",
        "  return (1 / (2 * pi)) * exp( (x**2 - mu) / sigma )"
      ],
      "metadata": {
        "id": "sk2cDe9XI_XQ"
      },
      "execution_count": null,
      "outputs": []
    },
    {
      "cell_type": "code",
      "source": [
        "mu = 5\n",
        "sigma = 3\n",
        "print(f_3(5))\n",
        "print(f_3(6))"
      ],
      "metadata": {
        "colab": {
          "base_uri": "https://localhost:8080/"
        },
        "id": "f8p_EktjIeJn",
        "outputId": "abf748cb-db90-41e8-b969-bacfe25e8371"
      },
      "execution_count": null,
      "outputs": [
        {
          "output_type": "stream",
          "name": "stdout",
          "text": [
            "125.05949702446975\n",
            "4892.48809976048\n"
          ]
        }
      ]
    },
    {
      "cell_type": "markdown",
      "source": [
        "### Derivación de funciones\n",
        "[Biblioteca SymPy](https://www.sympy.org/en/index.html)"
      ],
      "metadata": {
        "id": "v1__KzsOCtsB"
      }
    },
    {
      "cell_type": "code",
      "source": [
        "from sympy import symbols\n",
        "x = symbols('x')\n",
        "expr = x**3 + 2*x**2 - x - 1\n",
        "expr"
      ],
      "metadata": {
        "colab": {
          "base_uri": "https://localhost:8080/",
          "height": 39
        },
        "id": "ovB30r3xCxBz",
        "outputId": "cf7a6da4-ad17-4a1a-df71-3fe3369aa146"
      },
      "execution_count": null,
      "outputs": [
        {
          "output_type": "execute_result",
          "data": {
            "text/plain": [
              "x**3 + 2*x**2 - x - 1"
            ],
            "text/latex": "$\\displaystyle x^{3} + 2 x^{2} - x - 1$"
          },
          "metadata": {},
          "execution_count": 65
        }
      ]
    },
    {
      "cell_type": "code",
      "source": [
        "from sympy import diff\n",
        "diff(expr)"
      ],
      "metadata": {
        "colab": {
          "base_uri": "https://localhost:8080/",
          "height": 39
        },
        "id": "JH3aEUodKik7",
        "outputId": "eddcb19d-3926-41ef-d8dc-ca004480793f"
      },
      "execution_count": null,
      "outputs": [
        {
          "output_type": "execute_result",
          "data": {
            "text/plain": [
              "3*x**2 + 4*x - 1"
            ],
            "text/latex": "$\\displaystyle 3 x^{2} + 4 x - 1$"
          },
          "metadata": {},
          "execution_count": 66
        }
      ]
    },
    {
      "cell_type": "markdown",
      "source": [
        "Derivar las siguientes expresiones\n",
        "\n",
        "$f_1(x) = x^5 + 3x^4 - 6x^3 + x^2 - x - 2$\n",
        "\n",
        "$f_2(x) = \\frac{x^2-2}{x^3+5}$\n",
        "\n",
        "$f_3(x) = (x^2-6)(x^3+2x^2-x)$\n",
        "\n",
        "$f_4(x) = e^{2x^2-3}$\n",
        "\n",
        "$f_5(x) = ln(\\frac{2x^2-3x}{x^4+3x^2})$"
      ],
      "metadata": {
        "id": "3tYnqiv-LA19"
      }
    },
    {
      "cell_type": "code",
      "source": [
        "f_1 = x**5 + 3*x**4 - 6*x**3 + x**2 - x - 2\n",
        "f_1"
      ],
      "metadata": {
        "id": "J9BAMlDTMxcP",
        "colab": {
          "base_uri": "https://localhost:8080/",
          "height": 39
        },
        "outputId": "1c013bad-5636-474d-fb16-2d466b689138"
      },
      "execution_count": null,
      "outputs": [
        {
          "output_type": "execute_result",
          "data": {
            "text/plain": [
              "x**5 + 3*x**4 - 6*x**3 + x**2 - x - 2"
            ],
            "text/latex": "$\\displaystyle x^{5} + 3 x^{4} - 6 x^{3} + x^{2} - x - 2$"
          },
          "metadata": {},
          "execution_count": 70
        }
      ]
    },
    {
      "cell_type": "code",
      "source": [
        "diff(f_1)"
      ],
      "metadata": {
        "colab": {
          "base_uri": "https://localhost:8080/",
          "height": 39
        },
        "id": "KoekXxVYLdae",
        "outputId": "57e2c1c1-a964-455c-9f43-c0fe3151a316"
      },
      "execution_count": null,
      "outputs": [
        {
          "output_type": "execute_result",
          "data": {
            "text/plain": [
              "5*x**4 + 12*x**3 - 18*x**2 + 2*x - 1"
            ],
            "text/latex": "$\\displaystyle 5 x^{4} + 12 x^{3} - 18 x^{2} + 2 x - 1$"
          },
          "metadata": {},
          "execution_count": 71
        }
      ]
    },
    {
      "cell_type": "code",
      "source": [
        "f_2 = (x**2 - 2) / (x**3 + 5)\n",
        "f_2"
      ],
      "metadata": {
        "id": "KZ82qPLiM5xl",
        "colab": {
          "base_uri": "https://localhost:8080/",
          "height": 55
        },
        "outputId": "3b98259a-5ae7-434f-b83e-ce244345fae0"
      },
      "execution_count": null,
      "outputs": [
        {
          "output_type": "execute_result",
          "data": {
            "text/plain": [
              "(x**2 - 2)/(x**3 + 5)"
            ],
            "text/latex": "$\\displaystyle \\frac{x^{2} - 2}{x^{3} + 5}$"
          },
          "metadata": {},
          "execution_count": 72
        }
      ]
    },
    {
      "cell_type": "code",
      "source": [
        "diff(f_2)"
      ],
      "metadata": {
        "id": "8S7iI5UWM7QP",
        "colab": {
          "base_uri": "https://localhost:8080/",
          "height": 62
        },
        "outputId": "5b4f4437-702f-4f28-8d4e-caaa0722a8f9"
      },
      "execution_count": null,
      "outputs": [
        {
          "output_type": "execute_result",
          "data": {
            "text/plain": [
              "-3*x**2*(x**2 - 2)/(x**3 + 5)**2 + 2*x/(x**3 + 5)"
            ],
            "text/latex": "$\\displaystyle - \\frac{3 x^{2} \\left(x^{2} - 2\\right)}{\\left(x^{3} + 5\\right)^{2}} + \\frac{2 x}{x^{3} + 5}$"
          },
          "metadata": {},
          "execution_count": 73
        }
      ]
    },
    {
      "cell_type": "code",
      "source": [
        "f_3 = (x**2 - 6) * (x**3 + 2*x**2 - x)\n",
        "f_3"
      ],
      "metadata": {
        "colab": {
          "base_uri": "https://localhost:8080/",
          "height": 39
        },
        "id": "8TRBHZY5P_XR",
        "outputId": "34c2371d-fba6-41bb-8e2c-d3ba81f47b17"
      },
      "execution_count": null,
      "outputs": [
        {
          "output_type": "execute_result",
          "data": {
            "text/plain": [
              "(x**2 - 6)*(x**3 + 2*x**2 - x)"
            ],
            "text/latex": "$\\displaystyle \\left(x^{2} - 6\\right) \\left(x^{3} + 2 x^{2} - x\\right)$"
          },
          "metadata": {},
          "execution_count": 75
        }
      ]
    },
    {
      "cell_type": "code",
      "source": [
        "diff(f_3)"
      ],
      "metadata": {
        "colab": {
          "base_uri": "https://localhost:8080/",
          "height": 39
        },
        "id": "MsXp8J1aQDyE",
        "outputId": "92d662a6-d61f-40f5-c910-6d50b78bd2f4"
      },
      "execution_count": null,
      "outputs": [
        {
          "output_type": "execute_result",
          "data": {
            "text/plain": [
              "2*x*(x**3 + 2*x**2 - x) + (x**2 - 6)*(3*x**2 + 4*x - 1)"
            ],
            "text/latex": "$\\displaystyle 2 x \\left(x^{3} + 2 x^{2} - x\\right) + \\left(x^{2} - 6\\right) \\left(3 x^{2} + 4 x - 1\\right)$"
          },
          "metadata": {},
          "execution_count": 76
        }
      ]
    },
    {
      "cell_type": "code",
      "source": [
        "from sympy.functions.elementary.exponential import exp\n",
        "f_4 = exp(2*x**2 - 3)\n",
        "f_4"
      ],
      "metadata": {
        "colab": {
          "base_uri": "https://localhost:8080/",
          "height": 41
        },
        "id": "-_UY-_m9RaKH",
        "outputId": "5dac3934-023e-458b-95b6-cab2e228ac3c"
      },
      "execution_count": null,
      "outputs": [
        {
          "output_type": "execute_result",
          "data": {
            "text/plain": [
              "exp(2*x**2 - 3)"
            ],
            "text/latex": "$\\displaystyle e^{2 x^{2} - 3}$"
          },
          "metadata": {},
          "execution_count": 84
        }
      ]
    },
    {
      "cell_type": "code",
      "source": [
        "diff(f_4)"
      ],
      "metadata": {
        "colab": {
          "base_uri": "https://localhost:8080/",
          "height": 41
        },
        "id": "Uu1-VWVtRaCr",
        "outputId": "9c28d6c9-1ade-4b3c-e932-cc4bc213dffd"
      },
      "execution_count": null,
      "outputs": [
        {
          "output_type": "execute_result",
          "data": {
            "text/plain": [
              "4*x*exp(2*x**2 - 3)"
            ],
            "text/latex": "$\\displaystyle 4 x e^{2 x^{2} - 3}$"
          },
          "metadata": {},
          "execution_count": 78
        }
      ]
    },
    {
      "cell_type": "code",
      "source": [
        "from sympy.functions.elementary.exponential import log\n",
        "f_5 = log( (2*x**2 - 3*x) / (x**4 + 3*x**2) )\n",
        "f_5"
      ],
      "metadata": {
        "colab": {
          "base_uri": "https://localhost:8080/",
          "height": 58
        },
        "id": "Y5Cjh8gnTAIb",
        "outputId": "e35e0427-a607-4d8c-8dd2-05e452fceb0a"
      },
      "execution_count": null,
      "outputs": [
        {
          "output_type": "execute_result",
          "data": {
            "text/plain": [
              "log((2*x**2 - 3*x)/(x**4 + 3*x**2))"
            ],
            "text/latex": "$\\displaystyle \\log{\\left(\\frac{2 x^{2} - 3 x}{x^{4} + 3 x^{2}} \\right)}$"
          },
          "metadata": {},
          "execution_count": 79
        }
      ]
    },
    {
      "cell_type": "code",
      "source": [
        "diff(f_5)"
      ],
      "metadata": {
        "colab": {
          "base_uri": "https://localhost:8080/",
          "height": 77
        },
        "id": "pr1raCl9TG_t",
        "outputId": "1fcacb90-7439-4d33-d7d0-01ff92109667"
      },
      "execution_count": null,
      "outputs": [
        {
          "output_type": "execute_result",
          "data": {
            "text/plain": [
              "(x**4 + 3*x**2)*((4*x - 3)/(x**4 + 3*x**2) + (2*x**2 - 3*x)*(-4*x**3 - 6*x)/(x**4 + 3*x**2)**2)/(2*x**2 - 3*x)"
            ],
            "text/latex": "$\\displaystyle \\frac{\\left(x^{4} + 3 x^{2}\\right) \\left(\\frac{4 x - 3}{x^{4} + 3 x^{2}} + \\frac{\\left(2 x^{2} - 3 x\\right) \\left(- 4 x^{3} - 6 x\\right)}{\\left(x^{4} + 3 x^{2}\\right)^{2}}\\right)}{2 x^{2} - 3 x}$"
          },
          "metadata": {},
          "execution_count": 80
        }
      ]
    },
    {
      "cell_type": "markdown",
      "source": [
        "## Algebra Lineal"
      ],
      "metadata": {
        "id": "VoUapHwbBhHu"
      }
    },
    {
      "cell_type": "markdown",
      "source": [
        "### Vectores y matrices\n",
        "[Biblioteca NumPy](https://numpy.org/)"
      ],
      "metadata": {
        "id": "mWMkEt8mC3ep"
      }
    },
    {
      "cell_type": "markdown",
      "source": [
        "Declarar un vector de 5 elementos"
      ],
      "metadata": {
        "id": "vXotMGSQM1q6"
      }
    },
    {
      "cell_type": "code",
      "source": [
        "import numpy as np\n",
        "\n",
        "x = np.array( [ 4, 7, 2, 9, 10 ] )\n",
        "print(x)\n",
        "print(x.transpose())\n",
        "print(x.shape)\n",
        "print(x.ndim)"
      ],
      "metadata": {
        "id": "U2pFXoH1BjJd",
        "colab": {
          "base_uri": "https://localhost:8080/"
        },
        "outputId": "143a1dec-9ec0-486b-fce9-d7da09753593"
      },
      "execution_count": null,
      "outputs": [
        {
          "output_type": "stream",
          "name": "stdout",
          "text": [
            "[ 4  7  2  9 10]\n",
            "[ 4  7  2  9 10]\n",
            "(5,)\n",
            "1\n"
          ]
        }
      ]
    },
    {
      "cell_type": "markdown",
      "source": [
        "Declarar un vector columna de 5 elementos"
      ],
      "metadata": {
        "id": "HYu623_yM7FF"
      }
    },
    {
      "cell_type": "code",
      "source": [
        "x = np.array( [[ 3, 6, 7, 2, 8 ]] )\n",
        "y = x.transpose()\n",
        "print(x)\n",
        "print(y)\n",
        "print(x.shape)\n",
        "print(y.shape)\n",
        "print(x.ndim, y.ndim)"
      ],
      "metadata": {
        "id": "yUjy9iQZLomY",
        "colab": {
          "base_uri": "https://localhost:8080/"
        },
        "outputId": "5f7e9dd6-2b33-406a-aab4-6becbed4c9fd"
      },
      "execution_count": null,
      "outputs": [
        {
          "output_type": "stream",
          "name": "stdout",
          "text": [
            "[[3 6 7 2 8]]\n",
            "[[3]\n",
            " [6]\n",
            " [7]\n",
            " [2]\n",
            " [8]]\n",
            "(1, 5)\n",
            "(5, 1)\n",
            "2 2\n"
          ]
        }
      ]
    },
    {
      "cell_type": "markdown",
      "source": [
        "Declarar una matriz de dimensiones $5 \\times 4$"
      ],
      "metadata": {
        "id": "iazLvbX9NHcq"
      }
    },
    {
      "cell_type": "code",
      "source": [
        "x = np.array( [ [3, 5, 5, 9], [4, 6, 4, -1], [6, 7, 4, 0], [6, 9, 11, -2], [4, 6, 9, -2] ], dtype='int64' )\n",
        "x"
      ],
      "metadata": {
        "id": "sTh_PULuNCuO",
        "colab": {
          "base_uri": "https://localhost:8080/"
        },
        "outputId": "957ae2e7-283c-4e76-a686-1fa09d9d8daa"
      },
      "execution_count": null,
      "outputs": [
        {
          "output_type": "execute_result",
          "data": {
            "text/plain": [
              "array([[ 3,  5,  5,  9],\n",
              "       [ 4,  6,  4, -1],\n",
              "       [ 6,  7,  4,  0],\n",
              "       [ 6,  9, 11, -2],\n",
              "       [ 4,  6,  9, -2]])"
            ]
          },
          "metadata": {},
          "execution_count": 162
        }
      ]
    },
    {
      "cell_type": "code",
      "source": [
        "x.shape"
      ],
      "metadata": {
        "colab": {
          "base_uri": "https://localhost:8080/"
        },
        "id": "7pbYA1XnjM21",
        "outputId": "753d34fc-b27b-4eb3-bb8c-e89ce52cae26"
      },
      "execution_count": null,
      "outputs": [
        {
          "output_type": "execute_result",
          "data": {
            "text/plain": [
              "(5, 4)"
            ]
          },
          "metadata": {},
          "execution_count": 149
        }
      ]
    },
    {
      "cell_type": "code",
      "source": [
        "x.ndim"
      ],
      "metadata": {
        "colab": {
          "base_uri": "https://localhost:8080/"
        },
        "id": "_oGXN-UXjx8X",
        "outputId": "598962ce-e7bf-4e55-faf5-cd4fc7b05656"
      },
      "execution_count": null,
      "outputs": [
        {
          "output_type": "execute_result",
          "data": {
            "text/plain": [
              "2"
            ]
          },
          "metadata": {},
          "execution_count": 150
        }
      ]
    },
    {
      "cell_type": "code",
      "source": [
        "x.dtype.name"
      ],
      "metadata": {
        "colab": {
          "base_uri": "https://localhost:8080/",
          "height": 35
        },
        "id": "6ST5WKF1oLfg",
        "outputId": "c549c6b4-42e4-4f03-9257-8c807fc10f60"
      },
      "execution_count": null,
      "outputs": [
        {
          "output_type": "execute_result",
          "data": {
            "text/plain": [
              "'int64'"
            ],
            "application/vnd.google.colaboratory.intrinsic+json": {
              "type": "string"
            }
          },
          "metadata": {},
          "execution_count": 155
        }
      ]
    },
    {
      "cell_type": "markdown",
      "source": [
        "Obtener la transpuesta de la matriz declarada previamente"
      ],
      "metadata": {
        "id": "ajkLhpwuNK-y"
      }
    },
    {
      "cell_type": "code",
      "source": [
        "#y = x.transpose()\n",
        "y = x.T\n",
        "y"
      ],
      "metadata": {
        "id": "Nh5TUfDUNN98",
        "colab": {
          "base_uri": "https://localhost:8080/"
        },
        "outputId": "52c28108-37d1-4c84-bb54-1ecde01dd707"
      },
      "execution_count": null,
      "outputs": [
        {
          "output_type": "execute_result",
          "data": {
            "text/plain": [
              "array([[ 3,  4,  6,  6,  4],\n",
              "       [ 5,  6,  7,  9,  6],\n",
              "       [ 5,  4,  4, 11,  9],\n",
              "       [ 9, -1,  0, -2, -2]])"
            ]
          },
          "metadata": {},
          "execution_count": 169
        }
      ]
    },
    {
      "cell_type": "code",
      "source": [
        "y.shape"
      ],
      "metadata": {
        "colab": {
          "base_uri": "https://localhost:8080/"
        },
        "id": "MPqLC1u6jRg1",
        "outputId": "fd18a305-2383-42a1-8117-141002b5d881"
      },
      "execution_count": null,
      "outputs": [
        {
          "output_type": "execute_result",
          "data": {
            "text/plain": [
              "(4, 5)"
            ]
          },
          "metadata": {},
          "execution_count": 170
        }
      ]
    },
    {
      "cell_type": "code",
      "source": [
        "y.ndim"
      ],
      "metadata": {
        "colab": {
          "base_uri": "https://localhost:8080/"
        },
        "id": "LldHP4EPj3Pw",
        "outputId": "34b5da3a-29a9-4481-ddd8-17becfb86c68"
      },
      "execution_count": null,
      "outputs": [
        {
          "output_type": "execute_result",
          "data": {
            "text/plain": [
              "2"
            ]
          },
          "metadata": {},
          "execution_count": 171
        }
      ]
    },
    {
      "cell_type": "code",
      "source": [
        "y.size"
      ],
      "metadata": {
        "colab": {
          "base_uri": "https://localhost:8080/"
        },
        "id": "2BrLzYKOq5Sj",
        "outputId": "bf70b26d-b41a-4935-d000-318371e95d8e"
      },
      "execution_count": null,
      "outputs": [
        {
          "output_type": "execute_result",
          "data": {
            "text/plain": [
              "20"
            ]
          },
          "metadata": {},
          "execution_count": 172
        }
      ]
    },
    {
      "cell_type": "code",
      "source": [
        "z = np.array( [ [[1,2,3],[1,2,3],[1,2,3]], [[4,5,6],[4,5,6],[4,5,6]] ] )\n",
        "z"
      ],
      "metadata": {
        "colab": {
          "base_uri": "https://localhost:8080/"
        },
        "id": "nog6dpNbkZV8",
        "outputId": "edaf046b-d48f-4517-9484-4e45293f9081"
      },
      "execution_count": null,
      "outputs": [
        {
          "output_type": "execute_result",
          "data": {
            "text/plain": [
              "array([[[1, 2, 3],\n",
              "        [1, 2, 3],\n",
              "        [1, 2, 3]],\n",
              "\n",
              "       [[4, 5, 6],\n",
              "        [4, 5, 6],\n",
              "        [4, 5, 6]]])"
            ]
          },
          "metadata": {},
          "execution_count": 132
        }
      ]
    },
    {
      "cell_type": "code",
      "source": [
        "z.shape"
      ],
      "metadata": {
        "colab": {
          "base_uri": "https://localhost:8080/"
        },
        "id": "JaG_cG8Mk1S9",
        "outputId": "b2ae7b90-3f8d-470e-9c0e-91f16df0330f"
      },
      "execution_count": null,
      "outputs": [
        {
          "output_type": "execute_result",
          "data": {
            "text/plain": [
              "(2, 3, 3)"
            ]
          },
          "metadata": {},
          "execution_count": 133
        }
      ]
    },
    {
      "cell_type": "code",
      "source": [
        "z.ndim"
      ],
      "metadata": {
        "colab": {
          "base_uri": "https://localhost:8080/"
        },
        "id": "d2jDhtFUk2rD",
        "outputId": "ed8b74e9-721b-412f-caf6-86d19e336d27"
      },
      "execution_count": null,
      "outputs": [
        {
          "output_type": "execute_result",
          "data": {
            "text/plain": [
              "3"
            ]
          },
          "metadata": {},
          "execution_count": 134
        }
      ]
    },
    {
      "cell_type": "code",
      "source": [
        "z.size"
      ],
      "metadata": {
        "colab": {
          "base_uri": "https://localhost:8080/"
        },
        "id": "bzApkF0jq9yh",
        "outputId": "5bd60a6c-af9b-4dec-f084-70e82f1d0dbb"
      },
      "execution_count": null,
      "outputs": [
        {
          "output_type": "execute_result",
          "data": {
            "text/plain": [
              "18"
            ]
          },
          "metadata": {},
          "execution_count": 173
        }
      ]
    },
    {
      "cell_type": "markdown",
      "source": [
        "Obtener una matriz Identidad de tamaño $5$"
      ],
      "metadata": {
        "id": "0VeZVqRfNRlE"
      }
    },
    {
      "cell_type": "code",
      "source": [
        "np.eye(5)"
      ],
      "metadata": {
        "id": "Hi_pj8viNRHX",
        "colab": {
          "base_uri": "https://localhost:8080/"
        },
        "outputId": "58b3aef5-0963-4413-ef3d-f77df0c7d5fd"
      },
      "execution_count": null,
      "outputs": [
        {
          "output_type": "execute_result",
          "data": {
            "text/plain": [
              "array([[1., 0., 0., 0., 0.],\n",
              "       [0., 1., 0., 0., 0.],\n",
              "       [0., 0., 1., 0., 0.],\n",
              "       [0., 0., 0., 1., 0.],\n",
              "       [0., 0., 0., 0., 1.]])"
            ]
          },
          "metadata": {},
          "execution_count": 176
        }
      ]
    },
    {
      "cell_type": "markdown",
      "source": [
        "Obtener una matriz de zeros de tamaño $5 \\times 5$"
      ],
      "metadata": {
        "id": "E6r5GalkNe1k"
      }
    },
    {
      "cell_type": "code",
      "source": [
        "np.zeros( (3,3,2) )"
      ],
      "metadata": {
        "id": "V8eldvvXNjER",
        "colab": {
          "base_uri": "https://localhost:8080/"
        },
        "outputId": "29674cd7-b6c3-4445-b5a6-c76a1da1bf59"
      },
      "execution_count": null,
      "outputs": [
        {
          "output_type": "execute_result",
          "data": {
            "text/plain": [
              "array([[[0., 0.],\n",
              "        [0., 0.],\n",
              "        [0., 0.]],\n",
              "\n",
              "       [[0., 0.],\n",
              "        [0., 0.],\n",
              "        [0., 0.]],\n",
              "\n",
              "       [[0., 0.],\n",
              "        [0., 0.],\n",
              "        [0., 0.]]])"
            ]
          },
          "metadata": {},
          "execution_count": 184
        }
      ]
    },
    {
      "cell_type": "code",
      "source": [
        "np.ones( (5,5) )"
      ],
      "metadata": {
        "colab": {
          "base_uri": "https://localhost:8080/"
        },
        "id": "jkqJh0QIsm_L",
        "outputId": "5148f588-95cb-4ea3-9eb0-2ce69371622c"
      },
      "execution_count": null,
      "outputs": [
        {
          "output_type": "execute_result",
          "data": {
            "text/plain": [
              "array([[1., 1., 1., 1., 1.],\n",
              "       [1., 1., 1., 1., 1.],\n",
              "       [1., 1., 1., 1., 1.],\n",
              "       [1., 1., 1., 1., 1.],\n",
              "       [1., 1., 1., 1., 1.]])"
            ]
          },
          "metadata": {},
          "execution_count": 201
        }
      ]
    },
    {
      "cell_type": "markdown",
      "source": [
        "### Operaciones con vectores y matrices"
      ],
      "metadata": {
        "id": "sN6X2OkDC5Ro"
      }
    },
    {
      "cell_type": "markdown",
      "source": [
        "#### Suma y resta de vectores y matrices"
      ],
      "metadata": {
        "id": "lzbpCAT8PqiO"
      }
    },
    {
      "cell_type": "code",
      "source": [
        "x = np.array([[1,1,1], [2,2,2], [3,3,3]])\n",
        "y = np.array([[1,1,1], [2,2,2], [3,3,4]])\n",
        "print(x)\n",
        "print(y)\n",
        "print(x + y)\n",
        "print(x - y)"
      ],
      "metadata": {
        "id": "L5SRwwGUPqLF",
        "colab": {
          "base_uri": "https://localhost:8080/"
        },
        "outputId": "bb36ab08-24f1-44cc-85fa-269c47754c2d"
      },
      "execution_count": null,
      "outputs": [
        {
          "output_type": "stream",
          "name": "stdout",
          "text": [
            "[[1 1 1]\n",
            " [2 2 2]\n",
            " [3 3 3]]\n",
            "[[1 1 1]\n",
            " [2 2 2]\n",
            " [3 3 4]]\n",
            "[[2 2 2]\n",
            " [4 4 4]\n",
            " [6 6 7]]\n",
            "[[ 0  0  0]\n",
            " [ 0  0  0]\n",
            " [ 0  0 -1]]\n"
          ]
        }
      ]
    },
    {
      "cell_type": "markdown",
      "source": [
        "#### Multiplicación y división elemento a elemento (element-wise)"
      ],
      "metadata": {
        "id": "MJKb4vFHPwm6"
      }
    },
    {
      "cell_type": "code",
      "source": [
        "print(x * y)\n",
        "print(x / y)"
      ],
      "metadata": {
        "id": "Q5_e41L2P2G9",
        "colab": {
          "base_uri": "https://localhost:8080/"
        },
        "outputId": "20096c64-66e1-436a-caf4-573595f83fef"
      },
      "execution_count": null,
      "outputs": [
        {
          "output_type": "stream",
          "name": "stdout",
          "text": [
            "[[ 1  1  1]\n",
            " [ 4  4  4]\n",
            " [ 9  9 12]]\n",
            "[[1.   1.   1.  ]\n",
            " [1.   1.   1.  ]\n",
            " [1.   1.   0.75]]\n"
          ]
        }
      ]
    },
    {
      "cell_type": "markdown",
      "source": [
        "#### Funciones sobre vectores y matrices"
      ],
      "metadata": {
        "id": "Wp4-LY2uP4uB"
      }
    },
    {
      "cell_type": "code",
      "source": [
        "x = np.array([[3,4], [6,1]])\n",
        "y = np.sin(x)\n",
        "print(y)"
      ],
      "metadata": {
        "id": "BjWW3yl7P71e",
        "colab": {
          "base_uri": "https://localhost:8080/"
        },
        "outputId": "11f70440-2cfa-45ce-ea0f-e8fe507bc1a9"
      },
      "execution_count": null,
      "outputs": [
        {
          "output_type": "stream",
          "name": "stdout",
          "text": [
            "[[ 0.14112001 -0.7568025 ]\n",
            " [-0.2794155   0.84147098]]\n"
          ]
        }
      ]
    },
    {
      "cell_type": "code",
      "source": [
        "np.array([[sin(3), sin(4)], [sin(6), sin(1)]])"
      ],
      "metadata": {
        "colab": {
          "base_uri": "https://localhost:8080/"
        },
        "id": "3k4Yk2g-wqaW",
        "outputId": "fba63a0f-a886-468d-eaf4-f43bc71ec067"
      },
      "execution_count": null,
      "outputs": [
        {
          "output_type": "execute_result",
          "data": {
            "text/plain": [
              "array([[ 0.14112001, -0.7568025 ],\n",
              "       [-0.2794155 ,  0.84147098]])"
            ]
          },
          "metadata": {},
          "execution_count": 199
        }
      ]
    },
    {
      "cell_type": "code",
      "source": [
        "y = np.exp(x)\n",
        "print(y)"
      ],
      "metadata": {
        "colab": {
          "base_uri": "https://localhost:8080/"
        },
        "id": "QDs_-qJ8whAN",
        "outputId": "c3d695ab-995f-4b24-dc38-5250979944c1"
      },
      "execution_count": null,
      "outputs": [
        {
          "output_type": "stream",
          "name": "stdout",
          "text": [
            "[[ 20.08553692  54.59815003]\n",
            " [403.42879349   2.71828183]]\n"
          ]
        }
      ]
    },
    {
      "cell_type": "markdown",
      "source": [
        "#### Multiplicación de vectores y matrices"
      ],
      "metadata": {
        "id": "6UkCpWXKQDqn"
      }
    },
    {
      "cell_type": "code",
      "source": [
        "x = np.array([[2,4],[5,6],[1,2]])\n",
        "y = np.array([[2,4,5],[6,2,1]])\n",
        "print(x, x.shape)\n",
        "print(y, y.shape)"
      ],
      "metadata": {
        "id": "TMHmHvESQF4y",
        "colab": {
          "base_uri": "https://localhost:8080/"
        },
        "outputId": "85b83add-9cc5-45f2-d2bf-c8ddceea6838"
      },
      "execution_count": null,
      "outputs": [
        {
          "output_type": "stream",
          "name": "stdout",
          "text": [
            "[[2 4]\n",
            " [5 6]\n",
            " [1 2]] (3, 2)\n",
            "[[2 4 5]\n",
            " [6 2 1]] (2, 3)\n"
          ]
        }
      ]
    },
    {
      "cell_type": "code",
      "source": [
        "z = np.matmul(x, y)\n",
        "print(z, z.shape)"
      ],
      "metadata": {
        "colab": {
          "base_uri": "https://localhost:8080/"
        },
        "id": "a0aafV1Q0eKQ",
        "outputId": "ac204af5-8adb-46b5-a33a-1882dff9682e"
      },
      "execution_count": null,
      "outputs": [
        {
          "output_type": "stream",
          "name": "stdout",
          "text": [
            "[[28 16 14]\n",
            " [46 32 31]\n",
            " [14  8  7]] (3, 3)\n"
          ]
        }
      ]
    },
    {
      "cell_type": "code",
      "source": [
        "z = np.matmul(y, x)\n",
        "print(z, z.shape)"
      ],
      "metadata": {
        "colab": {
          "base_uri": "https://localhost:8080/"
        },
        "id": "Tt2h_ILQ1PEx",
        "outputId": "a256f832-414d-4d40-f519-b07f42d27635"
      },
      "execution_count": null,
      "outputs": [
        {
          "output_type": "stream",
          "name": "stdout",
          "text": [
            "[[29 42]\n",
            " [23 38]] (2, 2)\n"
          ]
        }
      ]
    },
    {
      "cell_type": "code",
      "source": [
        "x = np.array([[2,4,4],[5,6,2],[1,2,2]])\n",
        "y = np.array([[2,4,5],[6,2,1]])\n",
        "print(x, x.shape)\n",
        "print(y, y.shape)"
      ],
      "metadata": {
        "colab": {
          "base_uri": "https://localhost:8080/"
        },
        "id": "YMBlQ43Y1flM",
        "outputId": "cf2db1c7-b359-47da-c751-6f7a081c5506"
      },
      "execution_count": null,
      "outputs": [
        {
          "output_type": "stream",
          "name": "stdout",
          "text": [
            "[[2 4 4]\n",
            " [5 6 2]\n",
            " [1 2 2]] (3, 3)\n",
            "[[2 4 5]\n",
            " [6 2 1]] (2, 3)\n"
          ]
        }
      ]
    },
    {
      "cell_type": "code",
      "source": [
        "z = np.matmul(x, y)\n",
        "print(z, z.shape)"
      ],
      "metadata": {
        "colab": {
          "base_uri": "https://localhost:8080/",
          "height": 183
        },
        "id": "r9w7Jx651qBH",
        "outputId": "b3b173f0-3114-46e2-f9db-32ffee73b15a"
      },
      "execution_count": null,
      "outputs": [
        {
          "output_type": "error",
          "ename": "ValueError",
          "evalue": "ignored",
          "traceback": [
            "\u001b[0;31m---------------------------------------------------------------------------\u001b[0m",
            "\u001b[0;31mValueError\u001b[0m                                Traceback (most recent call last)",
            "\u001b[0;32m<ipython-input-224-ec5b8db23886>\u001b[0m in \u001b[0;36m<module>\u001b[0;34m()\u001b[0m\n\u001b[0;32m----> 1\u001b[0;31m \u001b[0mz\u001b[0m \u001b[0;34m=\u001b[0m \u001b[0mnp\u001b[0m\u001b[0;34m.\u001b[0m\u001b[0mmatmul\u001b[0m\u001b[0;34m(\u001b[0m\u001b[0mx\u001b[0m\u001b[0;34m,\u001b[0m \u001b[0my\u001b[0m\u001b[0;34m)\u001b[0m\u001b[0;34m\u001b[0m\u001b[0;34m\u001b[0m\u001b[0m\n\u001b[0m\u001b[1;32m      2\u001b[0m \u001b[0mprint\u001b[0m\u001b[0;34m(\u001b[0m\u001b[0mz\u001b[0m\u001b[0;34m,\u001b[0m \u001b[0mz\u001b[0m\u001b[0;34m.\u001b[0m\u001b[0mshape\u001b[0m\u001b[0;34m)\u001b[0m\u001b[0;34m\u001b[0m\u001b[0;34m\u001b[0m\u001b[0m\n",
            "\u001b[0;31mValueError\u001b[0m: matmul: Input operand 1 has a mismatch in its core dimension 0, with gufunc signature (n?,k),(k,m?)->(n?,m?) (size 2 is different from 3)"
          ]
        }
      ]
    },
    {
      "cell_type": "code",
      "source": [
        "z = np.matmul(y, x)\n",
        "print(z, z.shape)"
      ],
      "metadata": {
        "id": "DW1N7uXO1zYo"
      },
      "execution_count": null,
      "outputs": []
    },
    {
      "cell_type": "code",
      "source": [
        "x = np.array([2,3,4])\n",
        "y = np.array([4,5,6])\n",
        "print(x, x.shape)\n",
        "print(y, y.shape)\n",
        "print(np.matmul(x,y))"
      ],
      "metadata": {
        "colab": {
          "base_uri": "https://localhost:8080/"
        },
        "id": "3ALJKbTO4iMZ",
        "outputId": "6a5c4e47-35c4-4478-85ac-d65ddec6e0e4"
      },
      "execution_count": null,
      "outputs": [
        {
          "output_type": "stream",
          "name": "stdout",
          "text": [
            "[2 3 4] (3,)\n",
            "[4 5 6] (3,)\n",
            "47\n"
          ]
        }
      ]
    },
    {
      "cell_type": "code",
      "source": [
        "x = np.array([ [2,3,4] ])\n",
        "y = np.array([ [4,5,6] ]).T\n",
        "print(x, x.shape)\n",
        "print(y, y.shape)"
      ],
      "metadata": {
        "colab": {
          "base_uri": "https://localhost:8080/"
        },
        "id": "LDzZbOGH31K-",
        "outputId": "817b2aa0-437c-4433-92f3-f11cee14e5c5"
      },
      "execution_count": null,
      "outputs": [
        {
          "output_type": "stream",
          "name": "stdout",
          "text": [
            "[[2 3 4]] (1, 3)\n",
            "[[4]\n",
            " [5]\n",
            " [6]] (3, 1)\n"
          ]
        }
      ]
    },
    {
      "cell_type": "code",
      "source": [
        "z = np.matmul(x, y)\n",
        "print(z, z.shape)"
      ],
      "metadata": {
        "colab": {
          "base_uri": "https://localhost:8080/"
        },
        "id": "BxIoywSm3_Y0",
        "outputId": "726be8b2-9720-4e63-e328-f44593e4620a"
      },
      "execution_count": null,
      "outputs": [
        {
          "output_type": "stream",
          "name": "stdout",
          "text": [
            "[[47]] (1, 1)\n"
          ]
        }
      ]
    },
    {
      "cell_type": "code",
      "source": [
        "z = np.matmul(y, x)\n",
        "print(z, z.shape)"
      ],
      "metadata": {
        "colab": {
          "base_uri": "https://localhost:8080/"
        },
        "id": "h2okXKR64CoV",
        "outputId": "a53e26ae-dad0-4efa-9e90-4bd13d2a0431"
      },
      "execution_count": null,
      "outputs": [
        {
          "output_type": "stream",
          "name": "stdout",
          "text": [
            "[[ 8 12 16]\n",
            " [10 15 20]\n",
            " [12 18 24]] (3, 3)\n"
          ]
        }
      ]
    },
    {
      "cell_type": "markdown",
      "source": [
        "### Solución de sistemas de ecuaciones\n",
        "$$\n",
        "\\begin{array}{ccc}\n",
        "2x + 3y + 4z & = & 20 \\\\\n",
        "3x - 5y -  z & = & -10 \\\\\n",
        "-x + 2y - 3z & = & -6 \\end{array}\n",
        "$$"
      ],
      "metadata": {
        "id": "yaeubq8XC7hy"
      }
    },
    {
      "cell_type": "code",
      "source": [
        "A = np.array([ [2, 3, 4], [3, -5, -1], [-1, 2, -3] ])\n",
        "b = np.array([[ 20, -10, -6 ]]).T\n",
        "print(A, A.shape)\n",
        "print(b, b.shape)"
      ],
      "metadata": {
        "colab": {
          "base_uri": "https://localhost:8080/"
        },
        "id": "RoLbhaqN67Sn",
        "outputId": "27f7d49e-5d9f-4506-e716-c179c75cc4ee"
      },
      "execution_count": null,
      "outputs": [
        {
          "output_type": "stream",
          "name": "stdout",
          "text": [
            "[[ 2  3  4]\n",
            " [ 3 -5 -1]\n",
            " [-1  2 -3]] (3, 3)\n",
            "[[ 20]\n",
            " [-10]\n",
            " [ -6]] (3, 1)\n"
          ]
        }
      ]
    },
    {
      "cell_type": "code",
      "source": [
        "x = np.linalg.solve(A, b)\n",
        "print(x, x.shape)"
      ],
      "metadata": {
        "colab": {
          "base_uri": "https://localhost:8080/"
        },
        "id": "CfTomE0m7YHc",
        "outputId": "f536d705-9e84-412e-c34d-11571ae39905"
      },
      "execution_count": null,
      "outputs": [
        {
          "output_type": "stream",
          "name": "stdout",
          "text": [
            "[[1.]\n",
            " [2.]\n",
            " [3.]] (3, 1)\n"
          ]
        }
      ]
    },
    {
      "cell_type": "code",
      "source": [
        "np.matmul(A, x)"
      ],
      "metadata": {
        "colab": {
          "base_uri": "https://localhost:8080/"
        },
        "id": "eHqw4CXF7uGk",
        "outputId": "a371d07a-e40f-47c7-df4d-5fcd0f29a862"
      },
      "execution_count": null,
      "outputs": [
        {
          "output_type": "execute_result",
          "data": {
            "text/plain": [
              "array([[ 20.],\n",
              "       [-10.],\n",
              "       [ -6.]])"
            ]
          },
          "metadata": {},
          "execution_count": 241
        }
      ]
    },
    {
      "cell_type": "markdown",
      "source": [
        "## Probabilidad"
      ],
      "metadata": {
        "id": "jPdirvlhBjaV"
      }
    },
    {
      "cell_type": "markdown",
      "source": [
        "### Distribuciones de probabilidad"
      ],
      "metadata": {
        "id": "8wSkUiwFC_BS"
      }
    },
    {
      "cell_type": "markdown",
      "source": [
        "#### Distribución uniforme\n",
        "[Biblioteca Random](https://docs.python.org/3/library/random.html)"
      ],
      "metadata": {
        "id": "B8tjWXZFSDSA"
      }
    },
    {
      "cell_type": "code",
      "source": [
        ""
      ],
      "metadata": {
        "id": "kCBUNF00BrFS"
      },
      "execution_count": null,
      "outputs": []
    },
    {
      "cell_type": "markdown",
      "source": [
        "[SciPy Statistical Functions](https://docs.scipy.org/doc/scipy/reference/stats.html)"
      ],
      "metadata": {
        "id": "qMMd-kW9UIiy"
      }
    },
    {
      "cell_type": "code",
      "source": [
        "from scipy.stats import norm\n",
        "import matplotlib.pyplot as plt\n",
        "fig, ax = plt.subplots(1, 1)\n",
        "\n",
        "x = np.linspace(norm.ppf(0.01),\n",
        "                norm.ppf(0.99), 100)\n",
        "ax.plot(x, norm.pdf(x))"
      ],
      "metadata": {
        "id": "n4rlazYpUMWh",
        "colab": {
          "base_uri": "https://localhost:8080/",
          "height": 282
        },
        "outputId": "836a09c0-70e3-4bf1-f729-4dd8269e0343"
      },
      "execution_count": null,
      "outputs": [
        {
          "output_type": "execute_result",
          "data": {
            "text/plain": [
              "[<matplotlib.lines.Line2D at 0x7fca7b74a910>]"
            ]
          },
          "metadata": {},
          "execution_count": 252
        },
        {
          "output_type": "display_data",
          "data": {
            "text/plain": [
              "<Figure size 432x288 with 1 Axes>"
            ],
            "image/png": "[encoded data removed]"
          },
          "metadata": {
            "needs_background": "light"
          }
        }
      ]
    },
    {
      "cell_type": "markdown",
      "source": [
        "## Optimización"
      ],
      "metadata": {
        "id": "Ie9Ya5SZBrhr"
      }
    },
    {
      "cell_type": "markdown",
      "source": [
        "[SciPy](https://docs.scipy.org/doc/scipy/tutorial/optimize.html)\n"
      ],
      "metadata": {
        "id": "ud5FNwEXDC_V"
      }
    },
    {
      "cell_type": "markdown",
      "source": [
        "### Ajuste de funciones"
      ],
      "metadata": {
        "id": "5EjsgWVuDF20"
      }
    },
    {
      "cell_type": "markdown",
      "source": [
        "[Ejemplo de Ajuste de funciones](https://docs.scipy.org/doc/scipy/tutorial/optimize.html#example-of-solving-a-fitting-problem)"
      ],
      "metadata": {
        "id": "asyNXaHwPDgf"
      }
    },
    {
      "cell_type": "code",
      "source": [
        "from scipy.optimize import least_squares"
      ],
      "metadata": {
        "id": "FD6UliFkDHe4"
      },
      "execution_count": null,
      "outputs": []
    },
    {
      "cell_type": "code",
      "source": [
        "def model(x, u):\n",
        "    return x[0] * (u ** 2 + x[1] * u) / (u ** 2 + x[2] * u + x[3])"
      ],
      "metadata": {
        "id": "K2RnCdPHC1Tr"
      },
      "execution_count": null,
      "outputs": []
    },
    {
      "cell_type": "code",
      "source": [
        "def fun(x, u, y):\n",
        "    return model(x, u) - y"
      ],
      "metadata": {
        "id": "kO_DAEXvDAvw"
      },
      "execution_count": null,
      "outputs": []
    },
    {
      "cell_type": "code",
      "source": [
        "def jac(x, u, y):\n",
        "    J = np.empty((u.size, x.size))\n",
        "    den = u ** 2 + x[2] * u + x[3]\n",
        "    num = u ** 2 + x[1] * u\n",
        "    J[:, 0] = num / den\n",
        "    J[:, 1] = x[0] * u / den\n",
        "    J[:, 2] = -x[0] * num * u / den ** 2\n",
        "    J[:, 3] = -x[0] * num / den ** 2\n",
        "    return J"
      ],
      "metadata": {
        "id": "_tmbMKAeDIA6"
      },
      "execution_count": null,
      "outputs": []
    },
    {
      "cell_type": "code",
      "source": [
        "u = np.array([4.0, 2.0, 1.0, 5.0e-1, 2.5e-1, 1.67e-1, 1.25e-1, 1.0e-1,\n",
        "              8.33e-2, 7.14e-2, 6.25e-2])\n",
        "y = np.array([1.957e-1, 1.947e-1, 1.735e-1, 1.6e-1, 8.44e-2, 6.27e-2,\n",
        "              4.56e-2, 3.42e-2, 3.23e-2, 2.35e-2, 2.46e-2])\n",
        "x0 = np.array([2.5, 3.9, 4.15, 3.9])\n",
        "res = least_squares(fun, x0, jac=jac, bounds=(0, 100), args=(u, y), verbose=1)"
      ],
      "metadata": {
        "colab": {
          "base_uri": "https://localhost:8080/"
        },
        "id": "AaWVT0n2DPJj",
        "outputId": "9cabeeb8-7efa-4b8f-ca63-1e875b6d3cb9"
      },
      "execution_count": null,
      "outputs": [
        {
          "output_type": "stream",
          "name": "stdout",
          "text": [
            "`ftol` termination condition is satisfied.\n",
            "Function evaluations 131, initial cost 4.4383e+00, final cost 1.5375e-04, first-order optimality 4.52e-08.\n"
          ]
        }
      ]
    },
    {
      "cell_type": "code",
      "source": [
        "import matplotlib.pyplot as plt\n",
        "u_test = np.linspace(0, 5)\n",
        "y_test = model(res.x, u_test)\n",
        "plt.plot(u, y, 'o', markersize=4, label='data')\n",
        "plt.plot(u_test, y_test, label='fitted model')\n",
        "plt.xlabel(\"u\")\n",
        "plt.ylabel(\"y\")\n",
        "plt.legend(loc='lower right')\n",
        "plt.show()"
      ],
      "metadata": {
        "colab": {
          "base_uri": "https://localhost:8080/",
          "height": 279
        },
        "id": "kLCJNninDj1P",
        "outputId": "a79b6a42-69f1-45c6-c9b3-f71ef9310506"
      },
      "execution_count": null,
      "outputs": [
        {
          "output_type": "display_data",
          "data": {
            "text/plain": [
              "<Figure size 432x288 with 1 Axes>"
            ],
            "image/png": "[encoded data removed]"
          },
          "metadata": {
            "needs_background": "light"
          }
        }
      ]
    }
  ]
}