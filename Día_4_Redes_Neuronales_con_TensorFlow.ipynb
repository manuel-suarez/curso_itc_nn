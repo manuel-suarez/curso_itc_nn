{
  "nbformat": 4,
  "nbformat_minor": 0,
  "metadata": {
    "colab": {
      "name": "Día 4.- Redes Neuronales con TensorFlow",
      "provenance": [],
      "authorship_tag": "ABX9TyNaAoA9MEO32OT/ja5+KWw+",
      "include_colab_link": true
    },
    "kernelspec": {
      "name": "python3",
      "display_name": "Python 3"
    },
    "language_info": {
      "name": "python"
    }
  },
  "cells": [
    {
      "cell_type": "markdown",
      "metadata": {
        "id": "view-in-github",
        "colab_type": "text"
      },
      "source": [
        "<a href=\"https://colab.research.google.com/github/manuel-suarez/curso_itc_nn/blob/soluciones/D%C3%ADa_4_Redes_Neuronales_con_TensorFlow.ipynb\" target=\"_parent\"><img src=\"https://colab.research.google.com/assets/colab-badge.svg\" alt=\"Open In Colab\"/></a>"
      ]
    },
    {
      "cell_type": "markdown",
      "source": [
        ""
      ],
      "metadata": {
        "id": "guSBvrxIbIW1"
      }
    },
    {
      "cell_type": "markdown",
      "source": [
        "## Modelos"
      ],
      "metadata": {
        "id": "LrnWVziHbI4w"
      }
    },
    {
      "cell_type": "markdown",
      "source": [
        "### Primer ejemplo\n",
        "[Guia inicial de TensorFlow 2.0 para principiantes](https://www.tensorflow.org/tutorials/quickstart/beginner)"
      ],
      "metadata": {
        "id": "7Quxl5LMjPke"
      }
    },
    {
      "cell_type": "markdown",
      "source": [
        "#### Importación de las librerías"
      ],
      "metadata": {
        "id": "j8tpQRMo-V4N"
      }
    },
    {
      "cell_type": "code",
      "source": [
        "import tensorflow as tf\n",
        "tf.__version__"
      ],
      "metadata": {
        "id": "SpzU4lmO-q-_",
        "outputId": "d2183c55-02bd-47c6-86dd-ca8787851fe7",
        "colab": {
          "base_uri": "https://localhost:8080/",
          "height": 35
        }
      },
      "execution_count": 62,
      "outputs": [
        {
          "output_type": "execute_result",
          "data": {
            "text/plain": [
              "'2.8.2'"
            ],
            "application/vnd.google.colaboratory.intrinsic+json": {
              "type": "string"
            }
          },
          "metadata": {},
          "execution_count": 62
        }
      ]
    },
    {
      "cell_type": "markdown",
      "source": [
        "#### Preparación de los datos\n",
        "[Base de datos MNIST](http://yann.lecun.com/exdb/mnist/)"
      ],
      "metadata": {
        "id": "ljCDsvN8-c1a"
      }
    },
    {
      "cell_type": "code",
      "source": [
        "mnist = tf.keras.datasets.mnist\n",
        "\n",
        "(x_train, y_train), (x_test, y_test) = mnist.load_data()\n",
        "x_train, x_test = x_train / 255.0, x_test / 255.0"
      ],
      "metadata": {
        "id": "QjsRcCEb-f1a"
      },
      "execution_count": 79,
      "outputs": []
    },
    {
      "cell_type": "code",
      "source": [
        "print(x_train.shape, y_train.shape)\n",
        "print(x_test.shape, y_test.shape)"
      ],
      "metadata": {
        "id": "OYiiidXlaV6N",
        "outputId": "7d8d3880-cff8-4174-9569-ff69a9d3d71e",
        "colab": {
          "base_uri": "https://localhost:8080/"
        }
      },
      "execution_count": 80,
      "outputs": [
        {
          "output_type": "stream",
          "name": "stdout",
          "text": [
            "(60000, 28, 28) (60000,)\n",
            "(10000, 28, 28) (10000,)\n"
          ]
        }
      ]
    },
    {
      "cell_type": "code",
      "source": [
        "x_train[0].shape\n",
        "x_train[0]\n",
        "import matplotlib.pyplot as plt\n",
        "print(y_train[0])\n",
        "plt.imshow(x_train[0], cmap='gray')\n",
        "plt.grid(False)\n",
        "\n",
        "print(y_train[1])\n",
        "plt.figure()\n",
        "plt.imshow(x_train[1], cmap='gray')\n",
        "plt.grid(False)"
      ],
      "metadata": {
        "id": "Q_bgfWANa5ct"
      },
      "execution_count": null,
      "outputs": []
    },
    {
      "cell_type": "code",
      "source": [
        "fig, ax = plt.subplots(4, 4, figsize = (6,6))\n",
        "\n",
        "for i in range(4):\n",
        "  for j in range(4):\n",
        "    ax[i,j].imshow(x_train[4*i+j], cmap='gray')\n",
        "    ax[i,j].grid(False)\n",
        "\n",
        "plt.plot()"
      ],
      "metadata": {
        "id": "NDEDdMEIeR4x"
      },
      "execution_count": null,
      "outputs": []
    },
    {
      "cell_type": "code",
      "source": [
        "y_train[0:16]"
      ],
      "metadata": {
        "id": "8CsXFVHagq82",
        "outputId": "cbcc2cd7-a7fb-4d31-d288-a1a61cf95890",
        "colab": {
          "base_uri": "https://localhost:8080/"
        }
      },
      "execution_count": 94,
      "outputs": [
        {
          "output_type": "execute_result",
          "data": {
            "text/plain": [
              "array([5, 0, 4, 1, 9, 2, 1, 3, 1, 4, 3, 5, 3, 6, 1, 7], dtype=uint8)"
            ]
          },
          "metadata": {},
          "execution_count": 94
        }
      ]
    },
    {
      "cell_type": "markdown",
      "source": [
        "#### Construcción y compilación del modelo\n",
        "\n",
        "\n",
        "*   [Modelos](https://keras.io/api/models/)\n",
        "*   [Capas](https://keras.io/api/layers/)\n",
        "*   [Optimizadores](https://keras.io/api/optimizers/) [(Material adicional)](https://analyticsindiamag.com/guide-to-tensorflow-keras-optimizers/)\n",
        "*   [Funciones de pérdida](https://keras.io/api/losses/) [(Material adicional)](https://neptune.ai/blog/keras-loss-functions)\n",
        "*   [Métricas](https://keras.io/api/metrics/) [(Material adicional)](https://neptune.ai/blog/keras-metrics)\n",
        "*   [Activaciones](https://keras.io/api/layers/activations/)"
      ],
      "metadata": {
        "id": "Sh2O2CDH-gEU"
      }
    },
    {
      "cell_type": "code",
      "source": [
        "model = tf.keras.models.Sequential([\n",
        "    tf.keras.layers.Flatten(input_shape=(28, 28)),\n",
        "    tf.keras.layers.Dense(128, activation='relu'),\n",
        "    tf.keras.layers.Dropout(0.2),\n",
        "    tf.keras.layers.Dense(10, activation='softmax')\n",
        "])\n",
        "\n",
        "model.compile(optimizer='adam',\n",
        "              loss='sparse_categorical_crossentropy',\n",
        "              metrics=['accuracy'])"
      ],
      "metadata": {
        "id": "34EJ8_vp-jLd"
      },
      "execution_count": 101,
      "outputs": []
    },
    {
      "cell_type": "code",
      "source": [
        "model.summary()"
      ],
      "metadata": {
        "id": "-M4VmAIkoX5H",
        "outputId": "4ea43d60-b145-4714-a82a-432cec979b37",
        "colab": {
          "base_uri": "https://localhost:8080/"
        }
      },
      "execution_count": 102,
      "outputs": [
        {
          "output_type": "stream",
          "name": "stdout",
          "text": [
            "Model: \"sequential_4\"\n",
            "_________________________________________________________________\n",
            " Layer (type)                Output Shape              Param #   \n",
            "=================================================================\n",
            " flatten_4 (Flatten)         (None, 784)               0         \n",
            "                                                                 \n",
            " dense_8 (Dense)             (None, 128)               100480    \n",
            "                                                                 \n",
            " dropout_4 (Dropout)         (None, 128)               0         \n",
            "                                                                 \n",
            " dense_9 (Dense)             (None, 10)                1290      \n",
            "                                                                 \n",
            "=================================================================\n",
            "Total params: 101,770\n",
            "Trainable params: 101,770\n",
            "Non-trainable params: 0\n",
            "_________________________________________________________________\n"
          ]
        }
      ]
    },
    {
      "cell_type": "code",
      "source": [
        "from tensorflow.keras.utils import plot_model\n",
        "plot_model(model, show_shapes=True)"
      ],
      "metadata": {
        "id": "X3r7akq0pQvt",
        "outputId": "0df96c23-9ac2-46ab-b499-8ef8104a98c0",
        "colab": {
          "base_uri": "https://localhost:8080/",
          "height": 533
        }
      },
      "execution_count": 103,
      "outputs": [
        {
          "output_type": "execute_result",
          "data": {
            "text/plain": [
              "<IPython.core.display.Image object>"
            ],
            "image/png": "[encoded data removed]"
          },
          "metadata": {},
          "execution_count": 103
        }
      ]
    },
    {
      "cell_type": "markdown",
      "source": [
        "#### Entrenamiento y evaluación\n",
        "\n",
        "\n",
        "*   [Keras training](https://keras.io/api/models/model_training_apis/) \n",
        "*   [GPU](https://www.run.ai/guides/gpu-deep-learning)\n",
        "*   [CPU vs GPU vs TPU: Understanding the Difference Between Them](https://serverguy.com/comparison/cpu-vs-gpu-vs-tpu/)\n",
        "*   [CUDA](https://developer.nvidia.com/cuda-zone)\n",
        "*   [CuPy](https://cupy.dev/)\n",
        "\n"
      ],
      "metadata": {
        "id": "MHEHud6j-jbJ"
      }
    },
    {
      "cell_type": "code",
      "source": [
        "history = model.fit(x_train, y_train, epochs=10)"
      ],
      "metadata": {
        "id": "UwYqDXEn-k7J",
        "outputId": "3b7290f2-fbe9-4db8-f320-bf0291497500",
        "colab": {
          "base_uri": "https://localhost:8080/"
        }
      },
      "execution_count": 104,
      "outputs": [
        {
          "output_type": "stream",
          "name": "stdout",
          "text": [
            "Epoch 1/10\n",
            "1875/1875 [==============================] - 6s 3ms/step - loss: 0.2999 - accuracy: 0.9135\n",
            "Epoch 2/10\n",
            "1875/1875 [==============================] - 6s 3ms/step - loss: 0.1423 - accuracy: 0.9582\n",
            "Epoch 3/10\n",
            "1875/1875 [==============================] - 6s 3ms/step - loss: 0.1078 - accuracy: 0.9674\n",
            "Epoch 4/10\n",
            "1875/1875 [==============================] - 6s 3ms/step - loss: 0.0890 - accuracy: 0.9724\n",
            "Epoch 5/10\n",
            "1875/1875 [==============================] - 5s 3ms/step - loss: 0.0743 - accuracy: 0.9774\n",
            "Epoch 6/10\n",
            "1875/1875 [==============================] - 5s 3ms/step - loss: 0.0656 - accuracy: 0.9796\n",
            "Epoch 7/10\n",
            "1875/1875 [==============================] - 6s 3ms/step - loss: 0.0585 - accuracy: 0.9814\n",
            "Epoch 8/10\n",
            "1875/1875 [==============================] - 5s 3ms/step - loss: 0.0526 - accuracy: 0.9829\n",
            "Epoch 9/10\n",
            "1875/1875 [==============================] - 5s 3ms/step - loss: 0.0476 - accuracy: 0.9843\n",
            "Epoch 10/10\n",
            "1875/1875 [==============================] - 5s 3ms/step - loss: 0.0439 - accuracy: 0.9856\n"
          ]
        }
      ]
    },
    {
      "cell_type": "code",
      "source": [
        "history.history"
      ],
      "metadata": {
        "id": "jJOeQB_5uptG"
      },
      "execution_count": null,
      "outputs": []
    },
    {
      "cell_type": "code",
      "source": [
        "fig, ax = plt.subplots(1, 2, figsize=(8, 3))\n",
        "ax[0].plot(history.history['accuracy'], 'bo')\n",
        "ax[0].set_title('Precisión')\n",
        "ax[1].plot(history.history['loss'], 'ro')\n",
        "ax[1].set_title('Función de costo')\n",
        "fig.tight_layout()"
      ],
      "metadata": {
        "id": "AGVbsbgzvDId",
        "outputId": "d6c2aede-eca9-40ce-a6f7-2501c54139fe",
        "colab": {
          "base_uri": "https://localhost:8080/",
          "height": 221
        }
      },
      "execution_count": 118,
      "outputs": [
        {
          "output_type": "display_data",
          "data": {
            "text/plain": [
              "<Figure size 576x216 with 2 Axes>"
            ],
            "image/png": "[encoded data removed]"
          },
          "metadata": {}
        }
      ]
    },
    {
      "cell_type": "code",
      "source": [
        "model.evaluate(x_test,  y_test, verbose=2)"
      ],
      "metadata": {
        "id": "pg0QAocaxxyF",
        "outputId": "4ba3bf14-699f-4a96-99c8-0de216fe86fd",
        "colab": {
          "base_uri": "https://localhost:8080/"
        }
      },
      "execution_count": 119,
      "outputs": [
        {
          "output_type": "stream",
          "name": "stdout",
          "text": [
            "313/313 - 1s - loss: 0.0669 - accuracy: 0.9804 - 566ms/epoch - 2ms/step\n"
          ]
        },
        {
          "output_type": "execute_result",
          "data": {
            "text/plain": [
              "[0.0669260248541832, 0.980400025844574]"
            ]
          },
          "metadata": {},
          "execution_count": 119
        }
      ]
    },
    {
      "cell_type": "markdown",
      "source": [
        "#### [Visualización de la matriz de confusión](http://personal.cimat.mx:8181/~mrivera/cursos/aprendizaje_profundo/introduccion_convnets/introduccion_convnets.html)"
      ],
      "metadata": {
        "id": "GubutpzeBs0k"
      }
    },
    {
      "cell_type": "code",
      "source": [
        "predictions = model.predict(x_test)"
      ],
      "metadata": {
        "id": "TWz5Av4JB2Uy"
      },
      "execution_count": 120,
      "outputs": []
    },
    {
      "cell_type": "code",
      "source": [
        "type(predictions)\n",
        "predictions.shape"
      ],
      "metadata": {
        "id": "WqsO59mjyyeE"
      },
      "execution_count": null,
      "outputs": []
    },
    {
      "cell_type": "code",
      "source": [
        "predictions[100].shape"
      ],
      "metadata": {
        "id": "YfGsO12vy4_U"
      },
      "execution_count": null,
      "outputs": []
    },
    {
      "cell_type": "code",
      "source": [
        "print([\"{p:.12f}\".format(p=p) for p in predictions[1000]])"
      ],
      "metadata": {
        "id": "rjnGIvpuzApq"
      },
      "execution_count": null,
      "outputs": []
    },
    {
      "cell_type": "code",
      "source": [
        "y_test[1000]"
      ],
      "metadata": {
        "id": "GKYlKG2Qz5Si"
      },
      "execution_count": null,
      "outputs": []
    },
    {
      "cell_type": "code",
      "source": [
        "plt.imshow(x_test[1000])"
      ],
      "metadata": {
        "id": "hRXCMtga0wbU"
      },
      "execution_count": null,
      "outputs": []
    },
    {
      "cell_type": "code",
      "source": [
        "y_test"
      ],
      "metadata": {
        "id": "oLikO-8p1k_T"
      },
      "execution_count": null,
      "outputs": []
    },
    {
      "cell_type": "code",
      "source": [
        "import numpy as np\n",
        "p_test = [np.argmax(p) for p in predictions]"
      ],
      "metadata": {
        "id": "BlvN2Yj51oJ_"
      },
      "execution_count": 151,
      "outputs": []
    },
    {
      "cell_type": "code",
      "source": [
        "from sklearn.metrics import confusion_matrix\n",
        "import seaborn as sns\n",
        "\n",
        "C = confusion_matrix(y_test, p_test)\n",
        "f, ax = plt.subplots(figsize=(11, 9))\n",
        "sns.set()\n",
        "cmap = sns.diverging_palette(220, 10, as_cmap=True)\n",
        "ax = sns.heatmap(C, cmap=cmap, square=True, \n",
        "                 annot=True, fmt='d', linewidths=.5)\n",
        "ax.set_title('Matriz de confusión')\n",
        "plt.show()\n"
      ],
      "metadata": {
        "id": "wFk3fiAH1NYr",
        "outputId": "8c76fdee-d2ad-40fc-f242-570dd19efb02",
        "colab": {
          "base_uri": "https://localhost:8080/",
          "height": 556
        }
      },
      "execution_count": 155,
      "outputs": [
        {
          "output_type": "display_data",
          "data": {
            "text/plain": [
              "<Figure size 792x648 with 2 Axes>"
            ],
            "image/png": "[encoded data removed]"
          },
          "metadata": {}
        }
      ]
    },
    {
      "cell_type": "markdown",
      "source": [
        "### [Clasificación de imágenes básica](https://www.tensorflow.org/tutorials/keras/classification)"
      ],
      "metadata": {
        "id": "JCytYKkRbK6k"
      }
    },
    {
      "cell_type": "code",
      "source": [
        ""
      ],
      "metadata": {
        "id": "cJVZrb-wbM9Y"
      },
      "execution_count": null,
      "outputs": []
    },
    {
      "cell_type": "markdown",
      "source": [
        "### [Clasificación de texto básica](https://www.tensorflow.org/tutorials/keras/text_classification)"
      ],
      "metadata": {
        "id": "ekKzS4oxbNbm"
      }
    },
    {
      "cell_type": "code",
      "source": [
        ""
      ],
      "metadata": {
        "id": "UtMrJwQRbPLG"
      },
      "execution_count": null,
      "outputs": []
    },
    {
      "cell_type": "markdown",
      "source": [
        "### [Clasificación de texto con TensorFlow](https://www.tensorflow.org/tutorials/keras/text_classification_with_hub)"
      ],
      "metadata": {
        "id": "QkDFtwEPbPnI"
      }
    },
    {
      "cell_type": "code",
      "source": [
        ""
      ],
      "metadata": {
        "id": "3GMMzQFe9mqo"
      },
      "execution_count": null,
      "outputs": []
    },
    {
      "cell_type": "markdown",
      "source": [
        "### [Regresión](https://www.tensorflow.org/tutorials/keras/regression)"
      ],
      "metadata": {
        "id": "vboD-mKCbSHA"
      }
    },
    {
      "cell_type": "code",
      "source": [
        ""
      ],
      "metadata": {
        "id": "xzA5oYtsbTfC"
      },
      "execution_count": null,
      "outputs": []
    },
    {
      "cell_type": "markdown",
      "source": [
        "### [Sobreajuste y subajuste](https://www.tensorflow.org/tutorials/keras/overfit_and_underfit)"
      ],
      "metadata": {
        "id": "HUxPlxOpbUBs"
      }
    },
    {
      "cell_type": "code",
      "source": [
        ""
      ],
      "metadata": {
        "id": "XYa86Tb2bVfG"
      },
      "execution_count": null,
      "outputs": []
    },
    {
      "cell_type": "markdown",
      "source": [
        "### [Guardado de modelos](https://www.tensorflow.org/tutorials/keras/save_and_load)"
      ],
      "metadata": {
        "id": "rFDnSHRS9W3L"
      }
    },
    {
      "cell_type": "code",
      "source": [
        ""
      ],
      "metadata": {
        "id": "aqZN_CBI9Ya9"
      },
      "execution_count": null,
      "outputs": []
    }
  ]
}