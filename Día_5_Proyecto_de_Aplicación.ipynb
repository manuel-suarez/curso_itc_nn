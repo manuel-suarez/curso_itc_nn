{
  "nbformat": 4,
  "nbformat_minor": 0,
  "metadata": {
    "colab": {
      "name": "Día 5.- Proyecto de Aplicación",
      "provenance": [],
      "authorship_tag": "ABX9TyODMnsq9iS+9YQRWpOKmHm3",
      "include_colab_link": true
    },
    "kernelspec": {
      "name": "python3",
      "display_name": "Python 3"
    },
    "language_info": {
      "name": "python"
    }
  },
  "cells": [
    {
      "cell_type": "markdown",
      "metadata": {
        "id": "view-in-github",
        "colab_type": "text"
      },
      "source": [
        "<a href=\"https://colab.research.google.com/github/manuel-suarez/curso_itc_nn/blob/main/D%C3%ADa_5_Proyecto_de_Aplicaci%C3%B3n.ipynb\" target=\"_parent\"><img src=\"https://colab.research.google.com/assets/colab-badge.svg\" alt=\"Open In Colab\"/></a>"
      ]
    },
    {
      "cell_type": "markdown",
      "source": [
        "### [Redes con Autoencoders Variacionales](https://keras.io/examples/generative/vae/)\n",
        "[Explicación de autoencoders](https://www.codificandobits.com/blog/autoencoders-explicacion-y-tutorial-python/)"
      ],
      "metadata": {
        "id": "roNHyojyygPE"
      }
    },
    {
      "cell_type": "code",
      "execution_count": null,
      "metadata": {
        "id": "5KJwuSMfHxX0"
      },
      "outputs": [],
      "source": [
        ""
      ]
    },
    {
      "cell_type": "markdown",
      "source": [
        "### [Métricas de Rendimiento](https://neptune.ai/blog/performance-metrics-in-machine-learning-complete-guide)"
      ],
      "metadata": {
        "id": "7LCZ9ttYykvW"
      }
    },
    {
      "cell_type": "code",
      "source": [
        ""
      ],
      "metadata": {
        "id": "leCRDfrxysO5"
      },
      "execution_count": null,
      "outputs": []
    },
    {
      "cell_type": "markdown",
      "source": [
        "### [Proyecto de Aplicación](https://towardsai.net/p/deep-learning/house-price-predictions-using-keras)"
      ],
      "metadata": {
        "id": "g7OHPo1PysrY"
      }
    },
    {
      "cell_type": "code",
      "source": [
        ""
      ],
      "metadata": {
        "id": "ZZ_E7Xc0zWFi"
      },
      "execution_count": null,
      "outputs": []
    }
  ]
}