{
  "nbformat": 4,
  "nbformat_minor": 0,
  "metadata": {
    "colab": {
      "name": "Día 3.- Construcción de un Perceptrón",
      "provenance": [],
      "authorship_tag": "ABX9TyORHJLWHJDGUQmNiZpx+pRr",
      "include_colab_link": true
    },
    "kernelspec": {
      "name": "python3",
      "display_name": "Python 3"
    },
    "language_info": {
      "name": "python"
    }
  },
  "cells": [
    {
      "cell_type": "markdown",
      "metadata": {
        "id": "view-in-github",
        "colab_type": "text"
      },
      "source": [
        "<a href=\"https://colab.research.google.com/github/manuel-suarez/curso_itc_nn/blob/soluciones/D%C3%ADa_3_Construcci%C3%B3n_de_un_Perceptr%C3%B3n.ipynb\" target=\"_parent\"><img src=\"https://colab.research.google.com/assets/colab-badge.svg\" alt=\"Open In Colab\"/></a>"
      ]
    },
    {
      "cell_type": "markdown",
      "source": [
        "# Implementación de un Perceptrón\n",
        "\n",
        "[Backpropagation](https://mattmazur.com/2015/03/17/a-step-by-step-backpropagation-example/)"
      ],
      "metadata": {
        "id": "pSZ3xfzaisVh"
      }
    },
    {
      "cell_type": "markdown",
      "source": [
        "## Definición de Variables"
      ],
      "metadata": {
        "id": "OKz-4yTDiwHx"
      }
    },
    {
      "cell_type": "code",
      "source": [
        "# Inputs\n",
        "i1 = 0.05\n",
        "i2 = 0.10\n",
        "# Pesos h1 (hidden 1)\n",
        "w1 = 0.15\n",
        "w2 = 0.20\n",
        "# Pesos h2 (hidden 2)\n",
        "w3 = 0.25\n",
        "w4 = 0.30\n",
        "# Sesgo capa oculta\n",
        "b1 = 0.35\n",
        "# Pesos o1 (output 1)\n",
        "w5 = 0.40\n",
        "w6 = 0.45\n",
        "# Pesos o2 (output 2)\n",
        "w7 = 0.50\n",
        "w8 = 0.55\n",
        "# Sesgo capa de salida\n",
        "b2 = 0.60"
      ],
      "metadata": {
        "id": "Prb61XvBnd03"
      },
      "execution_count": null,
      "outputs": []
    },
    {
      "cell_type": "markdown",
      "source": [
        "## Forward Pass"
      ],
      "metadata": {
        "id": "TFu1-p4Hi25Q"
      }
    },
    {
      "cell_type": "markdown",
      "source": [
        "### Hidden Layer"
      ],
      "metadata": {
        "id": "gi9drEWii4t3"
      }
    },
    {
      "cell_type": "markdown",
      "source": [
        "#### Suma"
      ],
      "metadata": {
        "id": "w7tp0GYpi7y8"
      }
    },
    {
      "cell_type": "code",
      "source": [
        "net_h1 = w1 * i1 + w2 * i2 + b1 * 1\n",
        "net_h1"
      ],
      "metadata": {
        "id": "j-xPyxP0ngNn",
        "colab": {
          "base_uri": "https://localhost:8080/"
        },
        "outputId": "4b379876-5db6-4372-ce20-ed22e6843683"
      },
      "execution_count": null,
      "outputs": [
        {
          "output_type": "execute_result",
          "data": {
            "text/plain": [
              "0.3775"
            ]
          },
          "metadata": {},
          "execution_count": 3
        }
      ]
    },
    {
      "cell_type": "code",
      "source": [
        "net_h2 = w3 * i1 + w4 * i2 + b1 * 1\n",
        "net_h2"
      ],
      "metadata": {
        "id": "VblN0jKqngDq",
        "colab": {
          "base_uri": "https://localhost:8080/"
        },
        "outputId": "78434480-4a88-4b70-8e66-6b437849d818"
      },
      "execution_count": null,
      "outputs": [
        {
          "output_type": "execute_result",
          "data": {
            "text/plain": [
              "0.39249999999999996"
            ]
          },
          "metadata": {},
          "execution_count": 4
        }
      ]
    },
    {
      "cell_type": "markdown",
      "source": [
        "#### Activación"
      ],
      "metadata": {
        "id": "i_xEKNsdi99b"
      }
    },
    {
      "cell_type": "code",
      "source": [
        "from math import exp\n",
        "out_h1 = 1 / (1 + exp(-net_h1))\n",
        "out_h1"
      ],
      "metadata": {
        "id": "Pw_vEPxmnhcL",
        "colab": {
          "base_uri": "https://localhost:8080/"
        },
        "outputId": "2cbdf4a5-d884-42bc-8ea4-5103f41e42af"
      },
      "execution_count": null,
      "outputs": [
        {
          "output_type": "execute_result",
          "data": {
            "text/plain": [
              "0.5932699921071872"
            ]
          },
          "metadata": {},
          "execution_count": 5
        }
      ]
    },
    {
      "cell_type": "code",
      "source": [
        "out_h2 = 1 / (1 + exp(-net_h2))\n",
        "out_h2"
      ],
      "metadata": {
        "id": "vd2UFc4inhT5",
        "colab": {
          "base_uri": "https://localhost:8080/"
        },
        "outputId": "e518c1f5-045d-4011-d6d4-1c63bfb2ea21"
      },
      "execution_count": null,
      "outputs": [
        {
          "output_type": "execute_result",
          "data": {
            "text/plain": [
              "0.596884378259767"
            ]
          },
          "metadata": {},
          "execution_count": 6
        }
      ]
    },
    {
      "cell_type": "code",
      "source": [
        "def sigmoide(t):\n",
        "  return 1 / (1 + exp(-t))"
      ],
      "metadata": {
        "id": "9b2ytlSVz-Te"
      },
      "execution_count": null,
      "outputs": []
    },
    {
      "cell_type": "markdown",
      "source": [
        "### Output Layer"
      ],
      "metadata": {
        "id": "pTfCD-_0jHEl"
      }
    },
    {
      "cell_type": "markdown",
      "source": [
        "#### Suma"
      ],
      "metadata": {
        "id": "NtnDbfszjIm7"
      }
    },
    {
      "cell_type": "code",
      "source": [
        "net_o1 = w5 * out_h1 + w6 * out_h2 + b2 * 1\n",
        "net_o1"
      ],
      "metadata": {
        "id": "YL612Fvznikg",
        "colab": {
          "base_uri": "https://localhost:8080/"
        },
        "outputId": "4633091d-9f01-433a-ce3a-2b5f1413cd29"
      },
      "execution_count": null,
      "outputs": [
        {
          "output_type": "execute_result",
          "data": {
            "text/plain": [
              "1.10590596705977"
            ]
          },
          "metadata": {},
          "execution_count": 8
        }
      ]
    },
    {
      "cell_type": "code",
      "source": [
        "net_o2 = w7 * out_h1 + w8 * out_h2 + b2 * 1\n",
        "net_o2"
      ],
      "metadata": {
        "id": "UQ3L2Da-nidT",
        "colab": {
          "base_uri": "https://localhost:8080/"
        },
        "outputId": "56d86f28-0985-44d5-f9ee-ada1de0ea8a8"
      },
      "execution_count": null,
      "outputs": [
        {
          "output_type": "execute_result",
          "data": {
            "text/plain": [
              "1.2249214040964653"
            ]
          },
          "metadata": {},
          "execution_count": 9
        }
      ]
    },
    {
      "cell_type": "markdown",
      "source": [
        "#### Activación"
      ],
      "metadata": {
        "id": "zg-AfMFZjJzU"
      }
    },
    {
      "cell_type": "code",
      "source": [
        "out_o1 = sigmoide(net_o1)\n",
        "out_o1"
      ],
      "metadata": {
        "id": "7YPLeiWgnkVE",
        "colab": {
          "base_uri": "https://localhost:8080/"
        },
        "outputId": "4262a743-54f3-45c9-cbea-bfcd7cd8954d"
      },
      "execution_count": null,
      "outputs": [
        {
          "output_type": "execute_result",
          "data": {
            "text/plain": [
              "0.7513650695523157"
            ]
          },
          "metadata": {},
          "execution_count": 10
        }
      ]
    },
    {
      "cell_type": "code",
      "source": [
        "out_o2 = sigmoide(net_o2)\n",
        "out_o2"
      ],
      "metadata": {
        "id": "knhg0qjhnkNH",
        "colab": {
          "base_uri": "https://localhost:8080/"
        },
        "outputId": "2755e956-8dc1-4075-ade6-1010dcd4be93"
      },
      "execution_count": null,
      "outputs": [
        {
          "output_type": "execute_result",
          "data": {
            "text/plain": [
              "0.7729284653214625"
            ]
          },
          "metadata": {},
          "execution_count": 11
        }
      ]
    },
    {
      "cell_type": "markdown",
      "source": [
        "### Error"
      ],
      "metadata": {
        "id": "K1wOM_-djM6v"
      }
    },
    {
      "cell_type": "code",
      "source": [
        "target_o1 = 0.01\n",
        "target_o2 = 0.99"
      ],
      "metadata": {
        "id": "cpJuMQVY4BvN"
      },
      "execution_count": null,
      "outputs": []
    },
    {
      "cell_type": "markdown",
      "source": [
        "#### Error Output 1"
      ],
      "metadata": {
        "id": "UY57HfgYjPNb"
      }
    },
    {
      "cell_type": "code",
      "source": [
        "error_o1 = 0.5 * (target_o1 - out_o1)**2\n",
        "error_o1"
      ],
      "metadata": {
        "id": "GZfK2Hl6nlcr",
        "colab": {
          "base_uri": "https://localhost:8080/"
        },
        "outputId": "90d93b7d-d547-4796-d2a5-5d09e6099bf3"
      },
      "execution_count": null,
      "outputs": [
        {
          "output_type": "execute_result",
          "data": {
            "text/plain": [
              "0.274811083176155"
            ]
          },
          "metadata": {},
          "execution_count": 13
        }
      ]
    },
    {
      "cell_type": "markdown",
      "source": [
        "#### Error Output 2"
      ],
      "metadata": {
        "id": "Fyrfy_lzjQpC"
      }
    },
    {
      "cell_type": "code",
      "source": [
        "error_o2 = 0.5 * (target_o2 - out_o2)**2\n",
        "error_o2"
      ],
      "metadata": {
        "id": "LrbX04klnmf5",
        "colab": {
          "base_uri": "https://localhost:8080/"
        },
        "outputId": "12770fc9-6cc9-46ec-e236-f77c29bcb848"
      },
      "execution_count": null,
      "outputs": [
        {
          "output_type": "execute_result",
          "data": {
            "text/plain": [
              "0.023560025583847746"
            ]
          },
          "metadata": {},
          "execution_count": 14
        }
      ]
    },
    {
      "cell_type": "markdown",
      "source": [
        "#### Error total"
      ],
      "metadata": {
        "id": "Wuley89cjSec"
      }
    },
    {
      "cell_type": "code",
      "source": [
        "error_total = error_o1 + error_o2\n",
        "error_total"
      ],
      "metadata": {
        "id": "B-3TTjhhnnVa",
        "colab": {
          "base_uri": "https://localhost:8080/"
        },
        "outputId": "6e004112-00cb-4c91-ab77-188e53beee69"
      },
      "execution_count": null,
      "outputs": [
        {
          "output_type": "execute_result",
          "data": {
            "text/plain": [
              "0.2983711087600027"
            ]
          },
          "metadata": {},
          "execution_count": 15
        }
      ]
    },
    {
      "cell_type": "markdown",
      "source": [
        "## Backpropagation"
      ],
      "metadata": {
        "id": "ulArsu4yjUej"
      }
    },
    {
      "cell_type": "markdown",
      "source": [
        "### Output Layer"
      ],
      "metadata": {
        "id": "DgSqyKNljWJU"
      }
    },
    {
      "cell_type": "markdown",
      "source": [
        "#### Derivada parcial del error total con respecto a la salida 1"
      ],
      "metadata": {
        "id": "1WqK9Vp8jX3-"
      }
    },
    {
      "cell_type": "code",
      "source": [
        "d_error_total_out_o1 = -(target_o1 - out_o1)\n",
        "d_error_total_out_o1"
      ],
      "metadata": {
        "id": "4fS1fBACnqB5",
        "colab": {
          "base_uri": "https://localhost:8080/"
        },
        "outputId": "b7c15fc7-767d-4cbb-ced6-56ef59fde544"
      },
      "execution_count": null,
      "outputs": [
        {
          "output_type": "execute_result",
          "data": {
            "text/plain": [
              "0.7413650695523157"
            ]
          },
          "metadata": {},
          "execution_count": 16
        }
      ]
    },
    {
      "cell_type": "markdown",
      "source": [
        "#### Derivada parcial de la salida 1 con respecto a la función de activación"
      ],
      "metadata": {
        "id": "ma_iHxAsjg6R"
      }
    },
    {
      "cell_type": "code",
      "source": [
        "d_out_o1_net_o1 = out_o1 * (1 - out_o1)\n",
        "d_out_o1_net_o1"
      ],
      "metadata": {
        "id": "xpm7l5n2nqiG",
        "colab": {
          "base_uri": "https://localhost:8080/"
        },
        "outputId": "17725db6-6e78-4ff2-ca17-fadac10492d9"
      },
      "execution_count": null,
      "outputs": [
        {
          "output_type": "execute_result",
          "data": {
            "text/plain": [
              "0.18681560180895948"
            ]
          },
          "metadata": {},
          "execution_count": 17
        }
      ]
    },
    {
      "cell_type": "markdown",
      "source": [
        "#### Derivada parcial de la función de activación con respecto a la suma"
      ],
      "metadata": {
        "id": "-teXfJl_jy4Q"
      }
    },
    {
      "cell_type": "code",
      "source": [
        "d_net_o1_w5 = out_h1\n",
        "d_net_o1_w5"
      ],
      "metadata": {
        "id": "lst9dNcGnryb",
        "colab": {
          "base_uri": "https://localhost:8080/"
        },
        "outputId": "715def0d-9bd6-4775-d8cf-2549611ca2db"
      },
      "execution_count": null,
      "outputs": [
        {
          "output_type": "execute_result",
          "data": {
            "text/plain": [
              "0.5932699921071872"
            ]
          },
          "metadata": {},
          "execution_count": 18
        }
      ]
    },
    {
      "cell_type": "markdown",
      "source": [
        "#### Derivada parcial del error total con respecto al peso 5 (primer peso de la neurona de salida)"
      ],
      "metadata": {
        "id": "bl2owqvQj6im"
      }
    },
    {
      "cell_type": "code",
      "source": [
        "d_error_total_w5 = d_error_total_out_o1 * d_out_o1_net_o1 * d_net_o1_w5\n",
        "d_error_total_w5"
      ],
      "metadata": {
        "id": "PZQWVqxKns_x",
        "colab": {
          "base_uri": "https://localhost:8080/"
        },
        "outputId": "b79ad1b9-7e3c-4f5f-a094-862e40e6dd75"
      },
      "execution_count": null,
      "outputs": [
        {
          "output_type": "execute_result",
          "data": {
            "text/plain": [
              "0.08216704056423078"
            ]
          },
          "metadata": {},
          "execution_count": 19
        }
      ]
    },
    {
      "cell_type": "markdown",
      "source": [
        "#### Tasa de aprendizaje"
      ],
      "metadata": {
        "id": "x1v0OoTmkBw3"
      }
    },
    {
      "cell_type": "code",
      "source": [
        "learning_rate = 0.5"
      ],
      "metadata": {
        "id": "AhSSELh6nuyp"
      },
      "execution_count": null,
      "outputs": []
    },
    {
      "cell_type": "markdown",
      "source": [
        "#### Actualización del peso 5"
      ],
      "metadata": {
        "id": "hpNIaK4LkD1q"
      }
    },
    {
      "cell_type": "code",
      "source": [
        "w5_n = w5 - learning_rate * d_error_total_w5\n",
        "w5_n"
      ],
      "metadata": {
        "id": "0khnp4twnvpM",
        "colab": {
          "base_uri": "https://localhost:8080/"
        },
        "outputId": "5db4e28f-1265-4f21-c87a-4affade29889"
      },
      "execution_count": null,
      "outputs": [
        {
          "output_type": "execute_result",
          "data": {
            "text/plain": [
              "0.35891647971788465"
            ]
          },
          "metadata": {},
          "execution_count": 21
        }
      ]
    },
    {
      "cell_type": "markdown",
      "source": [
        "#### Derivada parcial del error total con respecto al peso 6"
      ],
      "metadata": {
        "id": "xUeE6dTGkKEk"
      }
    },
    {
      "cell_type": "code",
      "source": [
        "d_net_o1_w6 = out_h2\n",
        "d_net_o1_w6"
      ],
      "metadata": {
        "id": "IJPW1qognwlQ",
        "colab": {
          "base_uri": "https://localhost:8080/"
        },
        "outputId": "b27b12d7-33b0-4621-a662-8cfda34eccc5"
      },
      "execution_count": null,
      "outputs": [
        {
          "output_type": "execute_result",
          "data": {
            "text/plain": [
              "0.596884378259767"
            ]
          },
          "metadata": {},
          "execution_count": 22
        }
      ]
    },
    {
      "cell_type": "code",
      "source": [
        "d_error_total_w6 = d_error_total_out_o1 * d_out_o1_net_o1 * d_net_o1_w6\n",
        "d_error_total_w6"
      ],
      "metadata": {
        "colab": {
          "base_uri": "https://localhost:8080/"
        },
        "id": "nfCajaCEEATv",
        "outputId": "3fbf86b5-d697-4e97-99d3-a46fc29e3abf"
      },
      "execution_count": null,
      "outputs": [
        {
          "output_type": "execute_result",
          "data": {
            "text/plain": [
              "0.08266762784753326"
            ]
          },
          "metadata": {},
          "execution_count": 23
        }
      ]
    },
    {
      "cell_type": "markdown",
      "source": [
        "#### Actualización del peso 6"
      ],
      "metadata": {
        "id": "ZH4fQfBnkUy9"
      }
    },
    {
      "cell_type": "code",
      "source": [
        "w6_n = w6 - learning_rate * d_error_total_w6\n",
        "w6_n"
      ],
      "metadata": {
        "id": "1PfZWeqrnxcF",
        "colab": {
          "base_uri": "https://localhost:8080/"
        },
        "outputId": "ae97ec60-fe8a-4241-dd22-30ab68538b04"
      },
      "execution_count": null,
      "outputs": [
        {
          "output_type": "execute_result",
          "data": {
            "text/plain": [
              "0.4086661860762334"
            ]
          },
          "metadata": {},
          "execution_count": 24
        }
      ]
    },
    {
      "cell_type": "markdown",
      "source": [
        "#### Derivada parcial del error total con respecto al peso 7"
      ],
      "metadata": {
        "id": "r1ZzHK7hkYK7"
      }
    },
    {
      "cell_type": "code",
      "source": [
        "d_error_total_out_o2 = -(target_o2 - out_o2)\n",
        "d_error_total_out_o2"
      ],
      "metadata": {
        "colab": {
          "base_uri": "https://localhost:8080/"
        },
        "id": "OOkWf9g1GKMT",
        "outputId": "df8c9691-7d24-42c2-b1a7-61995bd4f2ce"
      },
      "execution_count": null,
      "outputs": [
        {
          "output_type": "execute_result",
          "data": {
            "text/plain": [
              "-0.21707153467853746"
            ]
          },
          "metadata": {},
          "execution_count": 25
        }
      ]
    },
    {
      "cell_type": "code",
      "source": [
        "d_out_o2_net_o2 = out_o2 * (1 - out_o2)\n",
        "d_out_o2_net_o2"
      ],
      "metadata": {
        "colab": {
          "base_uri": "https://localhost:8080/"
        },
        "id": "kWjXx13yGTrT",
        "outputId": "97ac8fc4-6120-4e43-e710-81a832326e93"
      },
      "execution_count": null,
      "outputs": [
        {
          "output_type": "execute_result",
          "data": {
            "text/plain": [
              "0.17551005281727122"
            ]
          },
          "metadata": {},
          "execution_count": 26
        }
      ]
    },
    {
      "cell_type": "code",
      "source": [
        "d_net_o2_w7 = out_h1\n",
        "d_net_o2_w7"
      ],
      "metadata": {
        "colab": {
          "base_uri": "https://localhost:8080/"
        },
        "id": "tlYwWAGVGbw5",
        "outputId": "569271a5-d905-4427-9193-ac0030d19092"
      },
      "execution_count": null,
      "outputs": [
        {
          "output_type": "execute_result",
          "data": {
            "text/plain": [
              "0.5932699921071872"
            ]
          },
          "metadata": {},
          "execution_count": 27
        }
      ]
    },
    {
      "cell_type": "code",
      "source": [
        "d_error_total_w7 = d_error_total_out_o2 * d_out_o2_net_o2 * d_net_o2_w7\n",
        "d_error_total_w7"
      ],
      "metadata": {
        "id": "PY7oaq2Xnydq",
        "colab": {
          "base_uri": "https://localhost:8080/"
        },
        "outputId": "ea26f427-b7b0-472b-900d-c8e842fba1ba"
      },
      "execution_count": null,
      "outputs": [
        {
          "output_type": "execute_result",
          "data": {
            "text/plain": [
              "-0.022602540477475067"
            ]
          },
          "metadata": {},
          "execution_count": 28
        }
      ]
    },
    {
      "cell_type": "markdown",
      "source": [
        "#### Actualización del peso 7"
      ],
      "metadata": {
        "id": "F1kmq-vQkdis"
      }
    },
    {
      "cell_type": "code",
      "source": [
        "w7_n = w7 - learning_rate * d_error_total_w7\n",
        "w7_n"
      ],
      "metadata": {
        "id": "E6NGjntknzdd",
        "colab": {
          "base_uri": "https://localhost:8080/"
        },
        "outputId": "f0a76ee1-7b8a-4003-b2cb-575250424ef9"
      },
      "execution_count": null,
      "outputs": [
        {
          "output_type": "execute_result",
          "data": {
            "text/plain": [
              "0.5113012702387375"
            ]
          },
          "metadata": {},
          "execution_count": 29
        }
      ]
    },
    {
      "cell_type": "markdown",
      "source": [
        "#### Derivada parcial del error total con respecto al peso 8"
      ],
      "metadata": {
        "id": "L3eLwMl5kgUX"
      }
    },
    {
      "cell_type": "code",
      "source": [
        "d_net_o2_w8 = out_h2\n",
        "d_net_o2_w8"
      ],
      "metadata": {
        "colab": {
          "base_uri": "https://localhost:8080/"
        },
        "id": "7n3G3SIMJPQW",
        "outputId": "d8d8a344-00e3-479c-ded5-e5a2f6e93cc4"
      },
      "execution_count": null,
      "outputs": [
        {
          "output_type": "execute_result",
          "data": {
            "text/plain": [
              "0.596884378259767"
            ]
          },
          "metadata": {},
          "execution_count": 30
        }
      ]
    },
    {
      "cell_type": "code",
      "source": [
        "d_error_total_w8 = d_error_total_out_o2 * d_out_o2_net_o2 * d_net_o2_w8\n",
        "d_error_total_w8"
      ],
      "metadata": {
        "id": "NGps0uqmn0Q6",
        "colab": {
          "base_uri": "https://localhost:8080/"
        },
        "outputId": "6c940bb6-c169-4cba-affc-8ce3a30bbd30"
      },
      "execution_count": null,
      "outputs": [
        {
          "output_type": "execute_result",
          "data": {
            "text/plain": [
              "-0.02274024221597822"
            ]
          },
          "metadata": {},
          "execution_count": 31
        }
      ]
    },
    {
      "cell_type": "markdown",
      "source": [
        "#### Actualización del peso 8"
      ],
      "metadata": {
        "id": "b88Lt71Pki-c"
      }
    },
    {
      "cell_type": "code",
      "source": [
        "w8_n = w8 - learning_rate * d_error_total_w8\n",
        "w8_n"
      ],
      "metadata": {
        "id": "YXC_UkRZn1FH",
        "colab": {
          "base_uri": "https://localhost:8080/"
        },
        "outputId": "948d1cc2-4bd5-4c0c-dd81-0dbcd07a93ae"
      },
      "execution_count": null,
      "outputs": [
        {
          "output_type": "execute_result",
          "data": {
            "text/plain": [
              "0.5613701211079891"
            ]
          },
          "metadata": {},
          "execution_count": 32
        }
      ]
    },
    {
      "cell_type": "markdown",
      "source": [
        "#### Verificación de pesos"
      ],
      "metadata": {
        "id": "bQ7Hu7X4klOX"
      }
    },
    {
      "cell_type": "code",
      "source": [
        "print(w5, w5_n)\n",
        "print(w6, w6_n)\n",
        "print(w7, w7_n)\n",
        "print(w8, w8_n)"
      ],
      "metadata": {
        "id": "7NJF-KU2YAYz",
        "colab": {
          "base_uri": "https://localhost:8080/"
        },
        "outputId": "747ad939-a154-4e00-aacb-917a21116c0b"
      },
      "execution_count": null,
      "outputs": [
        {
          "output_type": "stream",
          "name": "stdout",
          "text": [
            "0.4 0.35891647971788465\n",
            "0.45 0.4086661860762334\n",
            "0.5 0.5113012702387375\n",
            "0.55 0.5613701211079891\n"
          ]
        }
      ]
    },
    {
      "cell_type": "markdown",
      "source": [
        "### Hidden Layer"
      ],
      "metadata": {
        "id": "ee4i4ghbknHi"
      }
    },
    {
      "cell_type": "markdown",
      "source": [
        "#### Derivada parcial del error de la salida 1 con respecto a la función de activación"
      ],
      "metadata": {
        "id": "HRJranE3kp5S"
      }
    },
    {
      "cell_type": "code",
      "source": [
        "d_error_o1_net_o1 = d_error_total_out_o1 * d_out_o1_net_o1\n",
        "d_error_o1_net_o1"
      ],
      "metadata": {
        "id": "jd1UJg0nn64I",
        "colab": {
          "base_uri": "https://localhost:8080/"
        },
        "outputId": "1c673c6a-759d-4bd9-e39f-30c3a9f222b1"
      },
      "execution_count": null,
      "outputs": [
        {
          "output_type": "execute_result",
          "data": {
            "text/plain": [
              "0.13849856162855698"
            ]
          },
          "metadata": {},
          "execution_count": 34
        }
      ]
    },
    {
      "cell_type": "markdown",
      "source": [
        "#### Derivada parcial de la salida 1 con respecto a la suma"
      ],
      "metadata": {
        "id": "VVp4gDzZkwx7"
      }
    },
    {
      "cell_type": "code",
      "source": [
        "d_net_o1_out_h1 = w5\n",
        "d_net_o1_out_h1"
      ],
      "metadata": {
        "id": "7AHA5ffMn7tT",
        "colab": {
          "base_uri": "https://localhost:8080/"
        },
        "outputId": "ffaa15e9-a06e-4f37-ff46-103df5eea98f"
      },
      "execution_count": null,
      "outputs": [
        {
          "output_type": "execute_result",
          "data": {
            "text/plain": [
              "0.4"
            ]
          },
          "metadata": {},
          "execution_count": 35
        }
      ]
    },
    {
      "cell_type": "code",
      "source": [
        "d_error_o1_out_h1 = d_error_o1_net_o1 * d_net_o1_out_h1\n",
        "d_error_o1_out_h1"
      ],
      "metadata": {
        "colab": {
          "base_uri": "https://localhost:8080/"
        },
        "id": "J5pn7qB8NPSi",
        "outputId": "4cf481a0-e2c0-4755-bbaf-d2de6939e28b"
      },
      "execution_count": null,
      "outputs": [
        {
          "output_type": "execute_result",
          "data": {
            "text/plain": [
              "0.05539942465142279"
            ]
          },
          "metadata": {},
          "execution_count": 36
        }
      ]
    },
    {
      "cell_type": "code",
      "source": [
        "d_error_o2_net_o2 = d_error_total_out_o2 * d_out_o2_net_o2\n",
        "d_error_o2_net_o2"
      ],
      "metadata": {
        "colab": {
          "base_uri": "https://localhost:8080/"
        },
        "id": "NrVeMLR9NcaP",
        "outputId": "39578925-9674-4da6-ed03-db9077f135d1"
      },
      "execution_count": null,
      "outputs": [
        {
          "output_type": "execute_result",
          "data": {
            "text/plain": [
              "-0.03809823651655623"
            ]
          },
          "metadata": {},
          "execution_count": 37
        }
      ]
    },
    {
      "cell_type": "code",
      "source": [
        "d_net_o2_out_h1 = w7\n",
        "d_net_o2_out_h1"
      ],
      "metadata": {
        "colab": {
          "base_uri": "https://localhost:8080/"
        },
        "id": "nhMXjyZZNkJK",
        "outputId": "bf4d8f90-dc57-4ba7-b16b-00380bf5c1f6"
      },
      "execution_count": null,
      "outputs": [
        {
          "output_type": "execute_result",
          "data": {
            "text/plain": [
              "0.5"
            ]
          },
          "metadata": {},
          "execution_count": 38
        }
      ]
    },
    {
      "cell_type": "code",
      "source": [
        "d_error_o2_out_h1 = d_error_o2_net_o2 * d_net_o2_out_h1\n",
        "d_error_o2_out_h1"
      ],
      "metadata": {
        "colab": {
          "base_uri": "https://localhost:8080/"
        },
        "id": "YBB7QL4iNstD",
        "outputId": "89f6692f-26de-479d-b6b8-54982a34cc49"
      },
      "execution_count": null,
      "outputs": [
        {
          "output_type": "execute_result",
          "data": {
            "text/plain": [
              "-0.019049118258278114"
            ]
          },
          "metadata": {},
          "execution_count": 39
        }
      ]
    },
    {
      "cell_type": "markdown",
      "source": [
        "#### Derivada parcial de la salida 1 con respecto a la neurona oculta 1 (h1)"
      ],
      "metadata": {
        "id": "riS9ywyKk0t8"
      }
    },
    {
      "cell_type": "code",
      "source": [
        ""
      ],
      "metadata": {
        "id": "HtyUe5qnn8iJ"
      },
      "execution_count": null,
      "outputs": []
    },
    {
      "cell_type": "markdown",
      "source": [
        "#### Derivada parcial del error de la salida 2 con respecto a la neurona oculta 1"
      ],
      "metadata": {
        "id": "lFQY_FFtk5-e"
      }
    },
    {
      "cell_type": "code",
      "source": [
        ""
      ],
      "metadata": {
        "id": "yo2ZDzpZn9Tl"
      },
      "execution_count": null,
      "outputs": []
    },
    {
      "cell_type": "markdown",
      "source": [
        "#### Derivada parcial del error total con respecto a la neurona oculta 1"
      ],
      "metadata": {
        "id": "AJhbQknhk_Hv"
      }
    },
    {
      "cell_type": "code",
      "source": [
        "d_error_total_out_h1 = d_error_o1_out_h1 + d_error_o2_out_h1\n",
        "d_error_total_out_h1"
      ],
      "metadata": {
        "id": "kI8ASkvnn-IR",
        "colab": {
          "base_uri": "https://localhost:8080/"
        },
        "outputId": "fb19b5f1-1954-4b43-a471-a7ec122cf79c"
      },
      "execution_count": null,
      "outputs": [
        {
          "output_type": "execute_result",
          "data": {
            "text/plain": [
              "0.03635030639314468"
            ]
          },
          "metadata": {},
          "execution_count": 40
        }
      ]
    },
    {
      "cell_type": "markdown",
      "source": [
        "#### Derivada parcial de la salida de la neurona oculta 1 con respecto a la función de activación"
      ],
      "metadata": {
        "id": "fnMWhsKnlDYQ"
      }
    },
    {
      "cell_type": "code",
      "source": [
        "d_out_h1_net_h1 = out_h1 * (1 - out_h1)\n",
        "d_out_h1_net_h1"
      ],
      "metadata": {
        "id": "6ZhIndDrn-zN",
        "colab": {
          "base_uri": "https://localhost:8080/"
        },
        "outputId": "ae6a8011-c0df-43fa-ae0f-d273cafac2cc"
      },
      "execution_count": null,
      "outputs": [
        {
          "output_type": "execute_result",
          "data": {
            "text/plain": [
              "0.24130070857232525"
            ]
          },
          "metadata": {},
          "execution_count": 41
        }
      ]
    },
    {
      "cell_type": "markdown",
      "source": [
        "#### Derivada parcial de la función de activación con respecto a la suma"
      ],
      "metadata": {
        "id": "rP2mo-WamMqk"
      }
    },
    {
      "cell_type": "code",
      "source": [
        "d_net_h1_w1 = i1\n",
        "d_net_h1_w1"
      ],
      "metadata": {
        "id": "iOxYZ_3Qn_j5",
        "colab": {
          "base_uri": "https://localhost:8080/"
        },
        "outputId": "558e7369-2b2f-4cba-f031-5b64c226fc23"
      },
      "execution_count": null,
      "outputs": [
        {
          "output_type": "execute_result",
          "data": {
            "text/plain": [
              "0.05"
            ]
          },
          "metadata": {},
          "execution_count": 42
        }
      ]
    },
    {
      "cell_type": "markdown",
      "source": [
        "#### Derivada parcial del error total con respecto al peso 1"
      ],
      "metadata": {
        "id": "EKQQvd0imTh6"
      }
    },
    {
      "cell_type": "code",
      "source": [
        "d_error_total_w1 = d_error_total_out_h1 * d_out_h1_net_h1 * d_net_h1_w1\n",
        "d_error_total_w1"
      ],
      "metadata": {
        "id": "7goc81yCoATB",
        "colab": {
          "base_uri": "https://localhost:8080/"
        },
        "outputId": "58a2fcf1-46da-49d4-b415-8fb21e74185c"
      },
      "execution_count": null,
      "outputs": [
        {
          "output_type": "execute_result",
          "data": {
            "text/plain": [
              "0.00043856773447434685"
            ]
          },
          "metadata": {},
          "execution_count": 43
        }
      ]
    },
    {
      "cell_type": "markdown",
      "source": [
        "#### Actualización del peso 1"
      ],
      "metadata": {
        "id": "EPZfw0YpmUN9"
      }
    },
    {
      "cell_type": "code",
      "source": [
        "w1_n = w1 - learning_rate * d_error_total_w1\n",
        "w1_n"
      ],
      "metadata": {
        "id": "mOUmsUHyoBE8",
        "colab": {
          "base_uri": "https://localhost:8080/"
        },
        "outputId": "e80f43dc-8850-49e8-f18f-10885a930165"
      },
      "execution_count": null,
      "outputs": [
        {
          "output_type": "execute_result",
          "data": {
            "text/plain": [
              "0.1497807161327628"
            ]
          },
          "metadata": {},
          "execution_count": 44
        }
      ]
    },
    {
      "cell_type": "markdown",
      "source": [
        "#### Derivada parcial de la función de activación con respecto a la suma (entrada 2)"
      ],
      "metadata": {
        "id": "4g0slWKymWZM"
      }
    },
    {
      "cell_type": "code",
      "source": [
        "d_net_h1_w2 = i2\n",
        "d_net_h1_w2"
      ],
      "metadata": {
        "id": "CQ5BxzlhoCDc",
        "colab": {
          "base_uri": "https://localhost:8080/"
        },
        "outputId": "3a5ee4c1-5c72-4746-8ad1-5eaac23752a5"
      },
      "execution_count": null,
      "outputs": [
        {
          "output_type": "execute_result",
          "data": {
            "text/plain": [
              "0.1"
            ]
          },
          "metadata": {},
          "execution_count": 45
        }
      ]
    },
    {
      "cell_type": "markdown",
      "source": [
        "#### Derivada parcial del error total con respecto al peso 2"
      ],
      "metadata": {
        "id": "-rgvWLXGmbvI"
      }
    },
    {
      "cell_type": "code",
      "source": [
        "d_error_total_w2 = d_error_total_out_h1 * d_out_h1_net_h1 * d_net_h1_w2\n",
        "d_error_total_w2"
      ],
      "metadata": {
        "id": "DTi2Ioa2oC7b",
        "colab": {
          "base_uri": "https://localhost:8080/"
        },
        "outputId": "c6997145-8bb2-47da-9cd5-3d002f65102f"
      },
      "execution_count": null,
      "outputs": [
        {
          "output_type": "execute_result",
          "data": {
            "text/plain": [
              "0.0008771354689486937"
            ]
          },
          "metadata": {},
          "execution_count": 46
        }
      ]
    },
    {
      "cell_type": "markdown",
      "source": [
        "#### Actualización del peso 2"
      ],
      "metadata": {
        "id": "dgAZWm5Dmern"
      }
    },
    {
      "cell_type": "code",
      "source": [
        "w2_n = w2 - learning_rate * d_error_total_w2\n",
        "w2_n"
      ],
      "metadata": {
        "id": "V8oAtXXHoDvz",
        "colab": {
          "base_uri": "https://localhost:8080/"
        },
        "outputId": "6d270291-fa9b-4e85-b304-8438125c0cc1"
      },
      "execution_count": null,
      "outputs": [
        {
          "output_type": "execute_result",
          "data": {
            "text/plain": [
              "0.19956143226552567"
            ]
          },
          "metadata": {},
          "execution_count": 47
        }
      ]
    },
    {
      "cell_type": "markdown",
      "source": [
        "#### Derivada parcial de la salida 2"
      ],
      "metadata": {
        "id": "e_QzTDKAmk-E"
      }
    },
    {
      "cell_type": "markdown",
      "source": [
        "#### Derivada parcial del error de la salida 1 con respecto a la función de activación"
      ],
      "metadata": {
        "id": "vyJzgGOH_w7Y"
      }
    },
    {
      "cell_type": "code",
      "source": [
        "d_error_o1_net_o1 = d_error_total_out_o1 * d_out_o1_net_o1\n",
        "d_error_o1_net_o1"
      ],
      "metadata": {
        "colab": {
          "base_uri": "https://localhost:8080/"
        },
        "outputId": "2a039369-9ae4-433e-df9e-9056aa82fead",
        "id": "rYMPOcec_w7Z"
      },
      "execution_count": null,
      "outputs": [
        {
          "output_type": "execute_result",
          "data": {
            "text/plain": [
              "0.13849856162855698"
            ]
          },
          "metadata": {},
          "execution_count": 51
        }
      ]
    },
    {
      "cell_type": "markdown",
      "source": [
        "#### Derivada parcial de la salida 1 con respecto a la suma"
      ],
      "metadata": {
        "id": "gCUfxq-x_w7b"
      }
    },
    {
      "cell_type": "code",
      "source": [
        "d_net_o1_out_h2 = w7\n",
        "d_net_o1_out_h2"
      ],
      "metadata": {
        "colab": {
          "base_uri": "https://localhost:8080/"
        },
        "outputId": "ce5b73f3-0944-4587-9905-a06d48714bc2",
        "id": "czmvEJM3_w7c"
      },
      "execution_count": null,
      "outputs": [
        {
          "output_type": "execute_result",
          "data": {
            "text/plain": [
              "0.5"
            ]
          },
          "metadata": {},
          "execution_count": 55
        }
      ]
    },
    {
      "cell_type": "code",
      "source": [
        "d_error_o1_out_h2 = d_error_o1_net_o1 * d_net_o1_out_h2\n",
        "d_error_o1_out_h2"
      ],
      "metadata": {
        "colab": {
          "base_uri": "https://localhost:8080/"
        },
        "outputId": "b5d6f873-78b4-4e8f-e44d-e730cb7245a4",
        "id": "gjZzziTf_w7d"
      },
      "execution_count": null,
      "outputs": [
        {
          "output_type": "execute_result",
          "data": {
            "text/plain": [
              "0.06924928081427849"
            ]
          },
          "metadata": {},
          "execution_count": 56
        }
      ]
    },
    {
      "cell_type": "code",
      "source": [
        "d_error_o2_net_o2 = d_error_total_out_o2 * d_out_o2_net_o2\n",
        "d_error_o2_net_o2"
      ],
      "metadata": {
        "colab": {
          "base_uri": "https://localhost:8080/"
        },
        "outputId": "564d926f-4343-45fa-aa6e-339b16cfacc4",
        "id": "KvmGw2LT_w7d"
      },
      "execution_count": null,
      "outputs": [
        {
          "output_type": "execute_result",
          "data": {
            "text/plain": [
              "-0.03809823651655623"
            ]
          },
          "metadata": {},
          "execution_count": 57
        }
      ]
    },
    {
      "cell_type": "code",
      "source": [
        "d_net_o2_out_h2 = w8\n",
        "d_net_o2_out_h2"
      ],
      "metadata": {
        "colab": {
          "base_uri": "https://localhost:8080/"
        },
        "outputId": "90755f5b-7628-4712-da72-9d463fbac116",
        "id": "yxmxMuLI_w7e"
      },
      "execution_count": null,
      "outputs": [
        {
          "output_type": "execute_result",
          "data": {
            "text/plain": [
              "0.55"
            ]
          },
          "metadata": {},
          "execution_count": 58
        }
      ]
    },
    {
      "cell_type": "code",
      "source": [
        "d_error_o2_out_h2 = d_error_o2_net_o2 * d_net_o2_out_h2\n",
        "d_error_o2_out_h2"
      ],
      "metadata": {
        "colab": {
          "base_uri": "https://localhost:8080/"
        },
        "outputId": "98888df5-6004-4150-d173-5595c1919f1c",
        "id": "V8mKSPXj_w7f"
      },
      "execution_count": null,
      "outputs": [
        {
          "output_type": "execute_result",
          "data": {
            "text/plain": [
              "-0.02095403008410593"
            ]
          },
          "metadata": {},
          "execution_count": 59
        }
      ]
    },
    {
      "cell_type": "markdown",
      "source": [
        "#### Derivada parcial del error total con respecto a la neurona oculta 1"
      ],
      "metadata": {
        "id": "QLG7Ewma_w7g"
      }
    },
    {
      "cell_type": "code",
      "source": [
        "d_error_total_out_h2 = d_error_o1_out_h2 + d_error_o2_out_h2\n",
        "d_error_total_out_h2"
      ],
      "metadata": {
        "colab": {
          "base_uri": "https://localhost:8080/"
        },
        "outputId": "69a26eaf-1f16-412a-dd08-adc1cea72a50",
        "id": "rw4kk1mM_w7g"
      },
      "execution_count": null,
      "outputs": [
        {
          "output_type": "execute_result",
          "data": {
            "text/plain": [
              "0.04829525073017256"
            ]
          },
          "metadata": {},
          "execution_count": 60
        }
      ]
    },
    {
      "cell_type": "markdown",
      "source": [
        "#### Derivada parcial de la salida de la neurona oculta 1 con respecto a la función de activación"
      ],
      "metadata": {
        "id": "el-2aJSY_w7h"
      }
    },
    {
      "cell_type": "code",
      "source": [
        "d_out_h2_net_h2 = out_h2 * (1 - out_h2)\n",
        "d_out_h2_net_h2"
      ],
      "metadata": {
        "colab": {
          "base_uri": "https://localhost:8080/"
        },
        "outputId": "37ed0e6d-3b24-464a-ba1e-ae4846415183",
        "id": "XinfsKjn_w7i"
      },
      "execution_count": null,
      "outputs": [
        {
          "output_type": "execute_result",
          "data": {
            "text/plain": [
              "0.2406134172492184"
            ]
          },
          "metadata": {},
          "execution_count": 61
        }
      ]
    },
    {
      "cell_type": "markdown",
      "source": [
        "#### Derivada parcial de la función de activación con respecto a la suma"
      ],
      "metadata": {
        "id": "dGotuyg4_w7i"
      }
    },
    {
      "cell_type": "code",
      "source": [
        "d_net_h2_w3 = i1\n",
        "d_net_h2_w3"
      ],
      "metadata": {
        "colab": {
          "base_uri": "https://localhost:8080/"
        },
        "outputId": "1213aed6-ea88-4fc5-8376-c144b7744006",
        "id": "wX7sycRx_w7j"
      },
      "execution_count": null,
      "outputs": [
        {
          "output_type": "execute_result",
          "data": {
            "text/plain": [
              "0.05"
            ]
          },
          "metadata": {},
          "execution_count": 62
        }
      ]
    },
    {
      "cell_type": "markdown",
      "source": [
        "#### Derivada parcial del error total con respecto al peso 1"
      ],
      "metadata": {
        "id": "G0-GFUTi_w7k"
      }
    },
    {
      "cell_type": "code",
      "source": [
        "d_error_total_w3 = d_error_total_out_h2 * d_out_h2_net_h2 * d_net_h2_w3\n",
        "d_error_total_w3"
      ],
      "metadata": {
        "colab": {
          "base_uri": "https://localhost:8080/"
        },
        "outputId": "f4d58602-8ca1-47bf-8733-4cbe8781ef54",
        "id": "YKExnv6J_w7l"
      },
      "execution_count": null,
      "outputs": [
        {
          "output_type": "execute_result",
          "data": {
            "text/plain": [
              "0.0005810242657547315"
            ]
          },
          "metadata": {},
          "execution_count": 63
        }
      ]
    },
    {
      "cell_type": "markdown",
      "source": [
        "#### Actualización del peso 3"
      ],
      "metadata": {
        "id": "ASaz1p1ZmxxD"
      }
    },
    {
      "cell_type": "code",
      "source": [
        "w3_n = w3 - learning_rate * d_error_total_w3\n",
        "w3_n"
      ],
      "metadata": {
        "id": "NsfXZFVroMT2",
        "colab": {
          "base_uri": "https://localhost:8080/"
        },
        "outputId": "b56e4844-af2a-4ac0-f665-b05a30f860f3"
      },
      "execution_count": null,
      "outputs": [
        {
          "output_type": "execute_result",
          "data": {
            "text/plain": [
              "0.24970948786712263"
            ]
          },
          "metadata": {},
          "execution_count": 64
        }
      ]
    },
    {
      "cell_type": "markdown",
      "source": [
        "#### Actualización del peso 4"
      ],
      "metadata": {
        "id": "jJsX3hUam0jE"
      }
    },
    {
      "cell_type": "code",
      "source": [
        "d_net_h2_w4 = i2\n",
        "d_net_h2_w4"
      ],
      "metadata": {
        "colab": {
          "base_uri": "https://localhost:8080/"
        },
        "id": "oUvLU_9ABV4Y",
        "outputId": "60e37213-e520-4753-fbf6-4ba27ef8cc10"
      },
      "execution_count": null,
      "outputs": [
        {
          "output_type": "execute_result",
          "data": {
            "text/plain": [
              "0.1"
            ]
          },
          "metadata": {},
          "execution_count": 66
        }
      ]
    },
    {
      "cell_type": "code",
      "source": [
        "d_error_total_w4 = d_error_total_out_h2 * d_out_h2_net_h2 * d_net_h2_w4\n",
        "d_error_total_w4"
      ],
      "metadata": {
        "id": "R6lezgo6oPCu",
        "colab": {
          "base_uri": "https://localhost:8080/"
        },
        "outputId": "8da1b52a-720d-47db-9be3-f434f87ffb02"
      },
      "execution_count": null,
      "outputs": [
        {
          "output_type": "execute_result",
          "data": {
            "text/plain": [
              "0.001162048531509463"
            ]
          },
          "metadata": {},
          "execution_count": 67
        }
      ]
    },
    {
      "cell_type": "code",
      "source": [
        "w4_n = w4 - learning_rate * d_error_total_w4\n",
        "w4_n"
      ],
      "metadata": {
        "colab": {
          "base_uri": "https://localhost:8080/"
        },
        "id": "sO7rhqUiBd3y",
        "outputId": "065df79b-6260-4dbd-9562-f07e91210308"
      },
      "execution_count": null,
      "outputs": [
        {
          "output_type": "execute_result",
          "data": {
            "text/plain": [
              "0.29941897573424525"
            ]
          },
          "metadata": {},
          "execution_count": 68
        }
      ]
    },
    {
      "cell_type": "markdown",
      "source": [
        "## Actualizamos pesos"
      ],
      "metadata": {
        "id": "4gHUkQvdgxlI"
      }
    },
    {
      "cell_type": "code",
      "source": [
        "w1 = w1_n\n",
        "w2 = w2_n\n",
        "w3 = w3_n\n",
        "w4 = w3_n\n",
        "w5 = w5_n\n",
        "w6 = w6_n\n",
        "w7 = w7_n\n",
        "w8 = w8_n"
      ],
      "metadata": {
        "id": "UFuS4LSzgxGR"
      },
      "execution_count": null,
      "outputs": []
    },
    {
      "cell_type": "markdown",
      "source": [
        "### Reevaluamos salida y error"
      ],
      "metadata": {
        "id": "u_Q0qZzbm7A7"
      }
    },
    {
      "cell_type": "markdown",
      "source": [
        "#### Forward pass"
      ],
      "metadata": {
        "id": "oIrEsf3nm8qy"
      }
    },
    {
      "cell_type": "code",
      "source": [
        ""
      ],
      "metadata": {
        "id": "Rxc9zcpGoSp8"
      },
      "execution_count": null,
      "outputs": []
    },
    {
      "cell_type": "code",
      "source": [
        ""
      ],
      "metadata": {
        "id": "Fc9YqqIWoSjE"
      },
      "execution_count": null,
      "outputs": []
    },
    {
      "cell_type": "code",
      "source": [
        ""
      ],
      "metadata": {
        "id": "gaKwurkGoSbd"
      },
      "execution_count": null,
      "outputs": []
    },
    {
      "cell_type": "code",
      "source": [
        ""
      ],
      "metadata": {
        "id": "ig2PRiX3oST8"
      },
      "execution_count": null,
      "outputs": []
    },
    {
      "cell_type": "code",
      "source": [
        ""
      ],
      "metadata": {
        "id": "8CDqBIG9oSM7"
      },
      "execution_count": null,
      "outputs": []
    },
    {
      "cell_type": "code",
      "source": [
        ""
      ],
      "metadata": {
        "id": "LYsDIvRCoSFL"
      },
      "execution_count": null,
      "outputs": []
    },
    {
      "cell_type": "code",
      "source": [
        ""
      ],
      "metadata": {
        "id": "RyLRbsqDoR8y"
      },
      "execution_count": null,
      "outputs": []
    },
    {
      "cell_type": "code",
      "source": [
        ""
      ],
      "metadata": {
        "id": "J9DwweRNoRt6"
      },
      "execution_count": null,
      "outputs": []
    },
    {
      "cell_type": "markdown",
      "source": [
        "#### Error"
      ],
      "metadata": {
        "id": "poNs3uDBnBtf"
      }
    },
    {
      "cell_type": "code",
      "source": [
        ""
      ],
      "metadata": {
        "id": "jISvpyrDoUUr"
      },
      "execution_count": null,
      "outputs": []
    },
    {
      "cell_type": "code",
      "source": [
        ""
      ],
      "metadata": {
        "id": "L8VJ5DypoUOC"
      },
      "execution_count": null,
      "outputs": []
    },
    {
      "cell_type": "code",
      "source": [
        ""
      ],
      "metadata": {
        "id": "i4QVy7cPoUGO"
      },
      "execution_count": null,
      "outputs": []
    }
  ]
}