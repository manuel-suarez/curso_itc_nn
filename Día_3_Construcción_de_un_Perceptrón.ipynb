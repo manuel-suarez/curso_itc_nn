{
  "nbformat": 4,
  "nbformat_minor": 0,
  "metadata": {
    "colab": {
      "name": "Día 3.- Construcción de un Perceptrón",
      "provenance": [],
      "authorship_tag": "ABX9TyNKjAbLQuP8hOPbsfpT4iNz",
      "include_colab_link": true
    },
    "kernelspec": {
      "name": "python3",
      "display_name": "Python 3"
    },
    "language_info": {
      "name": "python"
    }
  },
  "cells": [
    {
      "cell_type": "markdown",
      "metadata": {
        "id": "view-in-github",
        "colab_type": "text"
      },
      "source": [
        "<a href=\"https://colab.research.google.com/github/manuel-suarez/curso_itc_nn/blob/main/D%C3%ADa_3_Construcci%C3%B3n_de_un_Perceptr%C3%B3n.ipynb\" target=\"_parent\"><img src=\"https://colab.research.google.com/assets/colab-badge.svg\" alt=\"Open In Colab\"/></a>"
      ]
    },
    {
      "cell_type": "markdown",
      "source": [
        "# Implementación de un Perceptrón\n",
        "[Algoritmo Perceptrón](https://towardsdatascience.com/perceptron-algorithm-in-python-f3ac89d2e537)"
      ],
      "metadata": {
        "id": "BFvB-QjQZ_UU"
      }
    },
    {
      "cell_type": "markdown",
      "source": [
        "### Definición del Conjunto de Datos"
      ],
      "metadata": {
        "id": "2_OX0Gu2aIKS"
      }
    },
    {
      "cell_type": "code",
      "execution_count": null,
      "metadata": {
        "id": "DWt7LxfSEaA2"
      },
      "outputs": [],
      "source": [
        ""
      ]
    },
    {
      "cell_type": "markdown",
      "source": [
        "### Función de activación"
      ],
      "metadata": {
        "id": "67I5ySmwaLIX"
      }
    },
    {
      "cell_type": "code",
      "source": [
        ""
      ],
      "metadata": {
        "id": "OYVo-eMfaYK4"
      },
      "execution_count": null,
      "outputs": []
    },
    {
      "cell_type": "markdown",
      "source": [
        "### Regla de actualización"
      ],
      "metadata": {
        "id": "uyLYfmPhaYo0"
      }
    },
    {
      "cell_type": "code",
      "source": [
        ""
      ],
      "metadata": {
        "id": "TYm14Vuxac8g"
      },
      "execution_count": null,
      "outputs": []
    },
    {
      "cell_type": "code",
      "source": [
        ""
      ],
      "metadata": {
        "id": "nGbZb-LBahVM"
      },
      "execution_count": null,
      "outputs": []
    },
    {
      "cell_type": "markdown",
      "source": [
        "### Línea de decisión"
      ],
      "metadata": {
        "id": "1cm0D1hLah9E"
      }
    },
    {
      "cell_type": "code",
      "source": [
        ""
      ],
      "metadata": {
        "id": "Y9GbJd90aj_u"
      },
      "execution_count": null,
      "outputs": []
    },
    {
      "cell_type": "markdown",
      "source": [
        "### Entrenamiento"
      ],
      "metadata": {
        "id": "GLeiJ3g1akXa"
      }
    },
    {
      "cell_type": "code",
      "source": [
        ""
      ],
      "metadata": {
        "id": "9Aw5ilvFaloD"
      },
      "execution_count": null,
      "outputs": []
    }
  ]
}