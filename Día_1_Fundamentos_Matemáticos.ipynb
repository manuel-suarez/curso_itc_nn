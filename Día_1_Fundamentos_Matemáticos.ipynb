{
  "nbformat": 4,
  "nbformat_minor": 0,
  "metadata": {
    "colab": {
      "name": "Día 1.- Fundamentos Matemáticos",
      "provenance": [],
      "collapsed_sections": [],
      "authorship_tag": "ABX9TyPqeTkF4wcmIRGTZKqa+h35",
      "include_colab_link": true
    },
    "kernelspec": {
      "name": "python3",
      "display_name": "Python 3"
    },
    "language_info": {
      "name": "python"
    }
  },
  "cells": [
    {
      "cell_type": "markdown",
      "metadata": {
        "id": "view-in-github",
        "colab_type": "text"
      },
      "source": [
        "<a href=\"https://colab.research.google.com/github/manuel-suarez/curso_itc_nn/blob/main/D%C3%ADa_1_Fundamentos_Matem%C3%A1ticos.ipynb\" target=\"_parent\"><img src=\"https://colab.research.google.com/assets/colab-badge.svg\" alt=\"Open In Colab\"/></a>"
      ]
    },
    {
      "cell_type": "markdown",
      "source": [
        "# Fundamentos matemáticos\n",
        "Ejercicios prácticos de los conceptos matemáticos introductorios a redes neuronales"
      ],
      "metadata": {
        "id": "702Kjtf-AeAu"
      }
    },
    {
      "cell_type": "markdown",
      "source": [
        "## Cálculo"
      ],
      "metadata": {
        "id": "GPK7xa1rAmjj"
      }
    },
    {
      "cell_type": "code",
      "execution_count": null,
      "metadata": {
        "id": "3l-7D8aaAKWK"
      },
      "outputs": [],
      "source": [
        ""
      ]
    },
    {
      "cell_type": "markdown",
      "source": [
        "## Algebra Lineal"
      ],
      "metadata": {
        "id": "VoUapHwbBhHu"
      }
    },
    {
      "cell_type": "code",
      "source": [
        ""
      ],
      "metadata": {
        "id": "U2pFXoH1BjJd"
      },
      "execution_count": null,
      "outputs": []
    },
    {
      "cell_type": "markdown",
      "source": [
        "## Probabilidad"
      ],
      "metadata": {
        "id": "jPdirvlhBjaV"
      }
    },
    {
      "cell_type": "code",
      "source": [
        ""
      ],
      "metadata": {
        "id": "kCBUNF00BrFS"
      },
      "execution_count": null,
      "outputs": []
    },
    {
      "cell_type": "markdown",
      "source": [
        "## Optimización"
      ],
      "metadata": {
        "id": "Ie9Ya5SZBrhr"
      }
    },
    {
      "cell_type": "code",
      "source": [
        ""
      ],
      "metadata": {
        "id": "h9TkFrm1Bs-w"
      },
      "execution_count": null,
      "outputs": []
    }
  ]
}