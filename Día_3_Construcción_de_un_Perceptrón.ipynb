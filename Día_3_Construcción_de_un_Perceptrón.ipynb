{
  "nbformat": 4,
  "nbformat_minor": 0,
  "metadata": {
    "colab": {
      "name": "Día 3.- Construcción de un Perceptrón",
      "provenance": [],
      "authorship_tag": "ABX9TyM1pdjkNg9NyAB4FyRP6RF0",
      "include_colab_link": true
    },
    "kernelspec": {
      "name": "python3",
      "display_name": "Python 3"
    },
    "language_info": {
      "name": "python"
    }
  },
  "cells": [
    {
      "cell_type": "markdown",
      "metadata": {
        "id": "view-in-github",
        "colab_type": "text"
      },
      "source": [
        "<a href=\"https://colab.research.google.com/github/manuel-suarez/curso_itc_nn/blob/main/D%C3%ADa_3_Construcci%C3%B3n_de_un_Perceptr%C3%B3n.ipynb\" target=\"_parent\"><img src=\"https://colab.research.google.com/assets/colab-badge.svg\" alt=\"Open In Colab\"/></a>"
      ]
    },
    {
      "cell_type": "markdown",
      "source": [
        "# Implementación de un Perceptrón\n",
        "\n",
        "[Backpropagation](https://mattmazur.com/2015/03/17/a-step-by-step-backpropagation-example/)"
      ],
      "metadata": {
        "id": "pSZ3xfzaisVh"
      }
    },
    {
      "cell_type": "markdown",
      "source": [
        "## Definición de Variables"
      ],
      "metadata": {
        "id": "OKz-4yTDiwHx"
      }
    },
    {
      "cell_type": "code",
      "source": [
        ""
      ],
      "metadata": {
        "id": "Prb61XvBnd03"
      },
      "execution_count": null,
      "outputs": []
    },
    {
      "cell_type": "markdown",
      "source": [
        "## Forward Pass"
      ],
      "metadata": {
        "id": "TFu1-p4Hi25Q"
      }
    },
    {
      "cell_type": "markdown",
      "source": [
        "### Hidden Layer"
      ],
      "metadata": {
        "id": "gi9drEWii4t3"
      }
    },
    {
      "cell_type": "markdown",
      "source": [
        "#### Suma"
      ],
      "metadata": {
        "id": "w7tp0GYpi7y8"
      }
    },
    {
      "cell_type": "code",
      "source": [
        ""
      ],
      "metadata": {
        "id": "j-xPyxP0ngNn"
      },
      "execution_count": null,
      "outputs": []
    },
    {
      "cell_type": "code",
      "source": [
        ""
      ],
      "metadata": {
        "id": "VblN0jKqngDq"
      },
      "execution_count": null,
      "outputs": []
    },
    {
      "cell_type": "markdown",
      "source": [
        "#### Activación"
      ],
      "metadata": {
        "id": "i_xEKNsdi99b"
      }
    },
    {
      "cell_type": "code",
      "source": [
        ""
      ],
      "metadata": {
        "id": "Pw_vEPxmnhcL"
      },
      "execution_count": null,
      "outputs": []
    },
    {
      "cell_type": "code",
      "source": [
        ""
      ],
      "metadata": {
        "id": "vd2UFc4inhT5"
      },
      "execution_count": null,
      "outputs": []
    },
    {
      "cell_type": "markdown",
      "source": [
        "### Output Layer"
      ],
      "metadata": {
        "id": "pTfCD-_0jHEl"
      }
    },
    {
      "cell_type": "markdown",
      "source": [
        "#### Suma"
      ],
      "metadata": {
        "id": "NtnDbfszjIm7"
      }
    },
    {
      "cell_type": "code",
      "source": [
        ""
      ],
      "metadata": {
        "id": "YL612Fvznikg"
      },
      "execution_count": null,
      "outputs": []
    },
    {
      "cell_type": "code",
      "source": [
        ""
      ],
      "metadata": {
        "id": "UQ3L2Da-nidT"
      },
      "execution_count": null,
      "outputs": []
    },
    {
      "cell_type": "markdown",
      "source": [
        "#### Activación"
      ],
      "metadata": {
        "id": "zg-AfMFZjJzU"
      }
    },
    {
      "cell_type": "code",
      "source": [
        ""
      ],
      "metadata": {
        "id": "7YPLeiWgnkVE"
      },
      "execution_count": null,
      "outputs": []
    },
    {
      "cell_type": "code",
      "source": [
        ""
      ],
      "metadata": {
        "id": "knhg0qjhnkNH"
      },
      "execution_count": null,
      "outputs": []
    },
    {
      "cell_type": "markdown",
      "source": [
        "### Error"
      ],
      "metadata": {
        "id": "K1wOM_-djM6v"
      }
    },
    {
      "cell_type": "markdown",
      "source": [
        "#### Error Output 1"
      ],
      "metadata": {
        "id": "UY57HfgYjPNb"
      }
    },
    {
      "cell_type": "code",
      "source": [
        ""
      ],
      "metadata": {
        "id": "GZfK2Hl6nlcr"
      },
      "execution_count": null,
      "outputs": []
    },
    {
      "cell_type": "markdown",
      "source": [
        "#### Error Output 2"
      ],
      "metadata": {
        "id": "Fyrfy_lzjQpC"
      }
    },
    {
      "cell_type": "code",
      "source": [
        ""
      ],
      "metadata": {
        "id": "LrbX04klnmf5"
      },
      "execution_count": null,
      "outputs": []
    },
    {
      "cell_type": "markdown",
      "source": [
        "#### Error total"
      ],
      "metadata": {
        "id": "Wuley89cjSec"
      }
    },
    {
      "cell_type": "code",
      "source": [
        ""
      ],
      "metadata": {
        "id": "B-3TTjhhnnVa"
      },
      "execution_count": null,
      "outputs": []
    },
    {
      "cell_type": "markdown",
      "source": [
        "## Backpropagation"
      ],
      "metadata": {
        "id": "ulArsu4yjUej"
      }
    },
    {
      "cell_type": "markdown",
      "source": [
        "### Output Layer"
      ],
      "metadata": {
        "id": "DgSqyKNljWJU"
      }
    },
    {
      "cell_type": "markdown",
      "source": [
        "#### Derivada parcial del error total con respecto a la salida 1"
      ],
      "metadata": {
        "id": "1WqK9Vp8jX3-"
      }
    },
    {
      "cell_type": "code",
      "source": [
        ""
      ],
      "metadata": {
        "id": "4fS1fBACnqB5"
      },
      "execution_count": null,
      "outputs": []
    },
    {
      "cell_type": "markdown",
      "source": [
        "#### Derivada parcial de la salida 1 con respecto a la función de activación"
      ],
      "metadata": {
        "id": "ma_iHxAsjg6R"
      }
    },
    {
      "cell_type": "code",
      "source": [
        ""
      ],
      "metadata": {
        "id": "xpm7l5n2nqiG"
      },
      "execution_count": null,
      "outputs": []
    },
    {
      "cell_type": "markdown",
      "source": [
        "#### Derivada parcial de la función de activación con respecto a la suma"
      ],
      "metadata": {
        "id": "-teXfJl_jy4Q"
      }
    },
    {
      "cell_type": "code",
      "source": [
        ""
      ],
      "metadata": {
        "id": "lst9dNcGnryb"
      },
      "execution_count": null,
      "outputs": []
    },
    {
      "cell_type": "markdown",
      "source": [
        "#### Derivada parcial del error total con respecto al peso 5 (primer peso de la neurona de salida)"
      ],
      "metadata": {
        "id": "bl2owqvQj6im"
      }
    },
    {
      "cell_type": "code",
      "source": [
        ""
      ],
      "metadata": {
        "id": "PZQWVqxKns_x"
      },
      "execution_count": null,
      "outputs": []
    },
    {
      "cell_type": "markdown",
      "source": [
        "#### Tasa de aprendizaje"
      ],
      "metadata": {
        "id": "x1v0OoTmkBw3"
      }
    },
    {
      "cell_type": "code",
      "source": [
        ""
      ],
      "metadata": {
        "id": "AhSSELh6nuyp"
      },
      "execution_count": null,
      "outputs": []
    },
    {
      "cell_type": "markdown",
      "source": [
        "#### Actualización del peso 5"
      ],
      "metadata": {
        "id": "hpNIaK4LkD1q"
      }
    },
    {
      "cell_type": "code",
      "source": [
        ""
      ],
      "metadata": {
        "id": "0khnp4twnvpM"
      },
      "execution_count": null,
      "outputs": []
    },
    {
      "cell_type": "markdown",
      "source": [
        "#### Derivada parcial del error total con respecto al peso 6"
      ],
      "metadata": {
        "id": "xUeE6dTGkKEk"
      }
    },
    {
      "cell_type": "code",
      "source": [
        ""
      ],
      "metadata": {
        "id": "IJPW1qognwlQ"
      },
      "execution_count": null,
      "outputs": []
    },
    {
      "cell_type": "markdown",
      "source": [
        "#### Actualización del peso 6"
      ],
      "metadata": {
        "id": "ZH4fQfBnkUy9"
      }
    },
    {
      "cell_type": "code",
      "source": [
        ""
      ],
      "metadata": {
        "id": "1PfZWeqrnxcF"
      },
      "execution_count": null,
      "outputs": []
    },
    {
      "cell_type": "markdown",
      "source": [
        "#### Derivada parcial del error total con respecto al peso 7"
      ],
      "metadata": {
        "id": "r1ZzHK7hkYK7"
      }
    },
    {
      "cell_type": "code",
      "source": [
        ""
      ],
      "metadata": {
        "id": "PY7oaq2Xnydq"
      },
      "execution_count": null,
      "outputs": []
    },
    {
      "cell_type": "markdown",
      "source": [
        "#### Actualización del peso 7"
      ],
      "metadata": {
        "id": "F1kmq-vQkdis"
      }
    },
    {
      "cell_type": "code",
      "source": [
        ""
      ],
      "metadata": {
        "id": "E6NGjntknzdd"
      },
      "execution_count": null,
      "outputs": []
    },
    {
      "cell_type": "markdown",
      "source": [
        "#### Derivada parcial del error total con respecto al peso 8"
      ],
      "metadata": {
        "id": "L3eLwMl5kgUX"
      }
    },
    {
      "cell_type": "code",
      "source": [
        ""
      ],
      "metadata": {
        "id": "NGps0uqmn0Q6"
      },
      "execution_count": null,
      "outputs": []
    },
    {
      "cell_type": "markdown",
      "source": [
        "#### Actualización del peso 8"
      ],
      "metadata": {
        "id": "b88Lt71Pki-c"
      }
    },
    {
      "cell_type": "code",
      "source": [
        ""
      ],
      "metadata": {
        "id": "YXC_UkRZn1FH"
      },
      "execution_count": null,
      "outputs": []
    },
    {
      "cell_type": "markdown",
      "source": [
        "#### Verificación de pesos"
      ],
      "metadata": {
        "id": "bQ7Hu7X4klOX"
      }
    },
    {
      "cell_type": "code",
      "source": [
        "print(w5, w5_n)\n",
        "print(w6, w6_n)\n",
        "print(w7, w7_n)\n",
        "print(w8, w8_n)"
      ],
      "metadata": {
        "id": "7NJF-KU2YAYz"
      },
      "execution_count": null,
      "outputs": []
    },
    {
      "cell_type": "markdown",
      "source": [
        "### Hidden Layer"
      ],
      "metadata": {
        "id": "ee4i4ghbknHi"
      }
    },
    {
      "cell_type": "markdown",
      "source": [
        "#### Derivada parcial del error de la salida 1 con respecto a la función de activación"
      ],
      "metadata": {
        "id": "HRJranE3kp5S"
      }
    },
    {
      "cell_type": "code",
      "source": [
        "d_error_o1_net_o1 = d_error_total_out_o1 * d_out_o1_net_o1\n",
        "d_error_o1_net_o1"
      ],
      "metadata": {
        "colab": {
          "base_uri": "https://localhost:8080/"
        },
        "id": "BCNHzy29YwQc",
        "outputId": "063c146f-f53c-4cf8-b536-219cc0c5389a"
      },
      "execution_count": null,
      "outputs": [
        {
          "output_type": "execute_result",
          "data": {
            "text/plain": [
              "0.13849856162855698"
            ]
          },
          "metadata": {},
          "execution_count": 30
        }
      ]
    },
    {
      "cell_type": "markdown",
      "source": [
        "#### Derivada parcial de la salida 1 con respecto a la suma"
      ],
      "metadata": {
        "id": "VVp4gDzZkwx7"
      }
    },
    {
      "cell_type": "code",
      "source": [
        "d_net_o1_out_h1 = w5\n",
        "d_net_o1_out_h1"
      ],
      "metadata": {
        "colab": {
          "base_uri": "https://localhost:8080/"
        },
        "id": "6Cf_rUjvaYxA",
        "outputId": "ed27b032-b399-4282-a067-f8534d44ed92"
      },
      "execution_count": null,
      "outputs": [
        {
          "output_type": "execute_result",
          "data": {
            "text/plain": [
              "0.4"
            ]
          },
          "metadata": {},
          "execution_count": 31
        }
      ]
    },
    {
      "cell_type": "markdown",
      "source": [
        "#### Derivada parcial de la salida 1 con respecto a la neurona oculta 1 (h1)"
      ],
      "metadata": {
        "id": "riS9ywyKk0t8"
      }
    },
    {
      "cell_type": "code",
      "source": [
        "d_error_o1_out_h1 = d_error_o1_net_o1 * d_net_o1_out_h1\n",
        "d_error_o1_out_h1"
      ],
      "metadata": {
        "colab": {
          "base_uri": "https://localhost:8080/"
        },
        "id": "R4RPTItgai3x",
        "outputId": "996e1b41-401e-4ec0-f413-ca4678999f5a"
      },
      "execution_count": null,
      "outputs": [
        {
          "output_type": "execute_result",
          "data": {
            "text/plain": [
              "0.05539942465142279"
            ]
          },
          "metadata": {},
          "execution_count": 32
        }
      ]
    },
    {
      "cell_type": "markdown",
      "source": [
        "#### Derivada parcial del error de la salida 2 con respecto a la neurona oculta 1"
      ],
      "metadata": {
        "id": "lFQY_FFtk5-e"
      }
    },
    {
      "cell_type": "code",
      "source": [
        "d_error_o2_net_o2 = d_error_total_out_o2 * d_out_o2_net_o2\n",
        "d_net_o2_out_h1 = w7\n",
        "d_error_o2_out_h1 = d_error_o2_net_o2 * d_net_o2_out_h1\n",
        "d_error_o2_out_h1"
      ],
      "metadata": {
        "colab": {
          "base_uri": "https://localhost:8080/"
        },
        "id": "SrKk1x58apsN",
        "outputId": "aab282b2-ed88-4dfe-8ebb-f438b6f58d61"
      },
      "execution_count": null,
      "outputs": [
        {
          "output_type": "execute_result",
          "data": {
            "text/plain": [
              "-0.019049118258278114"
            ]
          },
          "metadata": {},
          "execution_count": 33
        }
      ]
    },
    {
      "cell_type": "markdown",
      "source": [
        "#### Derivada parcial del error total con respecto a la neurona oculta 1"
      ],
      "metadata": {
        "id": "AJhbQknhk_Hv"
      }
    },
    {
      "cell_type": "code",
      "source": [
        "d_error_total_out_h1 = d_error_o1_out_h1 + d_error_o2_out_h1\n",
        "d_error_total_out_h1"
      ],
      "metadata": {
        "colab": {
          "base_uri": "https://localhost:8080/"
        },
        "id": "CgrHJ80IbL_0",
        "outputId": "c6a55a3e-309c-4117-9ff2-b9147a8ca0b4"
      },
      "execution_count": null,
      "outputs": [
        {
          "output_type": "execute_result",
          "data": {
            "text/plain": [
              "0.03635030639314468"
            ]
          },
          "metadata": {},
          "execution_count": 34
        }
      ]
    },
    {
      "cell_type": "markdown",
      "source": [
        "#### Derivada parcial de la salida de la neurona oculta 1 con respecto a la función de activación"
      ],
      "metadata": {
        "id": "fnMWhsKnlDYQ"
      }
    },
    {
      "cell_type": "code",
      "source": [
        "d_out_h1_net_h1 = out_h1 * (1 - out_h1)\n",
        "d_out_h1_net_h1"
      ],
      "metadata": {
        "colab": {
          "base_uri": "https://localhost:8080/"
        },
        "id": "FI_amdodbVYW",
        "outputId": "e7a4cd82-9c20-4520-ed55-b9ce74bca315"
      },
      "execution_count": null,
      "outputs": [
        {
          "output_type": "execute_result",
          "data": {
            "text/plain": [
              "0.24130070857232525"
            ]
          },
          "metadata": {},
          "execution_count": 35
        }
      ]
    },
    {
      "cell_type": "markdown",
      "source": [
        "#### Derivada parcial de la función de activación con respecto a la suma"
      ],
      "metadata": {
        "id": "rP2mo-WamMqk"
      }
    },
    {
      "cell_type": "code",
      "source": [
        "d_net_h1_w1 = i1\n",
        "d_net_h1_w1"
      ],
      "metadata": {
        "colab": {
          "base_uri": "https://localhost:8080/"
        },
        "id": "yM2niqFKbdfz",
        "outputId": "c8593499-ce89-4310-b130-2ccdbaa387bd"
      },
      "execution_count": null,
      "outputs": [
        {
          "output_type": "execute_result",
          "data": {
            "text/plain": [
              "0.05"
            ]
          },
          "metadata": {},
          "execution_count": 36
        }
      ]
    },
    {
      "cell_type": "markdown",
      "source": [
        "#### Derivada parcial del error total con respecto al peso 1"
      ],
      "metadata": {
        "id": "EKQQvd0imTh6"
      }
    },
    {
      "cell_type": "code",
      "source": [
        "d_error_total_w1 = d_error_total_out_h1 * d_out_h1_net_h1 * d_net_h1_w1\n",
        "d_error_total_w1"
      ],
      "metadata": {
        "colab": {
          "base_uri": "https://localhost:8080/"
        },
        "id": "3z8KEPRZbo2i",
        "outputId": "198954b8-5d20-45ba-81e8-40b3d2203f72"
      },
      "execution_count": null,
      "outputs": [
        {
          "output_type": "execute_result",
          "data": {
            "text/plain": [
              "0.00043856773447434685"
            ]
          },
          "metadata": {},
          "execution_count": 39
        }
      ]
    },
    {
      "cell_type": "markdown",
      "source": [
        "#### Actualización del peso 1"
      ],
      "metadata": {
        "id": "EPZfw0YpmUN9"
      }
    },
    {
      "cell_type": "code",
      "source": [
        "w1_n = w1 - learning_rate * d_error_total_w1\n",
        "w1_n"
      ],
      "metadata": {
        "colab": {
          "base_uri": "https://localhost:8080/"
        },
        "id": "gTYrrRvGbxyT",
        "outputId": "597d19e6-b01d-48ce-958e-239a9542bda3"
      },
      "execution_count": null,
      "outputs": [
        {
          "output_type": "execute_result",
          "data": {
            "text/plain": [
              "0.1497807161327628"
            ]
          },
          "metadata": {},
          "execution_count": 40
        }
      ]
    },
    {
      "cell_type": "markdown",
      "source": [
        "#### Derivada parcial de la función de activación con respecto a la suma (entrada 2)"
      ],
      "metadata": {
        "id": "4g0slWKymWZM"
      }
    },
    {
      "cell_type": "code",
      "source": [
        "d_net_h1_w2 = i2\n",
        "d_net_h1_w2"
      ],
      "metadata": {
        "colab": {
          "base_uri": "https://localhost:8080/"
        },
        "id": "HDXfEynydPz9",
        "outputId": "ba31684f-0797-475b-bed9-fe4658b24eca"
      },
      "execution_count": null,
      "outputs": [
        {
          "output_type": "execute_result",
          "data": {
            "text/plain": [
              "0.1"
            ]
          },
          "metadata": {},
          "execution_count": 41
        }
      ]
    },
    {
      "cell_type": "markdown",
      "source": [
        "#### Derivada parcial del error total con respecto al peso 2"
      ],
      "metadata": {
        "id": "-rgvWLXGmbvI"
      }
    },
    {
      "cell_type": "code",
      "source": [
        "d_error_total_w2 = d_error_total_out_h1 * d_out_h1_net_h1 * d_net_h1_w2\n",
        "d_error_total_w2"
      ],
      "metadata": {
        "colab": {
          "base_uri": "https://localhost:8080/"
        },
        "id": "-IMn9bN9cUkl",
        "outputId": "ef080c97-0333-47d0-fc2f-646204f3b411"
      },
      "execution_count": null,
      "outputs": [
        {
          "output_type": "execute_result",
          "data": {
            "text/plain": [
              "0.0008771354689486937"
            ]
          },
          "metadata": {},
          "execution_count": 42
        }
      ]
    },
    {
      "cell_type": "markdown",
      "source": [
        "#### Actualización del peso 2"
      ],
      "metadata": {
        "id": "dgAZWm5Dmern"
      }
    },
    {
      "cell_type": "code",
      "source": [
        "w2_n = w2 - learning_rate * d_error_total_w2\n",
        "w2_n"
      ],
      "metadata": {
        "colab": {
          "base_uri": "https://localhost:8080/"
        },
        "id": "ns2yqbp9dShu",
        "outputId": "88c16484-da3d-4130-fece-8f4922c8901b"
      },
      "execution_count": null,
      "outputs": [
        {
          "output_type": "execute_result",
          "data": {
            "text/plain": [
              "0.19956143226552567"
            ]
          },
          "metadata": {},
          "execution_count": 43
        }
      ]
    },
    {
      "cell_type": "markdown",
      "source": [
        "#### Derivada parcial de la salida 2"
      ],
      "metadata": {
        "id": "e_QzTDKAmk-E"
      }
    },
    {
      "cell_type": "code",
      "source": [
        "d_error_o2_net_o2 = d_error_total_out_o2 * d_out_o2_net_o2\n",
        "d_error_o2_net_o2"
      ],
      "metadata": {
        "colab": {
          "base_uri": "https://localhost:8080/"
        },
        "outputId": "13730788-f60c-4dd7-fb03-2b7c60c5ef09",
        "id": "cGPw5zXyfatR"
      },
      "execution_count": null,
      "outputs": [
        {
          "output_type": "execute_result",
          "data": {
            "text/plain": [
              "-0.03809823651655623"
            ]
          },
          "metadata": {},
          "execution_count": 51
        }
      ]
    },
    {
      "cell_type": "code",
      "source": [
        "d_net_o1_out_h2 = w6\n",
        "d_net_o1_out_h2"
      ],
      "metadata": {
        "colab": {
          "base_uri": "https://localhost:8080/"
        },
        "outputId": "b40f5722-fb6c-45f7-b778-e0d72fb72c53",
        "id": "PYv-exWwfatT"
      },
      "execution_count": null,
      "outputs": [
        {
          "output_type": "execute_result",
          "data": {
            "text/plain": [
              "0.45"
            ]
          },
          "metadata": {},
          "execution_count": 55
        }
      ]
    },
    {
      "cell_type": "code",
      "source": [
        "d_error_o1_out_h2 = d_error_o1_net_o1 * d_net_o1_out_h2\n",
        "d_error_o1_out_h2"
      ],
      "metadata": {
        "colab": {
          "base_uri": "https://localhost:8080/"
        },
        "outputId": "d788e28b-6788-4d3b-dcde-440263699ff7",
        "id": "RqAVgkNUfatU"
      },
      "execution_count": null,
      "outputs": [
        {
          "output_type": "execute_result",
          "data": {
            "text/plain": [
              "0.06232435273285064"
            ]
          },
          "metadata": {},
          "execution_count": 56
        }
      ]
    },
    {
      "cell_type": "code",
      "source": [
        "d_error_o2_net_o2 = d_error_total_out_o2 * d_out_o2_net_o2\n",
        "d_net_o2_out_h2 = w8\n",
        "d_error_o2_out_h2 = d_error_o2_net_o2 * d_net_o2_out_h2\n",
        "d_error_o2_out_h2"
      ],
      "metadata": {
        "colab": {
          "base_uri": "https://localhost:8080/"
        },
        "outputId": "7e577b5c-7310-4f5b-a160-f3bf05dedf00",
        "id": "gqOt4xOEfatV"
      },
      "execution_count": null,
      "outputs": [
        {
          "output_type": "execute_result",
          "data": {
            "text/plain": [
              "-0.02095403008410593"
            ]
          },
          "metadata": {},
          "execution_count": 57
        }
      ]
    },
    {
      "cell_type": "code",
      "source": [
        "d_error_total_out_h2 = d_error_o1_out_h2 + d_error_o2_out_h2\n",
        "d_error_total_out_h2"
      ],
      "metadata": {
        "colab": {
          "base_uri": "https://localhost:8080/"
        },
        "outputId": "d51d86e9-ed47-43fa-f5f7-281929d84088",
        "id": "fzw4ZL_FfatW"
      },
      "execution_count": null,
      "outputs": [
        {
          "output_type": "execute_result",
          "data": {
            "text/plain": [
              "0.04137032264874471"
            ]
          },
          "metadata": {},
          "execution_count": 58
        }
      ]
    },
    {
      "cell_type": "code",
      "source": [
        "d_out_h2_net_h2 = out_h2 * (1 - out_h2)\n",
        "d_out_h2_net_h2"
      ],
      "metadata": {
        "colab": {
          "base_uri": "https://localhost:8080/"
        },
        "outputId": "21aa7fd7-bcb4-4f72-b378-cc4bc8ec4cad",
        "id": "Zpll7T8ifatW"
      },
      "execution_count": null,
      "outputs": [
        {
          "output_type": "execute_result",
          "data": {
            "text/plain": [
              "0.2406134172492184"
            ]
          },
          "metadata": {},
          "execution_count": 59
        }
      ]
    },
    {
      "cell_type": "code",
      "source": [
        "d_net_h2_w3 = i1\n",
        "d_net_h2_w3"
      ],
      "metadata": {
        "colab": {
          "base_uri": "https://localhost:8080/"
        },
        "outputId": "ed150c7d-96a1-448e-d48c-4774f1182f60",
        "id": "KTC1wBJZfatX"
      },
      "execution_count": null,
      "outputs": [
        {
          "output_type": "execute_result",
          "data": {
            "text/plain": [
              "0.05"
            ]
          },
          "metadata": {},
          "execution_count": 60
        }
      ]
    },
    {
      "cell_type": "code",
      "source": [
        "d_error_total_w3 = d_error_total_out_h2 * d_out_h2_net_h2 * d_net_h2_w3\n",
        "d_error_total_w3"
      ],
      "metadata": {
        "colab": {
          "base_uri": "https://localhost:8080/"
        },
        "outputId": "d753a688-8eaf-4022-c058-c0ba523ccd32",
        "id": "H34kz5BwfatY"
      },
      "execution_count": null,
      "outputs": [
        {
          "output_type": "execute_result",
          "data": {
            "text/plain": [
              "0.0004977127352608601"
            ]
          },
          "metadata": {},
          "execution_count": 61
        }
      ]
    },
    {
      "cell_type": "markdown",
      "source": [
        "#### Actualización del peso 3"
      ],
      "metadata": {
        "id": "ASaz1p1ZmxxD"
      }
    },
    {
      "cell_type": "code",
      "source": [
        "w3_n = w3 - learning_rate * d_error_total_w3\n",
        "w3_n"
      ],
      "metadata": {
        "colab": {
          "base_uri": "https://localhost:8080/"
        },
        "outputId": "13392202-b07b-44ec-dd36-0a1cf41fc463",
        "id": "J_VAFCh7fatY"
      },
      "execution_count": null,
      "outputs": [
        {
          "output_type": "execute_result",
          "data": {
            "text/plain": [
              "0.24975114363236958"
            ]
          },
          "metadata": {},
          "execution_count": 62
        }
      ]
    },
    {
      "cell_type": "code",
      "source": [
        "d_net_h2_w4 = i2\n",
        "d_net_h2_w4"
      ],
      "metadata": {
        "colab": {
          "base_uri": "https://localhost:8080/"
        },
        "outputId": "99afaef2-74a4-4866-da49-4ae333e6b9ee",
        "id": "nla2tYY_fatZ"
      },
      "execution_count": null,
      "outputs": [
        {
          "output_type": "execute_result",
          "data": {
            "text/plain": [
              "0.1"
            ]
          },
          "metadata": {},
          "execution_count": 64
        }
      ]
    },
    {
      "cell_type": "code",
      "source": [
        "d_error_total_w4 = d_error_total_out_h2 * d_out_h2_net_h2 * d_net_h2_w4\n",
        "d_error_total_w4"
      ],
      "metadata": {
        "colab": {
          "base_uri": "https://localhost:8080/"
        },
        "outputId": "97a84902-ad42-43b2-9e63-a1a26f7f58a9",
        "id": "nf7QRgwefata"
      },
      "execution_count": null,
      "outputs": [
        {
          "output_type": "execute_result",
          "data": {
            "text/plain": [
              "0.0009954254705217202"
            ]
          },
          "metadata": {},
          "execution_count": 65
        }
      ]
    },
    {
      "cell_type": "markdown",
      "source": [
        "#### Actualización del peso 4"
      ],
      "metadata": {
        "id": "jJsX3hUam0jE"
      }
    },
    {
      "cell_type": "code",
      "source": [
        "w4_n = w4 - learning_rate * d_error_total_w4\n",
        "w4_n"
      ],
      "metadata": {
        "colab": {
          "base_uri": "https://localhost:8080/"
        },
        "outputId": "54b615ef-537f-4140-a7a0-a39bb6096b4e",
        "id": "VhCQn5cmfatb"
      },
      "execution_count": null,
      "outputs": [
        {
          "output_type": "execute_result",
          "data": {
            "text/plain": [
              "0.29950228726473915"
            ]
          },
          "metadata": {},
          "execution_count": 66
        }
      ]
    },
    {
      "cell_type": "markdown",
      "source": [
        "## Actualizamos pesos"
      ],
      "metadata": {
        "id": "4gHUkQvdgxlI"
      }
    },
    {
      "cell_type": "code",
      "source": [
        "w1 = w1_n\n",
        "w2 = w2_n\n",
        "w3 = w3_n\n",
        "w4 = w3_n\n",
        "w5 = w5_n\n",
        "w6 = w6_n\n",
        "w7 = w7_n\n",
        "w8 = w8_n"
      ],
      "metadata": {
        "id": "UFuS4LSzgxGR"
      },
      "execution_count": null,
      "outputs": []
    },
    {
      "cell_type": "markdown",
      "source": [
        "### Reevaluamos salida y error"
      ],
      "metadata": {
        "id": "u_Q0qZzbm7A7"
      }
    },
    {
      "cell_type": "markdown",
      "source": [
        "#### Forward pass"
      ],
      "metadata": {
        "id": "oIrEsf3nm8qy"
      }
    },
    {
      "cell_type": "code",
      "source": [
        "net_h1 = w1*i1 + w2*i2 + b1\n",
        "net_h1"
      ],
      "metadata": {
        "colab": {
          "base_uri": "https://localhost:8080/"
        },
        "outputId": "9b7b993b-b37a-4d68-a916-9b4e134a0304",
        "id": "F2xxndTWg7Dg"
      },
      "execution_count": null,
      "outputs": [
        {
          "output_type": "execute_result",
          "data": {
            "text/plain": [
              "0.3774451790331907"
            ]
          },
          "metadata": {},
          "execution_count": 68
        }
      ]
    },
    {
      "cell_type": "code",
      "source": [
        "net_h2 = w3*i1 + w4*i2 + b1\n",
        "net_h2"
      ],
      "metadata": {
        "colab": {
          "base_uri": "https://localhost:8080/"
        },
        "outputId": "63638494-0a76-4669-eb6f-9d43fd8d7363",
        "id": "O3c8DcpRg7Di"
      },
      "execution_count": null,
      "outputs": [
        {
          "output_type": "execute_result",
          "data": {
            "text/plain": [
              "0.3874626715448554"
            ]
          },
          "metadata": {},
          "execution_count": 70
        }
      ]
    },
    {
      "cell_type": "code",
      "source": [
        "import math\n",
        "out_h1 = 1 / (1 + math.exp(-net_h1))\n",
        "out_h1"
      ],
      "metadata": {
        "colab": {
          "base_uri": "https://localhost:8080/"
        },
        "outputId": "6e4cc455-43fd-434b-d7b0-00477bc1f148",
        "id": "fglK7yIig7Dh"
      },
      "execution_count": null,
      "outputs": [
        {
          "output_type": "execute_result",
          "data": {
            "text/plain": [
              "0.593256763701416"
            ]
          },
          "metadata": {},
          "execution_count": 69
        }
      ]
    },
    {
      "cell_type": "code",
      "source": [
        "out_h2 = 1 / (1 + math.exp(-net_h2))\n",
        "out_h2"
      ],
      "metadata": {
        "colab": {
          "base_uri": "https://localhost:8080/"
        },
        "outputId": "619f897a-e3eb-4a07-b161-e03b17770b41",
        "id": "ThKUH9fNg7Dj"
      },
      "execution_count": null,
      "outputs": [
        {
          "output_type": "execute_result",
          "data": {
            "text/plain": [
              "0.5956717401965754"
            ]
          },
          "metadata": {},
          "execution_count": 71
        }
      ]
    },
    {
      "cell_type": "code",
      "source": [
        "net_o1 = w5*out_h1 + w6*out_h2 + b2\n",
        "net_o1"
      ],
      "metadata": {
        "colab": {
          "base_uri": "https://localhost:8080/"
        },
        "outputId": "e9e6c13e-d1ea-4b92-be72-00c8d8363c50",
        "id": "epziq-p-g7Dk"
      },
      "execution_count": null,
      "outputs": [
        {
          "output_type": "execute_result",
          "data": {
            "text/plain": [
              "1.0563605274160646"
            ]
          },
          "metadata": {},
          "execution_count": 72
        }
      ]
    },
    {
      "cell_type": "code",
      "source": [
        "net_o2 = w7*out_h1 + w8*out_h2 + b2\n",
        "net_o2"
      ],
      "metadata": {
        "colab": {
          "base_uri": "https://localhost:8080/"
        },
        "outputId": "1776d0cc-72aa-46e5-dedd-039e08dae6fa",
        "id": "vEJc8uw8g7Dl"
      },
      "execution_count": null,
      "outputs": [
        {
          "output_type": "execute_result",
          "data": {
            "text/plain": [
              "1.2377252537930148"
            ]
          },
          "metadata": {},
          "execution_count": 74
        }
      ]
    },
    {
      "cell_type": "code",
      "source": [
        "out_o1 = 1 / (1 + math.exp(-net_o1))\n",
        "out_o1"
      ],
      "metadata": {
        "colab": {
          "base_uri": "https://localhost:8080/"
        },
        "outputId": "bfad6f15-b247-457a-9c35-dbcde3c6008b",
        "id": "kSimfDFsg7Dk"
      },
      "execution_count": null,
      "outputs": [
        {
          "output_type": "execute_result",
          "data": {
            "text/plain": [
              "0.7419944232711723"
            ]
          },
          "metadata": {},
          "execution_count": 73
        }
      ]
    },
    {
      "cell_type": "code",
      "source": [
        "out_o2 = 1 / (1 + math.exp(-net_o2))\n",
        "out_o2"
      ],
      "metadata": {
        "colab": {
          "base_uri": "https://localhost:8080/"
        },
        "outputId": "672ba174-2241-4fa6-89d9-02ac2c745cc2",
        "id": "nYUTYoe3g7Dl"
      },
      "execution_count": null,
      "outputs": [
        {
          "output_type": "execute_result",
          "data": {
            "text/plain": [
              "0.7751678135841016"
            ]
          },
          "metadata": {},
          "execution_count": 75
        }
      ]
    },
    {
      "cell_type": "markdown",
      "source": [
        "#### Error"
      ],
      "metadata": {
        "id": "poNs3uDBnBtf"
      }
    },
    {
      "cell_type": "code",
      "source": [
        "error_o1 = 0.5*(o1 - out_o1)**2\n",
        "error_o1"
      ],
      "metadata": {
        "colab": {
          "base_uri": "https://localhost:8080/"
        },
        "outputId": "22c023da-615d-4fba-a846-9cd1a5a877b5",
        "id": "_HHRZycng7Dm"
      },
      "execution_count": null,
      "outputs": [
        {
          "output_type": "execute_result",
          "data": {
            "text/plain": [
              "0.267907917850048"
            ]
          },
          "metadata": {},
          "execution_count": 76
        }
      ]
    },
    {
      "cell_type": "code",
      "source": [
        "error_o2 = 0.5*(o2 - out_o2)**2\n",
        "error_o2"
      ],
      "metadata": {
        "colab": {
          "base_uri": "https://localhost:8080/"
        },
        "outputId": "87d19906-4842-454c-c940-2f50e635aade",
        "id": "wFl-0iJdg7Dn"
      },
      "execution_count": null,
      "outputs": [
        {
          "output_type": "execute_result",
          "data": {
            "text/plain": [
              "0.023076434160117662"
            ]
          },
          "metadata": {},
          "execution_count": 77
        }
      ]
    },
    {
      "cell_type": "code",
      "source": [
        "error_total = error_o1 + error_o2\n",
        "error_total"
      ],
      "metadata": {
        "colab": {
          "base_uri": "https://localhost:8080/"
        },
        "outputId": "a1936a30-4435-4cc7-94eb-d2fe316825e1",
        "id": "EVoj8SFlg7Dn"
      },
      "execution_count": null,
      "outputs": [
        {
          "output_type": "execute_result",
          "data": {
            "text/plain": [
              "0.2909843520101657"
            ]
          },
          "metadata": {},
          "execution_count": 78
        }
      ]
    }
  ]
}