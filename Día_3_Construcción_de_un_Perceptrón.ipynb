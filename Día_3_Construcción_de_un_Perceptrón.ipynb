{
  "nbformat": 4,
  "nbformat_minor": 0,
  "metadata": {
    "colab": {
      "name": "Día 3.- Construcción de un Perceptrón",
      "provenance": [],
      "authorship_tag": "ABX9TyMi9LH52ux5qh1Q7PRSZzPw",
      "include_colab_link": true
    },
    "kernelspec": {
      "name": "python3",
      "display_name": "Python 3"
    },
    "language_info": {
      "name": "python"
    }
  },
  "cells": [
    {
      "cell_type": "markdown",
      "metadata": {
        "id": "view-in-github",
        "colab_type": "text"
      },
      "source": [
        "<a href=\"https://colab.research.google.com/github/manuel-suarez/curso_itc_nn/blob/main/D%C3%ADa_3_Construcci%C3%B3n_de_un_Perceptr%C3%B3n.ipynb\" target=\"_parent\"><img src=\"https://colab.research.google.com/assets/colab-badge.svg\" alt=\"Open In Colab\"/></a>"
      ]
    },
    {
      "cell_type": "markdown",
      "source": [
        "# Implementación de un Perceptrón\n",
        "\n",
        "[Backpropagation](https://mattmazur.com/2015/03/17/a-step-by-step-backpropagation-example/)"
      ],
      "metadata": {
        "id": "pSZ3xfzaisVh"
      }
    },
    {
      "cell_type": "markdown",
      "source": [
        "## Definición de Variables"
      ],
      "metadata": {
        "id": "OKz-4yTDiwHx"
      }
    },
    {
      "cell_type": "code",
      "source": [
        ""
      ],
      "metadata": {
        "id": "Prb61XvBnd03"
      },
      "execution_count": null,
      "outputs": []
    },
    {
      "cell_type": "markdown",
      "source": [
        "## Forward Pass"
      ],
      "metadata": {
        "id": "TFu1-p4Hi25Q"
      }
    },
    {
      "cell_type": "markdown",
      "source": [
        "### Hidden Layer"
      ],
      "metadata": {
        "id": "gi9drEWii4t3"
      }
    },
    {
      "cell_type": "markdown",
      "source": [
        "#### Suma"
      ],
      "metadata": {
        "id": "w7tp0GYpi7y8"
      }
    },
    {
      "cell_type": "code",
      "source": [
        ""
      ],
      "metadata": {
        "id": "j-xPyxP0ngNn"
      },
      "execution_count": null,
      "outputs": []
    },
    {
      "cell_type": "code",
      "source": [
        ""
      ],
      "metadata": {
        "id": "VblN0jKqngDq"
      },
      "execution_count": null,
      "outputs": []
    },
    {
      "cell_type": "markdown",
      "source": [
        "#### Activación"
      ],
      "metadata": {
        "id": "i_xEKNsdi99b"
      }
    },
    {
      "cell_type": "code",
      "source": [
        ""
      ],
      "metadata": {
        "id": "Pw_vEPxmnhcL"
      },
      "execution_count": null,
      "outputs": []
    },
    {
      "cell_type": "code",
      "source": [
        ""
      ],
      "metadata": {
        "id": "vd2UFc4inhT5"
      },
      "execution_count": null,
      "outputs": []
    },
    {
      "cell_type": "markdown",
      "source": [
        "### Output Layer"
      ],
      "metadata": {
        "id": "pTfCD-_0jHEl"
      }
    },
    {
      "cell_type": "markdown",
      "source": [
        "#### Suma"
      ],
      "metadata": {
        "id": "NtnDbfszjIm7"
      }
    },
    {
      "cell_type": "code",
      "source": [
        ""
      ],
      "metadata": {
        "id": "YL612Fvznikg"
      },
      "execution_count": null,
      "outputs": []
    },
    {
      "cell_type": "code",
      "source": [
        ""
      ],
      "metadata": {
        "id": "UQ3L2Da-nidT"
      },
      "execution_count": null,
      "outputs": []
    },
    {
      "cell_type": "markdown",
      "source": [
        "#### Activación"
      ],
      "metadata": {
        "id": "zg-AfMFZjJzU"
      }
    },
    {
      "cell_type": "code",
      "source": [
        ""
      ],
      "metadata": {
        "id": "7YPLeiWgnkVE"
      },
      "execution_count": null,
      "outputs": []
    },
    {
      "cell_type": "code",
      "source": [
        ""
      ],
      "metadata": {
        "id": "knhg0qjhnkNH"
      },
      "execution_count": null,
      "outputs": []
    },
    {
      "cell_type": "markdown",
      "source": [
        "### Error"
      ],
      "metadata": {
        "id": "K1wOM_-djM6v"
      }
    },
    {
      "cell_type": "markdown",
      "source": [
        "#### Error Output 1"
      ],
      "metadata": {
        "id": "UY57HfgYjPNb"
      }
    },
    {
      "cell_type": "code",
      "source": [
        ""
      ],
      "metadata": {
        "id": "GZfK2Hl6nlcr"
      },
      "execution_count": null,
      "outputs": []
    },
    {
      "cell_type": "markdown",
      "source": [
        "#### Error Output 2"
      ],
      "metadata": {
        "id": "Fyrfy_lzjQpC"
      }
    },
    {
      "cell_type": "code",
      "source": [
        ""
      ],
      "metadata": {
        "id": "LrbX04klnmf5"
      },
      "execution_count": null,
      "outputs": []
    },
    {
      "cell_type": "markdown",
      "source": [
        "#### Error total"
      ],
      "metadata": {
        "id": "Wuley89cjSec"
      }
    },
    {
      "cell_type": "code",
      "source": [
        ""
      ],
      "metadata": {
        "id": "B-3TTjhhnnVa"
      },
      "execution_count": null,
      "outputs": []
    },
    {
      "cell_type": "markdown",
      "source": [
        "## Backpropagation"
      ],
      "metadata": {
        "id": "ulArsu4yjUej"
      }
    },
    {
      "cell_type": "markdown",
      "source": [
        "### Output Layer"
      ],
      "metadata": {
        "id": "DgSqyKNljWJU"
      }
    },
    {
      "cell_type": "markdown",
      "source": [
        "#### Derivada parcial del error total con respecto a la salida 1"
      ],
      "metadata": {
        "id": "1WqK9Vp8jX3-"
      }
    },
    {
      "cell_type": "code",
      "source": [
        ""
      ],
      "metadata": {
        "id": "4fS1fBACnqB5"
      },
      "execution_count": null,
      "outputs": []
    },
    {
      "cell_type": "markdown",
      "source": [
        "#### Derivada parcial de la salida 1 con respecto a la función de activación"
      ],
      "metadata": {
        "id": "ma_iHxAsjg6R"
      }
    },
    {
      "cell_type": "code",
      "source": [
        ""
      ],
      "metadata": {
        "id": "xpm7l5n2nqiG"
      },
      "execution_count": null,
      "outputs": []
    },
    {
      "cell_type": "markdown",
      "source": [
        "#### Derivada parcial de la función de activación con respecto a la suma"
      ],
      "metadata": {
        "id": "-teXfJl_jy4Q"
      }
    },
    {
      "cell_type": "code",
      "source": [
        ""
      ],
      "metadata": {
        "id": "lst9dNcGnryb"
      },
      "execution_count": null,
      "outputs": []
    },
    {
      "cell_type": "markdown",
      "source": [
        "#### Derivada parcial del error total con respecto al peso 5 (primer peso de la neurona de salida)"
      ],
      "metadata": {
        "id": "bl2owqvQj6im"
      }
    },
    {
      "cell_type": "code",
      "source": [
        ""
      ],
      "metadata": {
        "id": "PZQWVqxKns_x"
      },
      "execution_count": null,
      "outputs": []
    },
    {
      "cell_type": "markdown",
      "source": [
        "#### Tasa de aprendizaje"
      ],
      "metadata": {
        "id": "x1v0OoTmkBw3"
      }
    },
    {
      "cell_type": "code",
      "source": [
        ""
      ],
      "metadata": {
        "id": "AhSSELh6nuyp"
      },
      "execution_count": null,
      "outputs": []
    },
    {
      "cell_type": "markdown",
      "source": [
        "#### Actualización del peso 5"
      ],
      "metadata": {
        "id": "hpNIaK4LkD1q"
      }
    },
    {
      "cell_type": "code",
      "source": [
        ""
      ],
      "metadata": {
        "id": "0khnp4twnvpM"
      },
      "execution_count": null,
      "outputs": []
    },
    {
      "cell_type": "markdown",
      "source": [
        "#### Derivada parcial del error total con respecto al peso 6"
      ],
      "metadata": {
        "id": "xUeE6dTGkKEk"
      }
    },
    {
      "cell_type": "code",
      "source": [
        ""
      ],
      "metadata": {
        "id": "IJPW1qognwlQ"
      },
      "execution_count": null,
      "outputs": []
    },
    {
      "cell_type": "markdown",
      "source": [
        "#### Actualización del peso 6"
      ],
      "metadata": {
        "id": "ZH4fQfBnkUy9"
      }
    },
    {
      "cell_type": "code",
      "source": [
        ""
      ],
      "metadata": {
        "id": "1PfZWeqrnxcF"
      },
      "execution_count": null,
      "outputs": []
    },
    {
      "cell_type": "markdown",
      "source": [
        "#### Derivada parcial del error total con respecto al peso 7"
      ],
      "metadata": {
        "id": "r1ZzHK7hkYK7"
      }
    },
    {
      "cell_type": "code",
      "source": [
        ""
      ],
      "metadata": {
        "id": "PY7oaq2Xnydq"
      },
      "execution_count": null,
      "outputs": []
    },
    {
      "cell_type": "markdown",
      "source": [
        "#### Actualización del peso 7"
      ],
      "metadata": {
        "id": "F1kmq-vQkdis"
      }
    },
    {
      "cell_type": "code",
      "source": [
        ""
      ],
      "metadata": {
        "id": "E6NGjntknzdd"
      },
      "execution_count": null,
      "outputs": []
    },
    {
      "cell_type": "markdown",
      "source": [
        "#### Derivada parcial del error total con respecto al peso 8"
      ],
      "metadata": {
        "id": "L3eLwMl5kgUX"
      }
    },
    {
      "cell_type": "code",
      "source": [
        ""
      ],
      "metadata": {
        "id": "NGps0uqmn0Q6"
      },
      "execution_count": null,
      "outputs": []
    },
    {
      "cell_type": "markdown",
      "source": [
        "#### Actualización del peso 8"
      ],
      "metadata": {
        "id": "b88Lt71Pki-c"
      }
    },
    {
      "cell_type": "code",
      "source": [
        ""
      ],
      "metadata": {
        "id": "YXC_UkRZn1FH"
      },
      "execution_count": null,
      "outputs": []
    },
    {
      "cell_type": "markdown",
      "source": [
        "#### Verificación de pesos"
      ],
      "metadata": {
        "id": "bQ7Hu7X4klOX"
      }
    },
    {
      "cell_type": "code",
      "source": [
        "print(w5, w5_n)\n",
        "print(w6, w6_n)\n",
        "print(w7, w7_n)\n",
        "print(w8, w8_n)"
      ],
      "metadata": {
        "id": "7NJF-KU2YAYz"
      },
      "execution_count": null,
      "outputs": []
    },
    {
      "cell_type": "markdown",
      "source": [
        "### Hidden Layer"
      ],
      "metadata": {
        "id": "ee4i4ghbknHi"
      }
    },
    {
      "cell_type": "markdown",
      "source": [
        "#### Derivada parcial del error de la salida 1 con respecto a la función de activación"
      ],
      "metadata": {
        "id": "HRJranE3kp5S"
      }
    },
    {
      "cell_type": "code",
      "source": [
        ""
      ],
      "metadata": {
        "id": "jd1UJg0nn64I"
      },
      "execution_count": null,
      "outputs": []
    },
    {
      "cell_type": "markdown",
      "source": [
        "#### Derivada parcial de la salida 1 con respecto a la suma"
      ],
      "metadata": {
        "id": "VVp4gDzZkwx7"
      }
    },
    {
      "cell_type": "code",
      "source": [
        ""
      ],
      "metadata": {
        "id": "7AHA5ffMn7tT"
      },
      "execution_count": null,
      "outputs": []
    },
    {
      "cell_type": "markdown",
      "source": [
        "#### Derivada parcial de la salida 1 con respecto a la neurona oculta 1 (h1)"
      ],
      "metadata": {
        "id": "riS9ywyKk0t8"
      }
    },
    {
      "cell_type": "code",
      "source": [
        ""
      ],
      "metadata": {
        "id": "HtyUe5qnn8iJ"
      },
      "execution_count": null,
      "outputs": []
    },
    {
      "cell_type": "markdown",
      "source": [
        "#### Derivada parcial del error de la salida 2 con respecto a la neurona oculta 1"
      ],
      "metadata": {
        "id": "lFQY_FFtk5-e"
      }
    },
    {
      "cell_type": "code",
      "source": [
        ""
      ],
      "metadata": {
        "id": "yo2ZDzpZn9Tl"
      },
      "execution_count": null,
      "outputs": []
    },
    {
      "cell_type": "markdown",
      "source": [
        "#### Derivada parcial del error total con respecto a la neurona oculta 1"
      ],
      "metadata": {
        "id": "AJhbQknhk_Hv"
      }
    },
    {
      "cell_type": "code",
      "source": [
        ""
      ],
      "metadata": {
        "id": "kI8ASkvnn-IR"
      },
      "execution_count": null,
      "outputs": []
    },
    {
      "cell_type": "markdown",
      "source": [
        "#### Derivada parcial de la salida de la neurona oculta 1 con respecto a la función de activación"
      ],
      "metadata": {
        "id": "fnMWhsKnlDYQ"
      }
    },
    {
      "cell_type": "code",
      "source": [
        ""
      ],
      "metadata": {
        "id": "6ZhIndDrn-zN"
      },
      "execution_count": null,
      "outputs": []
    },
    {
      "cell_type": "markdown",
      "source": [
        "#### Derivada parcial de la función de activación con respecto a la suma"
      ],
      "metadata": {
        "id": "rP2mo-WamMqk"
      }
    },
    {
      "cell_type": "code",
      "source": [
        ""
      ],
      "metadata": {
        "id": "iOxYZ_3Qn_j5"
      },
      "execution_count": null,
      "outputs": []
    },
    {
      "cell_type": "markdown",
      "source": [
        "#### Derivada parcial del error total con respecto al peso 1"
      ],
      "metadata": {
        "id": "EKQQvd0imTh6"
      }
    },
    {
      "cell_type": "code",
      "source": [
        ""
      ],
      "metadata": {
        "id": "7goc81yCoATB"
      },
      "execution_count": null,
      "outputs": []
    },
    {
      "cell_type": "markdown",
      "source": [
        "#### Actualización del peso 1"
      ],
      "metadata": {
        "id": "EPZfw0YpmUN9"
      }
    },
    {
      "cell_type": "code",
      "source": [
        ""
      ],
      "metadata": {
        "id": "mOUmsUHyoBE8"
      },
      "execution_count": null,
      "outputs": []
    },
    {
      "cell_type": "markdown",
      "source": [
        "#### Derivada parcial de la función de activación con respecto a la suma (entrada 2)"
      ],
      "metadata": {
        "id": "4g0slWKymWZM"
      }
    },
    {
      "cell_type": "code",
      "source": [
        ""
      ],
      "metadata": {
        "id": "CQ5BxzlhoCDc"
      },
      "execution_count": null,
      "outputs": []
    },
    {
      "cell_type": "markdown",
      "source": [
        "#### Derivada parcial del error total con respecto al peso 2"
      ],
      "metadata": {
        "id": "-rgvWLXGmbvI"
      }
    },
    {
      "cell_type": "code",
      "source": [
        ""
      ],
      "metadata": {
        "id": "DTi2Ioa2oC7b"
      },
      "execution_count": null,
      "outputs": []
    },
    {
      "cell_type": "markdown",
      "source": [
        "#### Actualización del peso 2"
      ],
      "metadata": {
        "id": "dgAZWm5Dmern"
      }
    },
    {
      "cell_type": "code",
      "source": [
        ""
      ],
      "metadata": {
        "id": "V8oAtXXHoDvz"
      },
      "execution_count": null,
      "outputs": []
    },
    {
      "cell_type": "markdown",
      "source": [
        "#### Derivada parcial de la salida 2"
      ],
      "metadata": {
        "id": "e_QzTDKAmk-E"
      }
    },
    {
      "cell_type": "code",
      "source": [
        ""
      ],
      "metadata": {
        "id": "MuCBZHGJoEuA"
      },
      "execution_count": null,
      "outputs": []
    },
    {
      "cell_type": "code",
      "source": [
        ""
      ],
      "metadata": {
        "id": "XAZpyz6ZoFu3"
      },
      "execution_count": null,
      "outputs": []
    },
    {
      "cell_type": "code",
      "source": [
        ""
      ],
      "metadata": {
        "id": "w0-RPaVroGwl"
      },
      "execution_count": null,
      "outputs": []
    },
    {
      "cell_type": "code",
      "source": [
        ""
      ],
      "metadata": {
        "id": "0xhTU9vBoHNy"
      },
      "execution_count": null,
      "outputs": []
    },
    {
      "cell_type": "code",
      "source": [
        ""
      ],
      "metadata": {
        "id": "x07l_VDWoIzs"
      },
      "execution_count": null,
      "outputs": []
    },
    {
      "cell_type": "code",
      "source": [
        ""
      ],
      "metadata": {
        "id": "WfMIAbhioJqL"
      },
      "execution_count": null,
      "outputs": []
    },
    {
      "cell_type": "code",
      "source": [
        ""
      ],
      "metadata": {
        "id": "8xsT8JJRoKwR"
      },
      "execution_count": null,
      "outputs": []
    },
    {
      "cell_type": "markdown",
      "source": [
        "#### Actualización del peso 3"
      ],
      "metadata": {
        "id": "ASaz1p1ZmxxD"
      }
    },
    {
      "cell_type": "code",
      "source": [
        ""
      ],
      "metadata": {
        "id": "NsfXZFVroMT2"
      },
      "execution_count": null,
      "outputs": []
    },
    {
      "cell_type": "code",
      "source": [
        ""
      ],
      "metadata": {
        "id": "D3Ac3FYDoNQH"
      },
      "execution_count": null,
      "outputs": []
    },
    {
      "cell_type": "code",
      "source": [
        ""
      ],
      "metadata": {
        "id": "wHJPnfyToORF"
      },
      "execution_count": null,
      "outputs": []
    },
    {
      "cell_type": "markdown",
      "source": [
        "#### Actualización del peso 4"
      ],
      "metadata": {
        "id": "jJsX3hUam0jE"
      }
    },
    {
      "cell_type": "code",
      "source": [
        ""
      ],
      "metadata": {
        "id": "R6lezgo6oPCu"
      },
      "execution_count": null,
      "outputs": []
    },
    {
      "cell_type": "markdown",
      "source": [
        "## Actualizamos pesos"
      ],
      "metadata": {
        "id": "4gHUkQvdgxlI"
      }
    },
    {
      "cell_type": "code",
      "source": [
        "w1 = w1_n\n",
        "w2 = w2_n\n",
        "w3 = w3_n\n",
        "w4 = w3_n\n",
        "w5 = w5_n\n",
        "w6 = w6_n\n",
        "w7 = w7_n\n",
        "w8 = w8_n"
      ],
      "metadata": {
        "id": "UFuS4LSzgxGR"
      },
      "execution_count": null,
      "outputs": []
    },
    {
      "cell_type": "markdown",
      "source": [
        "### Reevaluamos salida y error"
      ],
      "metadata": {
        "id": "u_Q0qZzbm7A7"
      }
    },
    {
      "cell_type": "markdown",
      "source": [
        "#### Forward pass"
      ],
      "metadata": {
        "id": "oIrEsf3nm8qy"
      }
    },
    {
      "cell_type": "code",
      "source": [
        ""
      ],
      "metadata": {
        "id": "Rxc9zcpGoSp8"
      },
      "execution_count": null,
      "outputs": []
    },
    {
      "cell_type": "code",
      "source": [
        ""
      ],
      "metadata": {
        "id": "Fc9YqqIWoSjE"
      },
      "execution_count": null,
      "outputs": []
    },
    {
      "cell_type": "code",
      "source": [
        ""
      ],
      "metadata": {
        "id": "gaKwurkGoSbd"
      },
      "execution_count": null,
      "outputs": []
    },
    {
      "cell_type": "code",
      "source": [
        ""
      ],
      "metadata": {
        "id": "ig2PRiX3oST8"
      },
      "execution_count": null,
      "outputs": []
    },
    {
      "cell_type": "code",
      "source": [
        ""
      ],
      "metadata": {
        "id": "8CDqBIG9oSM7"
      },
      "execution_count": null,
      "outputs": []
    },
    {
      "cell_type": "code",
      "source": [
        ""
      ],
      "metadata": {
        "id": "LYsDIvRCoSFL"
      },
      "execution_count": null,
      "outputs": []
    },
    {
      "cell_type": "code",
      "source": [
        ""
      ],
      "metadata": {
        "id": "RyLRbsqDoR8y"
      },
      "execution_count": null,
      "outputs": []
    },
    {
      "cell_type": "code",
      "source": [
        ""
      ],
      "metadata": {
        "id": "J9DwweRNoRt6"
      },
      "execution_count": null,
      "outputs": []
    },
    {
      "cell_type": "markdown",
      "source": [
        "#### Error"
      ],
      "metadata": {
        "id": "poNs3uDBnBtf"
      }
    },
    {
      "cell_type": "code",
      "source": [
        ""
      ],
      "metadata": {
        "id": "jISvpyrDoUUr"
      },
      "execution_count": null,
      "outputs": []
    },
    {
      "cell_type": "code",
      "source": [
        ""
      ],
      "metadata": {
        "id": "L8VJ5DypoUOC"
      },
      "execution_count": null,
      "outputs": []
    },
    {
      "cell_type": "code",
      "source": [
        ""
      ],
      "metadata": {
        "id": "i4QVy7cPoUGO"
      },
      "execution_count": null,
      "outputs": []
    }
  ]
}