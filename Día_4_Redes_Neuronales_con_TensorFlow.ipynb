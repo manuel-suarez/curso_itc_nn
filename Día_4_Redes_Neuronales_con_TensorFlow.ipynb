{
  "nbformat": 4,
  "nbformat_minor": 0,
  "metadata": {
    "colab": {
      "name": "Día 4.- Redes Neuronales con TensorFlow",
      "provenance": [],
      "authorship_tag": "ABX9TyMcD8hyvhbsUbv/GZkNcKFV",
      "include_colab_link": true
    },
    "kernelspec": {
      "name": "python3",
      "display_name": "Python 3"
    },
    "language_info": {
      "name": "python"
    }
  },
  "cells": [
    {
      "cell_type": "markdown",
      "metadata": {
        "id": "view-in-github",
        "colab_type": "text"
      },
      "source": [
        "<a href=\"https://colab.research.google.com/github/manuel-suarez/curso_itc_nn/blob/main/D%C3%ADa_4_Redes_Neuronales_con_TensorFlow.ipynb\" target=\"_parent\"><img src=\"https://colab.research.google.com/assets/colab-badge.svg\" alt=\"Open In Colab\"/></a>"
      ]
    },
    {
      "cell_type": "markdown",
      "source": [
        ""
      ],
      "metadata": {
        "id": "guSBvrxIbIW1"
      }
    },
    {
      "cell_type": "markdown",
      "source": [
        "## Modelos"
      ],
      "metadata": {
        "id": "LrnWVziHbI4w"
      }
    },
    {
      "cell_type": "markdown",
      "source": [
        "### Primer ejemplo"
      ],
      "metadata": {
        "id": "7Quxl5LMjPke"
      }
    },
    {
      "cell_type": "markdown",
      "source": [
        ""
      ],
      "metadata": {
        "id": "--nZM3Qbm2Lt"
      }
    },
    {
      "cell_type": "markdown",
      "source": [
        "### Clasificación de imágenes básica"
      ],
      "metadata": {
        "id": "JCytYKkRbK6k"
      }
    },
    {
      "cell_type": "code",
      "source": [
        ""
      ],
      "metadata": {
        "id": "cJVZrb-wbM9Y"
      },
      "execution_count": null,
      "outputs": []
    },
    {
      "cell_type": "markdown",
      "source": [
        "### Clasificación de texto básica"
      ],
      "metadata": {
        "id": "ekKzS4oxbNbm"
      }
    },
    {
      "cell_type": "code",
      "source": [
        ""
      ],
      "metadata": {
        "id": "UtMrJwQRbPLG"
      },
      "execution_count": null,
      "outputs": []
    },
    {
      "cell_type": "markdown",
      "source": [
        "### Clasificación de texto"
      ],
      "metadata": {
        "id": "QkDFtwEPbPnI"
      }
    },
    {
      "cell_type": "markdown",
      "source": [
        "### Regresión"
      ],
      "metadata": {
        "id": "vboD-mKCbSHA"
      }
    },
    {
      "cell_type": "code",
      "source": [
        ""
      ],
      "metadata": {
        "id": "xzA5oYtsbTfC"
      },
      "execution_count": null,
      "outputs": []
    },
    {
      "cell_type": "markdown",
      "source": [
        "### Sobreajuste y subajuste"
      ],
      "metadata": {
        "id": "HUxPlxOpbUBs"
      }
    },
    {
      "cell_type": "code",
      "source": [
        ""
      ],
      "metadata": {
        "id": "XYa86Tb2bVfG"
      },
      "execution_count": null,
      "outputs": []
    },
    {
      "cell_type": "markdown",
      "source": [
        "### Guardado de modelos"
      ],
      "metadata": {
        "id": "rFDnSHRS9W3L"
      }
    },
    {
      "cell_type": "code",
      "source": [
        ""
      ],
      "metadata": {
        "id": "aqZN_CBI9Ya9"
      },
      "execution_count": null,
      "outputs": []
    }
  ]
}