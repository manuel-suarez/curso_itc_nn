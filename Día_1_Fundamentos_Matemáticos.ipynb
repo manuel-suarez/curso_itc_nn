{
  "nbformat": 4,
  "nbformat_minor": 0,
  "metadata": {
    "colab": {
      "name": "Día 1.- Fundamentos Matemáticos",
      "provenance": [],
      "collapsed_sections": [
        "GPK7xa1rAmjj",
        "NgjGMYgYCrYD",
        "v1__KzsOCtsB",
        "Ie9Ya5SZBrhr",
        "ud5FNwEXDC_V",
        "5EjsgWVuDF20"
      ],
      "authorship_tag": "ABX9TyMHAfAyUdA6vDAleAEtlKDF",
      "include_colab_link": true
    },
    "kernelspec": {
      "name": "python3",
      "display_name": "Python 3"
    },
    "language_info": {
      "name": "python"
    }
  },
  "cells": [
    {
      "cell_type": "markdown",
      "metadata": {
        "id": "view-in-github",
        "colab_type": "text"
      },
      "source": [
        "<a href=\"https://colab.research.google.com/github/manuel-suarez/curso_itc_nn/blob/main/D%C3%ADa_1_Fundamentos_Matem%C3%A1ticos.ipynb\" target=\"_parent\"><img src=\"https://colab.research.google.com/assets/colab-badge.svg\" alt=\"Open In Colab\"/></a>"
      ]
    },
    {
      "cell_type": "markdown",
      "source": [
        "# Fundamentos matemáticos\n",
        "Ejercicios prácticos de los conceptos matemáticos introductorios a redes neuronales"
      ],
      "metadata": {
        "id": "702Kjtf-AeAu"
      }
    },
    {
      "cell_type": "markdown",
      "source": [
        "## Cálculo"
      ],
      "metadata": {
        "id": "GPK7xa1rAmjj"
      }
    },
    {
      "cell_type": "markdown",
      "source": [
        "### Definición de funciones"
      ],
      "metadata": {
        "id": "NgjGMYgYCrYD"
      }
    },
    {
      "cell_type": "markdown",
      "source": [
        "$f_1(x) = x^2$"
      ],
      "metadata": {
        "id": "6xluv-lOISbK"
      }
    },
    {
      "cell_type": "code",
      "execution_count": null,
      "metadata": {
        "id": "3l-7D8aaAKWK"
      },
      "outputs": [],
      "source": [
        "def f_1(x):\n",
        "  pass"
      ]
    },
    {
      "cell_type": "markdown",
      "source": [
        "$f_2(x) = \\frac{\\sin(x)}{x}$"
      ],
      "metadata": {
        "id": "rsOTiVtkITn8"
      }
    },
    {
      "cell_type": "code",
      "source": [
        "def f_2(x):\n",
        "  pass"
      ],
      "metadata": {
        "id": "6Nrs4jOPIX_m"
      },
      "execution_count": null,
      "outputs": []
    },
    {
      "cell_type": "markdown",
      "source": [
        "$f_3(x) = \\frac{1}{2\\pi}e^{\\frac{x^2-\\mu}{\\sigma}}$"
      ],
      "metadata": {
        "id": "bJXVu5oEIplZ"
      }
    },
    {
      "cell_type": "code",
      "source": [
        "def f_3(x):\n",
        "  pass"
      ],
      "metadata": {
        "id": "sk2cDe9XI_XQ"
      },
      "execution_count": null,
      "outputs": []
    },
    {
      "cell_type": "markdown",
      "source": [
        "### Derivación de funciones\n",
        "[Biblioteca SymPy](https://www.sympy.org/en/index.html)"
      ],
      "metadata": {
        "id": "v1__KzsOCtsB"
      }
    },
    {
      "cell_type": "code",
      "source": [
        "from sympy import symbols\n",
        "x = symbols('x')\n",
        "expr = x**2 + x - 1\n",
        "expr"
      ],
      "metadata": {
        "colab": {
          "base_uri": "https://localhost:8080/",
          "height": 39
        },
        "id": "ovB30r3xCxBz",
        "outputId": "91cca904-9fa8-4b8d-8e9b-277849fe35cc"
      },
      "execution_count": 3,
      "outputs": [
        {
          "output_type": "execute_result",
          "data": {
            "text/plain": [
              "x**2 + x - 1"
            ],
            "text/latex": "$\\displaystyle x^{2} + x - 1$"
          },
          "metadata": {},
          "execution_count": 3
        }
      ]
    },
    {
      "cell_type": "code",
      "source": [
        "from sympy import diff\n",
        "diff(expr)"
      ],
      "metadata": {
        "colab": {
          "base_uri": "https://localhost:8080/",
          "height": 39
        },
        "id": "JH3aEUodKik7",
        "outputId": "3600f033-cad4-433b-be41-fe464558ff57"
      },
      "execution_count": 4,
      "outputs": [
        {
          "output_type": "execute_result",
          "data": {
            "text/plain": [
              "2*x + 1"
            ],
            "text/latex": "$\\displaystyle 2 x + 1$"
          },
          "metadata": {},
          "execution_count": 4
        }
      ]
    },
    {
      "cell_type": "markdown",
      "source": [
        "## Algebra Lineal"
      ],
      "metadata": {
        "id": "VoUapHwbBhHu"
      }
    },
    {
      "cell_type": "markdown",
      "source": [
        "### Vectores y matrices\n",
        "[Biblioteca NumPy](https://numpy.org/)"
      ],
      "metadata": {
        "id": "mWMkEt8mC3ep"
      }
    },
    {
      "cell_type": "code",
      "source": [
        "import numpy\n",
        "x = numpy.array([2, 5, 8])\n",
        "x"
      ],
      "metadata": {
        "colab": {
          "base_uri": "https://localhost:8080/"
        },
        "id": "U2pFXoH1BjJd",
        "outputId": "01d31535-bb62-4591-907d-deabd43f4f37"
      },
      "execution_count": 6,
      "outputs": [
        {
          "output_type": "execute_result",
          "data": {
            "text/plain": [
              "array([2, 5, 8])"
            ]
          },
          "metadata": {},
          "execution_count": 6
        }
      ]
    },
    {
      "cell_type": "code",
      "source": [
        "x = numpy.array([[1,2,3], [4,5,6]])\n",
        "x"
      ],
      "metadata": {
        "colab": {
          "base_uri": "https://localhost:8080/"
        },
        "id": "yUjy9iQZLomY",
        "outputId": "196ecae2-38ef-4358-a1c3-76a2ac88ba77"
      },
      "execution_count": 8,
      "outputs": [
        {
          "output_type": "execute_result",
          "data": {
            "text/plain": [
              "array([[1, 2, 3],\n",
              "       [4, 5, 6]])"
            ]
          },
          "metadata": {},
          "execution_count": 8
        }
      ]
    },
    {
      "cell_type": "markdown",
      "source": [
        "### Operaciones con vectores y matrices"
      ],
      "metadata": {
        "id": "sN6X2OkDC5Ro"
      }
    },
    {
      "cell_type": "markdown",
      "source": [
        "#### Suma y resta de vectores y matrices"
      ],
      "metadata": {
        "id": "lzbpCAT8PqiO"
      }
    },
    {
      "cell_type": "code",
      "source": [
        "x, y = pass"
      ],
      "metadata": {
        "id": "L5SRwwGUPqLF"
      },
      "execution_count": null,
      "outputs": []
    },
    {
      "cell_type": "markdown",
      "source": [
        "#### Multiplicación y división elemento a elemento (element-wise)"
      ],
      "metadata": {
        "id": "MJKb4vFHPwm6"
      }
    },
    {
      "cell_type": "code",
      "source": [
        "x, y = pass"
      ],
      "metadata": {
        "id": "Q5_e41L2P2G9"
      },
      "execution_count": null,
      "outputs": []
    },
    {
      "cell_type": "markdown",
      "source": [
        "#### Funciones sobre vectores y matrices"
      ],
      "metadata": {
        "id": "Wp4-LY2uP4uB"
      }
    },
    {
      "cell_type": "code",
      "source": [
        "x = pass\n",
        "y = sin(x)\n",
        "print(y)"
      ],
      "metadata": {
        "colab": {
          "base_uri": "https://localhost:8080/",
          "height": 130
        },
        "id": "BjWW3yl7P71e",
        "outputId": "1382f3a4-5635-4a82-dc61-1db847b5ed60"
      },
      "execution_count": 44,
      "outputs": [
        {
          "output_type": "error",
          "ename": "SyntaxError",
          "evalue": "ignored",
          "traceback": [
            "\u001b[0;36m  File \u001b[0;32m\"<ipython-input-44-012d81688d5b>\"\u001b[0;36m, line \u001b[0;32m1\u001b[0m\n\u001b[0;31m    x = pass\u001b[0m\n\u001b[0m           ^\u001b[0m\n\u001b[0;31mSyntaxError\u001b[0m\u001b[0;31m:\u001b[0m invalid syntax\n"
          ]
        }
      ]
    },
    {
      "cell_type": "markdown",
      "source": [
        "#### Multiplicación de vectores y matrices"
      ],
      "metadata": {
        "id": "6UkCpWXKQDqn"
      }
    },
    {
      "cell_type": "code",
      "source": [
        "x, y = ..."
      ],
      "metadata": {
        "id": "TMHmHvESQF4y"
      },
      "execution_count": null,
      "outputs": []
    },
    {
      "cell_type": "markdown",
      "source": [
        "### Solución de sistemas de ecuaciones\n",
        "$$\n",
        "\\begin{array}{ccc}\n",
        "2x + 3y + 4z & = & 20 \\\\\n",
        "3x - 5y -  z & = & -10 \\\\\n",
        "-x + 2y - 3z & = & -6 \\end{array}\n",
        "$$"
      ],
      "metadata": {
        "id": "yaeubq8XC7hy"
      }
    },
    {
      "cell_type": "markdown",
      "source": [
        "## Probabilidad"
      ],
      "metadata": {
        "id": "jPdirvlhBjaV"
      }
    },
    {
      "cell_type": "markdown",
      "source": [
        "### Distribuciones de probabilidad"
      ],
      "metadata": {
        "id": "8wSkUiwFC_BS"
      }
    },
    {
      "cell_type": "markdown",
      "source": [
        "#### Distribución uniforme\n",
        "[Biblioteca Random](https://docs.python.org/3/library/random.html)"
      ],
      "metadata": {
        "id": "B8tjWXZFSDSA"
      }
    },
    {
      "cell_type": "code",
      "source": [
        ""
      ],
      "metadata": {
        "id": "kCBUNF00BrFS"
      },
      "execution_count": null,
      "outputs": []
    },
    {
      "cell_type": "markdown",
      "source": [
        "[SciPy Statistical Functions](https://docs.scipy.org/doc/scipy/reference/stats.html)"
      ],
      "metadata": {
        "id": "qMMd-kW9UIiy"
      }
    },
    {
      "cell_type": "code",
      "source": [
        ""
      ],
      "metadata": {
        "id": "n4rlazYpUMWh"
      },
      "execution_count": null,
      "outputs": []
    },
    {
      "cell_type": "markdown",
      "source": [
        "## Optimización"
      ],
      "metadata": {
        "id": "Ie9Ya5SZBrhr"
      }
    },
    {
      "cell_type": "markdown",
      "source": [
        "[SciPy](https://docs.scipy.org/doc/scipy/tutorial/optimize.html)\n"
      ],
      "metadata": {
        "id": "ud5FNwEXDC_V"
      }
    },
    {
      "cell_type": "code",
      "source": [
        ""
      ],
      "metadata": {
        "id": "h9TkFrm1Bs-w"
      },
      "execution_count": null,
      "outputs": []
    },
    {
      "cell_type": "markdown",
      "source": [
        "### Ajuste de funciones"
      ],
      "metadata": {
        "id": "5EjsgWVuDF20"
      }
    },
    {
      "cell_type": "code",
      "source": [
        ""
      ],
      "metadata": {
        "id": "FD6UliFkDHe4"
      },
      "execution_count": null,
      "outputs": []
    }
  ]
}